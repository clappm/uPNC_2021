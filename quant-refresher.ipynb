{
 "cells": [
  {
   "cell_type": "code",
   "execution_count": null,
   "metadata": {},
   "outputs": [],
   "source": [
    "import numpy as np\n",
    "import matplotlib.pyplot as plt\n",
    "import seaborn as sns"
   ]
  },
  {
   "cell_type": "markdown",
   "metadata": {},
   "source": [
    "## Scientific functionality with SciPy\n",
    "\n",
    "SciPy is a core module for doing science in Python. There are extensive tutorials online along with a clear API. We will cover a few important use cases for neuroscience research. [SciPy documentation](https://docs.scipy.org/doc/scipy/reference/)"
   ]
  },
  {
   "cell_type": "markdown",
   "metadata": {},
   "source": [
    "# Section A: p-values and hypothesis testing\n",
    "\n",
    "Video: [P-values and significance tests](https://www.khanacademy.org/math/ap-statistics/tests-significance-ap/idea-significance-tests/v/p-values-and-significance-tests) 7:57 [Khan academy video]\n",
    "\n",
    "Self-test question(s):\n",
    "<details>\n",
    "\n",
    "<summary>The p-value is the probability of getting a result at least as extreme as the sample result by chance, assuming what? (assuming the null or the alternative hypothesis?)</summary>\n",
    "\n",
    "the null hypothesis\n",
    "\n",
    "</details>"
   ]
  },
  {
   "cell_type": "markdown",
   "metadata": {},
   "source": [
    "### Examples: performing t-tests\n",
    "\n",
    "A t-test allows you to determine whether two sets of measurements likely arose from distributions with different means. These measurements might be independent sets of measurements (i.e, two groups), or related sets of measurements (i.e. one group performing two tasks)."
   ]
  },
  {
   "cell_type": "code",
   "execution_count": null,
   "metadata": {},
   "outputs": [],
   "source": [
    "import scipy\n",
    "\n",
    "# generate some random data\n",
    "x1 = np.random.normal(0, 1.0, [100]) # mean of 0 and std dev of 1\n",
    "x2 = np.random.normal(0.2, 1.0, [100])  # mean of 0.2 and std dev of 1\n",
    "\n",
    "# for independent data, e.g. two groups of subjects performing the same task \n",
    "t, p = scipy.stats.ttest_ind(x1, x2)\n",
    "print(f\"T: {t}, p: {p}\")\n",
    "\n",
    "# for repeated measurements of the same system, e.g. one subject performs a task with/without a manipulation\n",
    "t, p = scipy.stats.ttest_rel(x1, x2)\n",
    "print(f\"T: {t}, p: {p}\")"
   ]
  },
  {
   "cell_type": "markdown",
   "metadata": {},
   "source": [
    "# Section B: Confidence intervals\n",
    "\n",
    "Video: [Confidence Intervals - Introduction](https://www.youtube.com/watch?v=MbXThbTSrVI) 3:34\n",
    "\n",
    "Self-test question(s):\n",
    "<details>\n",
    "\n",
    "<summary>What does it mean to be 95% confident that an interval captures the true mean?</summary>\n",
    "\n",
    "If we were to take 100 samples of the same size and calculate intervals in the same way as in the first interval, we would expect 95 of these intervals to contain the population mean.\n",
    "\n",
    "</details>"
   ]
  },
  {
   "cell_type": "markdown",
   "metadata": {},
   "source": [
    "# Section C: Z-scores & data standardization\n",
    "\n",
    "Video: [Z-Scores, Standardization, and the Standard Normal Distribution (5.3)](https://www.youtube.com/watch?v=2tuBREK_mgE) 6:56\n",
    "\n",
    "Self-test question(s):\n",
    "<details>\n",
    "\n",
    "<summary>What does it mean for a value to have a Z-score of -2.5?</summary>\n",
    "\n",
    "The value is two and a half standard deviations to the left (less than) of the mean.\n",
    "\n",
    "</details>\n",
    "\n",
    "### Example: Z-scoring to ensure different variables are on a common scale\n",
    "\n",
    "Here we \"standardize\" columns of data by Z-scoring. This gives each data column a common scaling, which can be helpful for comparison purposes."
   ]
  },
  {
   "cell_type": "code",
   "execution_count": null,
   "metadata": {},
   "outputs": [],
   "source": [
    "# generating some fake data\n",
    "X = np.hstack((np.random.normal(0, 1.0, [40, 20]), np.random.normal(0, 3.0, [40,20])))\n",
    "\n",
    "# plot the data\n",
    "ax = sns.heatmap(X, square=True)\n",
    "ax.set_title('Raw data');"
   ]
  },
  {
   "cell_type": "code",
   "execution_count": null,
   "metadata": {},
   "outputs": [],
   "source": [
    "# Standarize along the columns via z-scoring\n",
    "X_z = scipy.stats.zscore(X, )\n",
    "\n",
    "# plot the data\n",
    "ax = sns.heatmap(X_z, square=True)\n",
    "ax.set_title('Z-scored data');"
   ]
  },
  {
   "cell_type": "markdown",
   "metadata": {},
   "source": [
    "# Section D: Bayesian probability: some plots\n",
    "\n",
    "There are no additional videos or questions for this section, since we've already discussed Bayes' theorem. We just wanted to plot an example of what prior and posterior distributions might look like.\n",
    "\n",
    "In this example, we will ask the question \"how fair is a coin?\" Given a coin, which might be weighted to one side, we'd like to know how likely it is that the coin will land on heads each time it is flipped.\n",
    "\n",
    "We will model the coin flip as a Bernoulli process, which has one unknown parameter $p$.\n",
    "\n",
    "The typical \"frequentist\" approach is to flip the coin a large number of times and create a 95% confidence interval for the value of $p$. The 95% confidence interval, however, does *not* mean that there's a 95% chance that the true value of $p$ is in that interval. This is an important interpretational point.\n",
    "\n",
    "The Bayesian approach first has a prior distribution, then combines it with the likelihood function of any newly gathered data, to produce a posterior distribution.\n",
    "\n",
    "A prior distribution is a function that maps from the unknown parameter $p$ to a probability density. In a hand-wavey sense, it basically represents the chance (before you gather data) that any given possible value of $p$ is the true value for the coin. There's no magical way to pick the correct prior distribution, you just have to base it on what could make scientific sense.\n",
    "\n",
    "In this example, I will hand-wave over the actual calculation of the prior/likelihood/posterior, I will simply focus on what the data is, and what the plots look like."
   ]
  },
  {
   "cell_type": "markdown",
   "metadata": {},
   "source": [
    "### Part 1: A prior distribution\n",
    "\n",
    "Let's say that you have some reason to believe that the coin might be biased towards heads, but you're not completely sure. Below might be a reasonable prior distribution.  Notice that it peaks at around a 67% chance of heads."
   ]
  },
  {
   "cell_type": "code",
   "execution_count": null,
   "metadata": {},
   "outputs": [],
   "source": [
    "from scipy.stats import beta\n",
    "\n",
    "x = np.linspace(0, 1, 100)\n",
    "y = beta.pdf(x, 3, 2)\n",
    "\n",
    "plt.plot(x, y)\n",
    "plt.legend(['prior'])\n",
    "plt.title('How fair is the coin?')\n",
    "plt.xlabel('Probability of Heads')\n",
    "plt.ylabel('Density')\n",
    "plt.xlim(0,1)\n",
    "plt.ylim(0)\n",
    "plt.show()"
   ]
  },
  {
   "cell_type": "markdown",
   "metadata": {},
   "source": [
    "### Part 2: Gather some data\n",
    "\n",
    "Let's say that you flip the coin 40 times and get some data. Let's say that 1 = heads, and 0 = tails\n",
    "\n",
    "We can plot the data to see its distribution"
   ]
  },
  {
   "cell_type": "code",
   "execution_count": null,
   "metadata": {},
   "outputs": [],
   "source": [
    "data = [0,1,0,0,1,1,0,0,0,0,0,0,1,0,1,0,0,1,0,0,1,1,0,0,0,1,0,0,1,0,0,0,1,1,0,0,0,0,1,0]"
   ]
  },
  {
   "cell_type": "code",
   "execution_count": null,
   "metadata": {},
   "outputs": [],
   "source": [
    "sns.countplot(x=data)"
   ]
  },
  {
   "cell_type": "markdown",
   "metadata": {},
   "source": [
    "### Part 3: Compute the likelihood function"
   ]
  },
  {
   "cell_type": "code",
   "execution_count": null,
   "metadata": {},
   "outputs": [],
   "source": [
    "tails = data.count(0)\n",
    "heads = data.count(1)"
   ]
  },
  {
   "cell_type": "code",
   "execution_count": null,
   "metadata": {},
   "outputs": [],
   "source": [
    "x = np.linspace(0, 1, 100)\n",
    "y = [p**heads * (1-p)**tails for p in x]\n",
    "\n",
    "plt.plot(x, y)\n",
    "plt.legend(['likelihood'])\n",
    "plt.title('Likelihood Function')\n",
    "plt.xlabel('Probability of Heads')\n",
    "plt.ylabel('p(data)')\n",
    "plt.xlim(0,1)\n",
    "plt.ylim(0)\n",
    "plt.show()"
   ]
  },
  {
   "cell_type": "markdown",
   "metadata": {},
   "source": [
    "It's very common to look at the logarithm of the likelihood function rather than the likelihood function directly, since the likelihood function is usually close to zero for most of its domain (notice the scale of the y-axis in the above graph is 1e-11)."
   ]
  },
  {
   "cell_type": "code",
   "execution_count": null,
   "metadata": {},
   "outputs": [],
   "source": [
    "x = np.linspace(0.01, 0.99, 100)\n",
    "y = [np.log(p)*heads + np.log(1-p)*tails for p in x]\n",
    "\n",
    "plt.plot(x, y)\n",
    "plt.legend(['likelihood'])\n",
    "plt.title('Log-Likelihood Function')\n",
    "plt.xlabel('Probability of Heads')\n",
    "plt.ylabel('ln(p(data))')\n",
    "plt.xlim(0,1)\n",
    "#plt.ylim(0)\n",
    "plt.show()"
   ]
  },
  {
   "cell_type": "markdown",
   "metadata": {},
   "source": [
    "### Part 4: Plot the posterior distribution\n",
    "\n",
    "The posterior distribution indicates that the coin is very likely biased towards tails, based on the combination of prior belief plus new evidence. In this case, the evidence had much more weight than the prior, since we've switched from \"biased towards heads\" to \"biased towards tails\"."
   ]
  },
  {
   "cell_type": "code",
   "execution_count": null,
   "metadata": {},
   "outputs": [],
   "source": [
    "x = np.linspace(0, 1, 100)\n",
    "y = beta.pdf(x, 3, 2)\n",
    "plt.plot(x, y, label='prior')\n",
    "y = beta.pdf(x, 3+heads, 2+tails)\n",
    "plt.plot(x, y, label='posterior')\n",
    "\n",
    "plt.legend()\n",
    "plt.title('How fair is the coin?')\n",
    "plt.xlabel('Probability of Heads')\n",
    "plt.ylabel('Density')\n",
    "plt.xlim(0,1)\n",
    "plt.ylim(0)\n",
    "plt.show()"
   ]
  },
  {
   "cell_type": "markdown",
   "metadata": {},
   "source": [
    "Bonus plot: We can show how the posterior distribution changes gradually when you gather data one flip at a time. The posterior after one flip becomes the prior before the next flip.\n",
    "\n",
    "If we were to continue gathering data, the posterior distribution will become more precise (smaller variance) as we learn more about the true value of $p$."
   ]
  },
  {
   "cell_type": "code",
   "execution_count": null,
   "metadata": {},
   "outputs": [],
   "source": [
    "x = np.linspace(0, 1, 100)\n",
    "\n",
    "for i in range(len(data)+1):\n",
    "    truncated = data[0:i]\n",
    "    y = beta.pdf(x, 3+truncated.count(1), 2+truncated.count(0))\n",
    "    if i == 0:\n",
    "        plt.plot(x, y, color = '#' + str(101010 + i*20101), label='prior')\n",
    "    elif i == 40:\n",
    "        plt.plot(x, y, color = '#' + str(101010 + i*20101), label='posterior')\n",
    "    else:\n",
    "        plt.plot(x, y, color = '#' + str(101010 + i*20101), label='_nolegend_')\n",
    "    \n",
    "plt.legend()\n",
    "plt.title('Evolution from Prior to Posterior')\n",
    "plt.xlabel('Probability of Heads')\n",
    "plt.ylabel('Density')\n",
    "plt.xlim(0,1)\n",
    "plt.ylim(0)\n",
    "plt.show()"
   ]
  },
  {
   "cell_type": "markdown",
   "metadata": {},
   "source": [
    "# Section E: Linear regression (specifically least-squares regression)\n",
    "\n",
    "Video: [Introduction to residuals and least-squares regression](https://www.khanacademy.org/math/ap-statistics/bivariate-data-ap/least-squares-regression/v/regression-residual-intro) 4:48\n",
    "\n",
    "Self-test question(s):\n",
    "<details>\n",
    "\n",
    "<summary>In regression, what is a residual?</summary>\n",
    "\n",
    "A residual is the difference between the y-value of a data point and its y-value as predicted by a regression line.\n",
    "\n",
    "</details>\n",
    "<details>\n",
    "\n",
    "<summary>What do we minimize in least squares regression?</summary>\n",
    "\n",
    "We minimize the sum of the squared residuals.\n",
    "\n",
    "</details>\n",
    "\n",
    "### Example: Performing linear regression using the scikit-learn library"
   ]
  },
  {
   "cell_type": "markdown",
   "metadata": {},
   "source": [
    "### Machine learning with scikit-learn\n",
    "\n",
    "Scikit-learn is the de facto machine learning toolbox for Python (not including deep learning). It also has a fantastic API for exploring what is possible:\n",
    "- https://scikit-learn.org/stable/modules/classes.html\n",
    "\n",
    "Some things you can do:\n",
    "- Linear and nonlinear dimensionality reduction, regression, and classification\n",
    "- Clustering\n",
    "- Fancy types of cross-validation\n",
    "- feature selection \n",
    "- compute lots of different metrics of model performance\n",
    "- implementing new machine learning algorithms using a common object-oriented interface \n",
    "- develop sophisticated and clean pipelines for a reproducible machine learning / data analysis workflow \n",
    "\n",
    "### The following cell contains [an example modified from the scikit-learn website](https://scikit-learn.org/stable/auto_examples/linear_model/plot_ols.html)."
   ]
  },
  {
   "cell_type": "code",
   "execution_count": null,
   "metadata": {},
   "outputs": [],
   "source": [
    "# Code source: Jaques Grobler\n",
    "# License: BSD 3 clause\n",
    "\n",
    "import matplotlib.pyplot as plt\n",
    "import numpy as np\n",
    "from sklearn import datasets, linear_model\n",
    "from sklearn.metrics import mean_squared_error, r2_score"
   ]
  },
  {
   "cell_type": "code",
   "execution_count": null,
   "metadata": {},
   "outputs": [],
   "source": [
    "# Load the diabetes dataset\n",
    "diabetes_X, diabetes_y = datasets.load_diabetes(return_X_y=True)\n",
    "\n",
    "# Use only one X feature\n",
    "diabetes_X = diabetes_X[:, np.newaxis, 2]\n",
    "\n",
    "# Plot the data\n",
    "plt.scatter(diabetes_X, diabetes_y,  color='black')\n",
    "\n",
    "plt.show()"
   ]
  },
  {
   "cell_type": "code",
   "execution_count": null,
   "metadata": {},
   "outputs": [],
   "source": [
    "# Create linear regression object\n",
    "regr = linear_model.LinearRegression()\n",
    "\n",
    "# Train the model\n",
    "regr.fit(diabetes_X, diabetes_y)\n",
    "\n",
    "# Make predictions using the testing set\n",
    "diabetes_y_pred = regr.predict(diabetes_X)\n",
    "\n",
    "# Plot the data again\n",
    "plt.scatter(diabetes_X, diabetes_y,  color='black')\n",
    "# Plot the predicted line in blue\n",
    "plt.plot(diabetes_X, diabetes_y_pred, color='blue', linewidth=3)\n",
    "\n",
    "plt.show()"
   ]
  },
  {
   "cell_type": "code",
   "execution_count": null,
   "metadata": {},
   "outputs": [],
   "source": [
    "# The coefficients\n",
    "print('Coefficients: \\n', regr.coef_)\n",
    "# The intercept\n",
    "print('Intercept: \\n', regr.intercept_)\n",
    "\n",
    "# The mean squared error\n",
    "print('Mean squared error: %.2f'\n",
    "      % mean_squared_error(diabetes_y, diabetes_y_pred))\n",
    "\n",
    "# The coefficient of determination: 1 is perfect prediction\n",
    "print('Coefficient of determination: %.2f'\n",
    "      % r2_score(diabetes_y, diabetes_y_pred))"
   ]
  },
  {
   "cell_type": "markdown",
   "metadata": {},
   "source": [
    "# Section F: Multiple regression\n",
    "\n",
    "Video: [What Is And How To Use A Multiple Regression Equation Model Example](https://www.youtube.com/watch?v=ah-Q79TvBbs) 2:21\n",
    "\n",
    "Self-test question(s):\n",
    "<details>\n",
    "\n",
    "<summary>In multiple regression, do we have multiple response variables, multiple explanatory variables, or both?</summary>\n",
    "\n",
    "We have multiple explanatory variables (and a single response variable).\n",
    "\n",
    "</details>\n",
    "<details>\n",
    "\n",
    "<summary>Why might we use multiple regression as opposed to simple linear regression?</summary>\n",
    "\n",
    "With more explanatory varibles, we may be able to predict the response variable better. Additionally, we can see how each explanatory variable is associated with the response variable. Given the situation, we may also choose to compare the results of a multiple regression to those of a simple linear regression to see whether adding additional explanatory variables actually helps.\n",
    "\n",
    "</details>\n",
    "\n",
    "scikit-learn can be used to do multiple regression easily - instead of providing a 1D vector of x (explanatory) and a vector of y (response) varible values, you can provide a 2D matrix of x values with the y vector."
   ]
  },
  {
   "cell_type": "markdown",
   "metadata": {},
   "source": [
    "# Section G: Clustering\n",
    "\n",
    "This section covers:\n",
    "\n",
    "- The goal of clustering\n",
    "- The concept of unsupervised learning\n",
    "- K-means clustering\n",
    "- Hierarchical clustering\n",
    "\n",
    "First, watch this video: https://www.youtube.com/watch?v=4cxVDUybHrI (length 5:12)\n",
    "\n",
    "Self-test question(s):\n",
    "\n",
    "<details>\n",
    "<summary>What is clustering?</summary>\n",
    "The goal is to take high-dimensional (usually numerical) data, and group the points together into some number of clusters, so that data points within each cluster are similar to each other.\n",
    "</details>\n",
    "\n",
    "<details>\n",
    "<summary>What distinguishes unsupervised learning from other categories of machine learning?</summary>\n",
    "There is no \"reponse class\" in the data. With clustering, the goal is to assign categorical labels to different samples, but you don't have any \"correct\" labels to use as reference. Usually, you don't even know how many categories there are. Compare this to classification, where some of the data points (used for training) have the correct labels already assigned to them.\n",
    "</details>\n",
    "\n",
    "<details>\n",
    "<summary>What parameter do you need to specify for K-means clustering?</summary>\n",
    "You need to specify K, the number of clusters.\n",
    "</details>\n",
    "\n",
    "<details>\n",
    "<summary>In hierarchical clustering, what does a dendrogram show?</summary>\n",
    "The dendrogram shows how smaller clusters combine to form larger clusters. At the base of the dendrogram, each cluster is a single data point, and at the very top, there is only a single cluster containing all data points.\n",
    "</details>\n",
    "\n",
    "<details>\n",
    "<summary>If you have 2D data (X and Y values for each data point) and you multiplied the X values by 10 while keeping the Y values the same, would the clusters remain the same?</summary>\n",
    "Usually not, most clustering algorithms are affected by the scaling of your data.\n",
    "</details>"
   ]
  },
  {
   "cell_type": "code",
   "execution_count": null,
   "metadata": {},
   "outputs": [],
   "source": [
    "import pandas as pd\n",
    "from sklearn.datasets import make_blobs\n",
    "from sklearn.cluster import KMeans"
   ]
  },
  {
   "cell_type": "code",
   "execution_count": null,
   "metadata": {},
   "outputs": [],
   "source": [
    "# generate some fake data\n",
    "features, _ = make_blobs(\n",
    "    n_samples=200,\n",
    "    centers=3,\n",
    "    cluster_std=2.75,\n",
    "    random_state=46\n",
    ")\n",
    "\n",
    "features = pd.DataFrame(features,columns=['x','y'])\n",
    "\n",
    "features"
   ]
  },
  {
   "cell_type": "code",
   "execution_count": null,
   "metadata": {},
   "outputs": [],
   "source": [
    "# plot the data\n",
    "sns.scatterplot(x='x',y='y',data=features);"
   ]
  },
  {
   "cell_type": "markdown",
   "metadata": {},
   "source": [
    "### Part 1: K-means clustering"
   ]
  },
  {
   "cell_type": "code",
   "execution_count": null,
   "metadata": {},
   "outputs": [],
   "source": [
    "# fit the kmeans model with 2 clusters\n",
    "kmeans = KMeans(n_clusters=2, random_state=0).fit(features)"
   ]
  },
  {
   "cell_type": "code",
   "execution_count": null,
   "metadata": {},
   "outputs": [],
   "source": [
    "# plot the data\n",
    "sns.scatterplot(x='x',y='y',hue=kmeans.labels_,data=features);\n",
    "\n",
    "# plot the centroids of the two clusters\n",
    "sns.scatterplot(x=kmeans.cluster_centers_[:,0],y=kmeans.cluster_centers_[:,1],s=500,color='k',marker='x');"
   ]
  },
  {
   "cell_type": "markdown",
   "metadata": {},
   "source": [
    "### Part 2: Hierarchical clustering\n",
    "\n",
    "This will use a type of hierarchical clustering known as agglomerative clustering: clusters start small (individual data points) and are merged together to form bigger and bigger clusters.  This example is adjusted from the [sklearn website](https://scikit-learn.org/stable/auto_examples/cluster/plot_agglomerative_dendrogram.html#sphx-glr-auto-examples-cluster-plot-agglomerative-dendrogram-py)"
   ]
  },
  {
   "cell_type": "code",
   "execution_count": null,
   "metadata": {},
   "outputs": [],
   "source": [
    "import numpy as np\n",
    "from matplotlib import pyplot as plt\n",
    "from scipy.cluster.hierarchy import dendrogram\n",
    "from sklearn.datasets import load_iris\n",
    "from sklearn.cluster import AgglomerativeClustering\n",
    "\n",
    "# helper function to make a plot... just skim this\n",
    "def plot_dendrogram(model, **kwargs):\n",
    "    # Create linkage matrix and then plot the dendrogram\n",
    "\n",
    "    # create the counts of samples under each node\n",
    "    counts = np.zeros(model.children_.shape[0])\n",
    "    n_samples = len(model.labels_)\n",
    "    for i, merge in enumerate(model.children_):\n",
    "        current_count = 0\n",
    "        for child_idx in merge:\n",
    "            if child_idx < n_samples:\n",
    "                current_count += 1  # leaf node\n",
    "            else:\n",
    "                current_count += counts[child_idx - n_samples]\n",
    "        counts[i] = current_count\n",
    "\n",
    "    linkage_matrix = np.column_stack([model.children_, model.distances_,\n",
    "                                      counts]).astype(float)\n",
    "\n",
    "    # Plot the corresponding dendrogram\n",
    "    dendrogram(linkage_matrix, **kwargs)\n",
    "\n",
    "\n",
    "# setting distance_threshold=0 ensures we compute the full tree.\n",
    "model = AgglomerativeClustering(distance_threshold=0, n_clusters=None)\n",
    "\n",
    "model = model.fit(features)\n",
    "plt.title('Hierarchical Clustering Dendrogram')\n",
    "# plot the top three levels of the dendrogram\n",
    "plot_dendrogram(model, truncate_mode='level', p=3)\n",
    "plt.xlabel(\"Number of points in node (or index of point if no parenthesis).\")\n",
    "plt.show()"
   ]
  },
  {
   "cell_type": "code",
   "execution_count": null,
   "metadata": {},
   "outputs": [],
   "source": [
    "# let's pick the top two clusters, and fit an Agglomerative Clustering model with it\n",
    "\n",
    "model = AgglomerativeClustering(n_clusters=2)\n",
    "\n",
    "model = model.fit(features)"
   ]
  },
  {
   "cell_type": "code",
   "execution_count": null,
   "metadata": {},
   "outputs": [],
   "source": [
    "# plot the data\n",
    "# notice the clusters are similar but slightly different\n",
    "sns.scatterplot(x='x', y='y', hue=model.labels_, data=features);"
   ]
  },
  {
   "cell_type": "markdown",
   "metadata": {},
   "source": [
    "# Section H: Dimensionality Reduction and Principal Component Analysis\n",
    "\n",
    "\n",
    "Videos to watch:\n",
    "- [Dimensionality Reduction | Introduction to Data Mining part 14](https://www.youtube.com/watch?v=F37gDOXQWWs) (duration 3:50)\n",
    "- [Geometric intuition of PCA : Dimensionality reduction Lecture 12 @Applied AI Course](https://www.youtube.com/watch?v=ZUbogbEFSkg) (duration 13:47, the first 30 seconds are low resolution for some reason) \n",
    "\n",
    "Bonus videos (watch these on your own time later if you feel like it):\n",
    "- [Dimensionality Reduction - The Math of Intelligence #5](https://www.youtube.com/watch?v=jPmV3j1dAv4) (duration 10:48)\n",
    "- [Principal Component Analysis (PCA)](https://www.youtube.com/watch?v=fkf4IBRSeEc) (duration 13:45)\n",
    "\n",
    "Self-test question(s):\n",
    "\n",
    "<details>\n",
    "<summary>What is the point of dimensionality reduction?</summary>\n",
    "Many answers:\n",
    "    \n",
    "    - to find simple patterns in very complex data\n",
    "    - to reduce the noise in the data\n",
    "    - to make the data easier to visualize\n",
    "    - to prepare the data for use with other data analysis techniques\n",
    "</details>\n",
    "\n",
    "<details>\n",
    "<summary>What does PCA do in a geometric sense?</summary>\n",
    "PCA rotates your data from one coordinate frame to another.  The original coordinate frame is made of the original features of the data, the new coordinate frame is made of the principal components.\n",
    "</details>\n",
    "\n",
    "<details>\n",
    "<summary>Imagine you have 2D data (X and Y values for each data point), where X and Y are positively correlated. You transform the data (X,Y) into its principal components (PC1,PC2).  Are PC1 and PC2 correlated? </summary>\n",
    "No, because PCA creates components that are independent of each other.\n",
    "</details>\n",
    "\n",
    "<details>\n",
    "<summary>How does the variance of PC1 compare to the variance of PC2? </summary>\n",
    "The principal components are defined such that the first component represents the direction with the highest variance.  So the variance of PC1 cannot be smaller than the variance of PC2.\n",
    "</details>\n",
    "\n",
    "<details>\n",
    "<summary>If you have 2D data (X and Y values for each data point) and you multiplied the X values by 10 while keeping the Y values the same, would the PCA components remain the same?</summary>\n",
    "No, because PCA is affected by scaling. If you change the scale of one feature, that changes the variance of that feature and thus the relative importance of that feature compared to others.\n",
    "</details>"
   ]
  },
  {
   "cell_type": "markdown",
   "metadata": {},
   "source": [
    "### Part 1: Example in 2D"
   ]
  },
  {
   "cell_type": "code",
   "execution_count": null,
   "metadata": {},
   "outputs": [],
   "source": [
    "# generate some fake data\n",
    "features, _ = make_blobs(\n",
    "    n_samples=200,\n",
    "    centers=3,\n",
    "    cluster_std=2.75,\n",
    "    random_state=49\n",
    ")\n",
    "features = pd.DataFrame(features,columns=['x1','x2'])"
   ]
  },
  {
   "cell_type": "code",
   "execution_count": null,
   "metadata": {},
   "outputs": [],
   "source": [
    "# plot the data\n",
    "\n",
    "fig = plt.figure(figsize=(7,7))\n",
    "ax = fig.add_subplot(aspect='equal')\n",
    "ax.set_xlim(-20,20)\n",
    "ax.set_ylim(-20,20)\n",
    "ax.set_title('Original Data')\n",
    "sns.scatterplot(x='x1',y='x2',data=features,ax=ax);"
   ]
  },
  {
   "cell_type": "code",
   "execution_count": null,
   "metadata": {},
   "outputs": [],
   "source": [
    "from sklearn.decomposition import PCA\n",
    "\n",
    "pca = PCA()\n",
    "pca.fit(features)"
   ]
  },
  {
   "cell_type": "markdown",
   "metadata": {},
   "source": [
    "A scree plot is a type of plot that shows the tradeoff between the number of data dimensions and the amount of additional information provided by each additional dimension.  The more dimensions you choose to retain, the less each additional dimension contributes to explaining the variation within your data.\n",
    "\n",
    "In the following scree plot, you should see that about 90% of the data variance is explained by a single dimension, while the second dimension only explains the remaining 10%.  So, you could choose to reduce this 2D data to 1D and retain the vast majority of the data's variance."
   ]
  },
  {
   "cell_type": "code",
   "execution_count": null,
   "metadata": {},
   "outputs": [],
   "source": [
    "plt.plot([1,2], pca.explained_variance_ratio_)\n",
    "\n",
    "plt.xticks([1,2])\n",
    "plt.ylim(0,1)\n",
    "plt.xlabel('Component Number')\n",
    "plt.ylabel('Ratio of Variance Explained')\n",
    "plt.title('Scree Plot');"
   ]
  },
  {
   "cell_type": "markdown",
   "metadata": {},
   "source": [
    "It is now possible to plot the pricipal component values for the data.  This is essentially a rotation of the data points from the original coordinate system (where each axis is an observed property) to a new coordinate system (in which each axis is a principal component).  The principal components are ordered based on their importance, so PC1 captures more variation than PC2.  If you had to convert this 2D data into 1D data for some reason, you'd keep the PC1 values and delete the PC2 values."
   ]
  },
  {
   "cell_type": "code",
   "execution_count": null,
   "metadata": {},
   "outputs": [],
   "source": [
    "transformed_features = pd.DataFrame(pca.transform(features), columns=['PC1','PC2'])\n",
    "\n",
    "fig = plt.figure(figsize=(7,7))\n",
    "ax = fig.add_subplot(aspect='equal')\n",
    "ax.set_xlim(-20,20)\n",
    "ax.set_ylim(-20,20)\n",
    "ax.set_title('Transformed Data')\n",
    "sns.scatterplot(x='PC1',y='PC2',data=transformed_features,ax=ax);"
   ]
  },
  {
   "cell_type": "markdown",
   "metadata": {},
   "source": [
    "### Part 2: Example in 3D"
   ]
  },
  {
   "cell_type": "code",
   "execution_count": null,
   "metadata": {},
   "outputs": [],
   "source": [
    "# generate some 3D fake data\n",
    "features, _ = make_blobs(\n",
    "    n_samples=200,\n",
    "    centers=3,\n",
    "    cluster_std=2.75,\n",
    "    random_state=42\n",
    ")\n",
    "features = pd.DataFrame(features,columns=['x1','x2'])\n",
    "features['x3'] = features['x1'] + 0.5 * features['x2'] + 5*np.random.rand(200)\n",
    "\n",
    "features"
   ]
  },
  {
   "cell_type": "code",
   "execution_count": null,
   "metadata": {},
   "outputs": [],
   "source": [
    "fig = plt.figure(figsize=((7,7)))\n",
    "ax = fig.add_subplot(projection='3d')\n",
    "ax.scatter(features['x1'],features['x2'],features['x3'])\n",
    "ax.set_xlabel('x1')\n",
    "ax.set_ylabel('x2')\n",
    "ax.set_zlabel('x3');"
   ]
  },
  {
   "cell_type": "code",
   "execution_count": null,
   "metadata": {},
   "outputs": [],
   "source": [
    "pca = PCA()\n",
    "pca.fit(features)"
   ]
  },
  {
   "cell_type": "code",
   "execution_count": null,
   "metadata": {},
   "outputs": [],
   "source": [
    "plt.plot([1,2,3], pca.explained_variance_ratio_)\n",
    "\n",
    "plt.xticks([1,2,3])\n",
    "plt.ylim(0,1)\n",
    "plt.xlabel('Component Number')\n",
    "plt.ylabel('Ratio of Variance Explained')\n",
    "plt.title('Scree Plot')"
   ]
  },
  {
   "cell_type": "markdown",
   "metadata": {},
   "source": [
    "Based on this scree plot, the data is almost entirely 2-dimensional, so we can reduce it from 3D to 2D and retain almost all of the useful information in the data."
   ]
  },
  {
   "cell_type": "code",
   "execution_count": null,
   "metadata": {},
   "outputs": [],
   "source": [
    "transformed_features = pd.DataFrame(pca.transform(features), columns=['PC1','PC2','PC3'])\n",
    "\n",
    "fig = plt.figure(figsize=(7,7))\n",
    "ax = fig.add_subplot(aspect='equal')\n",
    "ax.set_xlim(-25,25)\n",
    "ax.set_ylim(-25,25)\n",
    "ax.set_title('Transformed Data')\n",
    "sns.scatterplot(x='PC1',y='PC2',data=transformed_features,ax=ax);"
   ]
  },
  {
   "cell_type": "markdown",
   "metadata": {},
   "source": [
    "Let's delete the 3rd principal component entirely"
   ]
  },
  {
   "cell_type": "code",
   "execution_count": null,
   "metadata": {},
   "outputs": [],
   "source": [
    "transformed_features['PC3'] = 0"
   ]
  },
  {
   "cell_type": "markdown",
   "metadata": {},
   "source": [
    "If we then perform the reverse transformation, we'll see that the reconstructed data (which is now a 2D plane in 3D space) still looks similar to the original data.  We deleted an entire dimension while keeping most of the information."
   ]
  },
  {
   "cell_type": "code",
   "execution_count": null,
   "metadata": {},
   "outputs": [],
   "source": [
    "inverse = pd.DataFrame(pca.inverse_transform(transformed_features), columns=['x1','x2','x3'])\n",
    "\n",
    "fig = plt.figure(figsize=((7,7)))\n",
    "ax = fig.add_subplot(projection='3d')\n",
    "ax.scatter(inverse['x1'],inverse['x2'],inverse['x3'])\n",
    "ax.set_xlabel('x1')\n",
    "ax.set_ylabel('x2')\n",
    "ax.set_zlabel('x3');"
   ]
  },
  {
   "cell_type": "markdown",
   "metadata": {},
   "source": [
    "# Section I: Classification\n",
    "\n",
    "Video: [Introduction to Classification Models](https://www.youtube.com/watch?v=8TuRJg76sW8) 2:45\n",
    "\n",
    "Self-test question(s):\n",
    "<details>\n",
    "\n",
    "<summary>What does it mean that classification models are \"supervised\"?</summary>\n",
    "\n",
    "The data that classification models learn from are \"labeled\" - the \"true\" classes associated with input data are provided for training the model.\n",
    "\n",
    "</details>\n",
    "\n",
    "## The following cell contains [an example modified from the scikit-learn website](https://scikit-learn.org/stable/auto_examples/linear_model/plot_iris_logistic.html#sphx-glr-auto-examples-linear-model-plot-iris-logistic-py).\n",
    "\n",
    "The specific type of classifier used in the following example is a logistic regression classifier."
   ]
  },
  {
   "cell_type": "code",
   "execution_count": 3,
   "metadata": {},
   "outputs": [],
   "source": [
    "# Code source: Gaël Varoquaux\n",
    "# Modified for documentation by Jaques Grobler\n",
    "# License: BSD 3 clause\n",
    "\n",
    "import numpy as np\n",
    "import matplotlib.pyplot as plt\n",
    "from sklearn.linear_model import LogisticRegression\n",
    "from sklearn import datasets"
   ]
  },
  {
   "cell_type": "code",
   "execution_count": 4,
   "metadata": {},
   "outputs": [
    {
     "data": {
      "image/png": "[encoded data removed]",
      "text/plain": [
       "<Figure size 432x288 with 1 Axes>"
      ]
     },
     "metadata": {
      "needs_background": "light"
     },
     "output_type": "display_data"
    }
   ],
   "source": [
    "# import some data to play with\n",
    "iris = datasets.load_iris()\n",
    "X = iris.data[:, :2]  # we only take the first two features.\n",
    "Y = iris.target\n",
    "\n",
    "# plot the data\n",
    "\n",
    "# Plot also the training points\n",
    "plt.scatter(X[:, 0], X[:, 1], c=Y, edgecolors='k', cmap=plt.cm.Paired)\n",
    "plt.xlabel('Sepal length')\n",
    "plt.ylabel('Sepal width')\n",
    "\n",
    "plt.show()"
   ]
  },
  {
   "cell_type": "code",
   "execution_count": 5,
   "metadata": {},
   "outputs": [
    {
     "data": {
      "image/png": "[encoded data removed]",
      "text/plain": [
       "<Figure size 288x216 with 1 Axes>"
      ]
     },
     "metadata": {},
     "output_type": "display_data"
    }
   ],
   "source": [
    "# Create an instance of Logistic Regression Classifier and fit the data.\n",
    "logreg = LogisticRegression(C=1e5)\n",
    "logreg.fit(X, Y)\n",
    "\n",
    "\n",
    "# This is code to plot the decision boundary as colored regions.\n",
    "# For that, we will assign a color to each\n",
    "# point in the mesh [x_min, x_max]x[y_min, y_max].\n",
    "x_min, x_max = X[:, 0].min() - .5, X[:, 0].max() + .5\n",
    "y_min, y_max = X[:, 1].min() - .5, X[:, 1].max() + .5\n",
    "h = .02  # step size in the mesh\n",
    "xx, yy = np.meshgrid(np.arange(x_min, x_max, h), np.arange(y_min, y_max, h))\n",
    "Z = logreg.predict(np.c_[xx.ravel(), yy.ravel()])\n",
    "\n",
    "\n",
    "# Put the result into a color plot\n",
    "Z = Z.reshape(xx.shape)\n",
    "plt.figure(1, figsize=(4, 3))\n",
    "plt.pcolormesh(xx, yy, Z, cmap=plt.cm.Paired, shading='auto')\n",
    "\n",
    "\n",
    "# Plot also the training points\n",
    "plt.scatter(X[:, 0], X[:, 1], c=Y, edgecolors='k', cmap=plt.cm.Paired)\n",
    "plt.xlabel('Sepal length')\n",
    "plt.ylabel('Sepal width')\n",
    "\n",
    "\n",
    "plt.xlim(xx.min(), xx.max())\n",
    "plt.ylim(yy.min(), yy.max())\n",
    "plt.xticks(())\n",
    "plt.yticks(())\n",
    "\n",
    "plt.show()"
   ]
  },
  {
   "cell_type": "markdown",
   "metadata": {},
   "source": [
    "# Section J: Introduction to artificial neural networks (ANNs)\n",
    "\n",
    "Video: [Neural Network In 5 Minutes | What Is A Neural Network? | How Neural Networks Work | Simplilearn](https://www.youtube.com/watch?v=bfmFfD2RIcg) 5:44\n",
    "\n",
    "Self-test question(s):\n",
    "<details>\n",
    "\n",
    "<summary>What does a neural network adjust during learning to increase performance?</summary>\n",
    "\n",
    "A neural network adjusts weights between nodes in its different layers according to errors during learning.\n",
    "\n",
    "</details>\n",
    "\n",
    "### Example link: [Performing classification using the pytorch library](https://pytorch.org/tutorials/beginner/blitz/cifar10_tutorial.html#sphx-glr-beginner-blitz-cifar10-tutorial-py)*\n",
    "\n",
    "*The example link above is just to give you an idea of how using pytorch might look. You don't have to look at it closely. Please read the description of pytoch in the following cell though."
   ]
  },
  {
   "cell_type": "markdown",
   "metadata": {},
   "source": [
    "## Deep learning with pytorch\n",
    "\n",
    "Most deep learning research in 2020 is done in Python using either PyTorch or Tensorflow. Most researchers (definitely at CMU) prefer PyTorch due to its more intuitive native interface (but see Keras for Tensorflow), more flexible dynamic graphs, and resultingly easier debugging experience. Industry tends to prefer Tensorflow since the static graphs run faster under certain circumstances. Both are highly capable. \n",
    "\n",
    "Pytorch is capable of:\n",
    "- accelerating parallel computation by using a graphics processing card, with a very similar interface to numpy \n",
    "- training deep convolutional neural networks for computer vision tasks\n",
    "- training recurrent neural networks for natural language processing and other dynamic tasks\n",
    "- implementing state-of-the-art machine learning code, since so many researchers release their code publicly in PyTorch, and new important contributions are quickly incorporated into the pytorch API\n",
    "\n",
    "We will cover pytorch in a future exercise. Feel free to check it out on your own time, too. "
   ]
  },
  {
   "cell_type": "markdown",
   "metadata": {},
   "source": [
    "# Section K: Point Processes\n",
    "\n",
    "Watch this video: https://www.dropbox.com/s/ani888e7hhydn4q/5extraPointProcesses.mp4?dl=0 (length 6:09\n",
    "\n",
    "Self-test question(s):\n",
    "\n",
    "<details>\n",
    "<summary>What are the various ways of representing data from a point process?</summary>\n",
    "The answers:\n",
    "    \n",
    "    - a list of event times\n",
    "    - a list of inter-event intervals\n",
    "    - event counts (a function which increases over time)\n",
    "</details>\n",
    "\n",
    "<details>\n",
    "<summary>How can you represent point process data in a more discrete manner?</summary>\n",
    "You can represent it as a binary sequence by binning the original data into many short time intervals, and let 0 = no spike in that interval and 1 = yes a spike in that interval.\n",
    "</details>"
   ]
  },
  {
   "cell_type": "markdown",
   "metadata": {},
   "source": [
    "Imagine we recorded from a neuron for 1000 seconds (1000000 milliseconds) and the neuron had a 0.1% chance of spiking during each millisecond. This creates a binary time series which is similar to a poisson process."
   ]
  },
  {
   "cell_type": "code",
   "execution_count": 6,
   "metadata": {},
   "outputs": [],
   "source": [
    "# first neuron data\n",
    "first_neuron = (np.random.uniform(size=1000000) < 0.001).astype(int)"
   ]
  },
  {
   "cell_type": "code",
   "execution_count": 7,
   "metadata": {},
   "outputs": [
    {
     "data": {
      "text/plain": [
       "Text(0.5, 0, 'time in milliseconds')"
      ]
     },
     "execution_count": 7,
     "metadata": {},
     "output_type": "execute_result"
    },
    {
     "data": {
      "image/png": "[encoded data removed]",
      "text/plain": [
       "<Figure size 432x288 with 1 Axes>"
      ]
     },
     "metadata": {
      "needs_background": "light"
     },
     "output_type": "display_data"
    }
   ],
   "source": [
    "# plot the first 10 seconds of data\n",
    "plt.plot(first_neuron[:10000])\n",
    "plt.xlabel('time in milliseconds')"
   ]
  },
  {
   "cell_type": "code",
   "execution_count": 8,
   "metadata": {},
   "outputs": [],
   "source": [
    "# now we want to count how many times the neuron spikes during each second\n",
    "first_neuron_counts = np.array([second.sum() for second in np.split(first_neuron, 1000)])"
   ]
  },
  {
   "cell_type": "code",
   "execution_count": 10,
   "metadata": {},
   "outputs": [
    {
     "data": {
      "image/png": "[encoded data removed]",
      "text/plain": [
       "<Figure size 432x288 with 1 Axes>"
      ]
     },
     "metadata": {
      "needs_background": "light"
     },
     "output_type": "display_data"
    }
   ],
   "source": [
    "# histogram creates the (approximate) poisson distribution\n",
    "import seaborn as sns\n",
    "\n",
    "ax = sns.histplot(first_neuron_counts, bins=np.arange(30), stat='probability').set_xlabel('# of spikes in a second')"
   ]
  },
  {
   "cell_type": "markdown",
   "metadata": {},
   "source": [
    "Now imagine that we had a neuron which had a 0.3% chance of spiking during each millisecond."
   ]
  },
  {
   "cell_type": "code",
   "execution_count": 11,
   "metadata": {},
   "outputs": [
    {
     "data": {
      "text/plain": [
       "Text(0.5, 0, 'time in milliseconds')"
      ]
     },
     "execution_count": 11,
     "metadata": {},
     "output_type": "execute_result"
    },
    {
     "data": {
      "image/png": "[encoded data removed]",
      "text/plain": [
       "<Figure size 432x288 with 1 Axes>"
      ]
     },
     "metadata": {
      "needs_background": "light"
     },
     "output_type": "display_data"
    }
   ],
   "source": [
    "# second neuron data\n",
    "second_neuron = (np.random.uniform(size=1000000) < 0.003).astype(int)\n",
    "# plot the first 10 seconds of data\n",
    "plt.plot(second_neuron[:10000])\n",
    "plt.xlabel('time in milliseconds')"
   ]
  },
  {
   "cell_type": "code",
   "execution_count": 12,
   "metadata": {},
   "outputs": [
    {
     "data": {
      "image/png": "[encoded data removed]",
      "text/plain": [
       "<Figure size 432x288 with 1 Axes>"
      ]
     },
     "metadata": {
      "needs_background": "light"
     },
     "output_type": "display_data"
    }
   ],
   "source": [
    "# now we want to count how many times the neuron spikes during each second\n",
    "second_neuron_counts = np.array([second.sum() for second in np.split(second_neuron, 1000)])\n",
    "# histogram creates the (approximate) poisson distribution\n",
    "ax = sns.histplot(second_neuron_counts, bins=np.arange(30), stat='probability').set_xlabel('# of spikes in a second')"
   ]
  },
  {
   "cell_type": "markdown",
   "metadata": {},
   "source": [
    "Now imagine that we had final neuron which had a 1.0% chance of spiking during each millisecond."
   ]
  },
  {
   "cell_type": "code",
   "execution_count": 13,
   "metadata": {},
   "outputs": [
    {
     "data": {
      "text/plain": [
       "Text(0.5, 0, 'time in milliseconds')"
      ]
     },
     "execution_count": 13,
     "metadata": {},
     "output_type": "execute_result"
    },
    {
     "data": {
      "image/png": "[encoded data removed]",
      "text/plain": [
       "<Figure size 432x288 with 1 Axes>"
      ]
     },
     "metadata": {
      "needs_background": "light"
     },
     "output_type": "display_data"
    }
   ],
   "source": [
    "# third neuron data\n",
    "third_neuron = (np.random.uniform(size=1000000) < 0.01).astype(int)\n",
    "# plot the first 10 seconds of data\n",
    "plt.plot(third_neuron[:10000])\n",
    "plt.xlabel('time in milliseconds')"
   ]
  },
  {
   "cell_type": "code",
   "execution_count": 14,
   "metadata": {},
   "outputs": [
    {
     "data": {
      "image/png": "[encoded data removed]",
      "text/plain": [
       "<Figure size 432x288 with 1 Axes>"
      ]
     },
     "metadata": {
      "needs_background": "light"
     },
     "output_type": "display_data"
    }
   ],
   "source": [
    "# now we want to count how many times the neuron spikes during each second\n",
    "third_neuron_counts = np.array([second.sum() for second in np.split(third_neuron, 1000)])\n",
    "# histogram creates the (approximate) poisson distribution\n",
    "ax = sns.histplot(third_neuron_counts, bins=np.arange(30), stat='probability').set_xlabel('# of spikes in a second')"
   ]
  },
  {
   "cell_type": "markdown",
   "metadata": {},
   "source": [
    "In Poisson-like point processes, the variance in the data increases as the mean increases.  With a perfect Poisson process, the variance in the number of spikes in a second is exactly equal to the expected value for the number of spikes in a second."
   ]
  },
  {
   "cell_type": "code",
   "execution_count": 15,
   "metadata": {},
   "outputs": [
    {
     "data": {
      "image/png": "[encoded data removed]",
      "text/plain": [
       "<Figure size 432x288 with 1 Axes>"
      ]
     },
     "metadata": {
      "needs_background": "light"
     },
     "output_type": "display_data"
    }
   ],
   "source": [
    "means = [\n",
    "    first_neuron_counts.mean(),\n",
    "    second_neuron_counts.mean(),\n",
    "    third_neuron_counts.mean()\n",
    "]\n",
    "\n",
    "variances = [\n",
    "    first_neuron_counts.var(),\n",
    "    second_neuron_counts.var(),\n",
    "    third_neuron_counts.var()\n",
    "]\n",
    "\n",
    "plt.plot(means,variances,marker='o')\n",
    "plt.xlim(0)\n",
    "plt.ylim(0)\n",
    "plt.xlabel('mean')\n",
    "plt.ylabel('variance');"
   ]
  },
  {
   "cell_type": "code",
   "execution_count": null,
   "metadata": {},
   "outputs": [],
   "source": []
  }
 ],
 "metadata": {
  "kernelspec": {
   "display_name": "Python 3",
   "language": "python",
   "name": "python3"
  },
  "language_info": {
   "codemirror_mode": {
    "name": "ipython",
    "version": 3
   },
   "file_extension": ".py",
   "mimetype": "text/x-python",
   "name": "python",
   "nbconvert_exporter": "python",
   "pygments_lexer": "ipython3",
   "version": "3.7.7"
  }
 },
 "nbformat": 4,
 "nbformat_minor": 4
}
