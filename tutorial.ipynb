{
 "cells": [
  {
   "cell_type": "markdown",
   "metadata": {},
   "source": [
    "# Introduction to Python\n",
    "by Nick Blauch, Matt Clapp, and Jack Burgess"
   ]
  },
  {
   "cell_type": "markdown",
   "metadata": {},
   "source": [
    "Python is one of the most popular general purpose programming languages, and it has also been developed to serve as a complete replacement for numerical computing languages like MATLAB. It is also excellent for neuroscience, cognitive psychology, statistics, and machine learning research with many of the best packages for these fields freely available and open-source. \n",
    "\n",
    "In this tutorial we will cover some of the basic principles of programming in Python, along with simple use cases for some of the most useful packages for scientific computing. However, **this is not a complete tutorial on Python and we can only scratch the surface here**. We encourage you to do a lot more research on your own time - hopefully this helps you navigate the waters a bit!"
   ]
  },
  {
   "cell_type": "markdown",
   "metadata": {},
   "source": [
    "## General themes \n",
    "\n",
    "- Python is an object-oriented language\n",
    "    - this means that \"objects\" - defined by their class methods and properties - are given a special status in Python. They are, according to the Python creator Guido van Rossum, \"first class\"\n",
    "    - further, EVERYTHING is an object - even functions and types! \n",
    "    - the object-oriented paradigm has many advantages, allowing you to take advantage of concepts such as inheritance and encapsulation, which we will discuss later\n",
    "    - further, working with certain packages (e.g. scikit-learn, pytorch) often requires you to define new object classes that inherit from base classes defined in the package\n",
    "    - however, it is not *necessary* to write Python code in an object-oriented manner - for some applications, Matlab/R-style scripting with separate functions will be perfectly fine\n",
    "- There are several ways to execute Python code. \n",
    "    - You can see the setup guide we developed for more information on that. \n",
    "    - For the UPNC we will be using JupyterLab and primarily Jupyter Notebooks. \n",
    "    - When it comes to writing code to do more intensive analyses, or for larger projects, we do not recommend Jupyter Notebooks. Rather, you should write Python files that can depend on each other, allowing you to cleanly organize your code."
   ]
  },
  {
   "cell_type": "markdown",
   "metadata": {},
   "source": [
    "## What Jupyter notebooks are and are not:"
   ]
  },
  {
   "cell_type": "markdown",
   "metadata": {},
   "source": [
    "Jupyter notebooks are a great tool for:\n",
    "- simple analyses\n",
    "- prototyping new analyses\n",
    "- visualizing your data\n",
    "- developing interactive exercises and tutorials\n",
    "\n",
    "Jupyter notebooks are not:\n",
    "- a complete replacement for .py files\n",
    "- easily tracked with version control (since their underlying representation is not simply human-readable text\n",
    "- meant for intense analyses that need to maximally take advantage of parallel computation\n",
    "\n",
    "Now that we know what Jupyter Notebooks are and are not, we can take advantage of their amazing functionality and ease-of-use for this tutorial. We will also be using them for many of the exercises to come in the uPNC."
   ]
  },
  {
   "cell_type": "markdown",
   "metadata": {},
   "source": [
    "## Variables and different built in object types\n",
    "\n",
    "Let's start by covering the basic variable types, how to use them, and some simple operations that can be done on them."
   ]
  },
  {
   "cell_type": "code",
   "execution_count": 1,
   "metadata": {},
   "outputs": [
    {
     "name": "stdout",
     "output_type": "stream",
     "text": [
      "<class 'int'>\n",
      "12.0\n",
      "<class 'float'>\n"
     ]
    }
   ],
   "source": [
    "# we can store values in variables\n",
    "a = 12 # defaults to int\n",
    "# we can do some math on those variables\n",
    "b = a*12\n",
    "print(type(b))\n",
    "# in Python 3, division automatically converts to float\n",
    "print(b/12)\n",
    "print(type(b/12))"
   ]
  },
  {
   "cell_type": "markdown",
   "metadata": {},
   "source": [
    "### Multi-element arrays: lists and tuples"
   ]
  },
  {
   "cell_type": "code",
   "execution_count": 2,
   "metadata": {},
   "outputs": [
    {
     "name": "stdout",
     "output_type": "stream",
     "text": [
      "[12, 14, 12, 144]\n",
      "[[12, 14, 12, 144], [12, 14, 12, 144]]\n",
      "[[12, 14, 12, 144], [12, 14, 12, 144]]\n"
     ]
    }
   ],
   "source": [
    "# we can store multiple values in a list\n",
    "my_list = [12, 14, a, b]\n",
    "print(my_list)\n",
    "# we can compose a list of lists\n",
    "my_double_list = [my_list, my_list]\n",
    "print(my_double_list)\n",
    "my_list = [12, 14]\n",
    "print(my_double_list)"
   ]
  },
  {
   "cell_type": "code",
   "execution_count": 3,
   "metadata": {},
   "outputs": [
    {
     "name": "stdout",
     "output_type": "stream",
     "text": [
      "12\n",
      "14\n",
      "[12, 14]\n"
     ]
    }
   ],
   "source": [
    "# indexing into lists - \n",
    "first_element = my_list[0] # Python is 0-based\n",
    "last_element = my_list[-1] #the last element can be acquired with index -1\n",
    "# we can use colon indexing to get multiple variables. \n",
    "first_two_elements = my_list[0:2] # last index is given by last number - 1\n",
    "print(first_element)\n",
    "print(last_element)\n",
    "print(first_two_elements)"
   ]
  },
  {
   "cell_type": "code",
   "execution_count": 4,
   "metadata": {},
   "outputs": [],
   "source": [
    "# tuples are another form of multi-element array created with () notation\n",
    "my_tuple = (12, 14.0) # like lists, they can store elements of different types"
   ]
  },
  {
   "cell_type": "markdown",
   "metadata": {},
   "source": [
    "### Mutability\n",
    "\n",
    "Mutability is an important concept and defines the difference between lists and tuples.\n",
    "\n",
    "- Mutable objects can be changed after creation\n",
    "    - built-in types: list, dict, set\n",
    "- Immutable objects cannot be changed after creation\n",
    "    - built-in types: int, float, complex, string, tuple, frozen set\n"
   ]
  },
  {
   "cell_type": "code",
   "execution_count": 5,
   "metadata": {},
   "outputs": [
    {
     "name": "stdout",
     "output_type": "stream",
     "text": [
      "[12, 14, 12]\n",
      "[12, 14, 100]\n"
     ]
    }
   ],
   "source": [
    "# if we construct a list including int objects, changing value of the pointer to the int object won't affect the int in the list, which is immutable\n",
    "a = 12\n",
    "my_list = [12, 14, a]\n",
    "a = 100\n",
    "print(my_list)\n",
    "# however the list itself can be modified\n",
    "my_list[-1] = a\n",
    "print(my_list)"
   ]
  },
  {
   "cell_type": "code",
   "execution_count": 6,
   "metadata": {},
   "outputs": [
    {
     "name": "stdout",
     "output_type": "stream",
     "text": [
      "(12, 14, 100)\n"
     ]
    },
    {
     "ename": "TypeError",
     "evalue": "'tuple' object does not support item assignment",
     "output_type": "error",
     "traceback": [
      "\u001b[0;31m---------------------------------------------------------------------------\u001b[0m",
      "\u001b[0;31mTypeError\u001b[0m                                 Traceback (most recent call last)",
      "\u001b[0;32m<ipython-input-6-09a7650222d8>\u001b[0m in \u001b[0;36m<module>\u001b[0;34m()\u001b[0m\n\u001b[1;32m      2\u001b[0m \u001b[0mmy_tuple\u001b[0m \u001b[0;34m=\u001b[0m \u001b[0;34m(\u001b[0m\u001b[0;36m12\u001b[0m\u001b[0;34m,\u001b[0m \u001b[0;36m14\u001b[0m\u001b[0;34m,\u001b[0m \u001b[0ma\u001b[0m\u001b[0;34m)\u001b[0m\u001b[0;34m\u001b[0m\u001b[0;34m\u001b[0m\u001b[0m\n\u001b[1;32m      3\u001b[0m \u001b[0mprint\u001b[0m\u001b[0;34m(\u001b[0m\u001b[0mmy_tuple\u001b[0m\u001b[0;34m)\u001b[0m\u001b[0;34m\u001b[0m\u001b[0;34m\u001b[0m\u001b[0m\n\u001b[0;32m----> 4\u001b[0;31m \u001b[0mmy_tuple\u001b[0m\u001b[0;34m[\u001b[0m\u001b[0;34m-\u001b[0m\u001b[0;36m1\u001b[0m\u001b[0;34m]\u001b[0m \u001b[0;34m=\u001b[0m \u001b[0;36m12\u001b[0m \u001b[0;31m# can't change elements of a tuple!\u001b[0m\u001b[0;34m\u001b[0m\u001b[0;34m\u001b[0m\u001b[0m\n\u001b[0m",
      "\u001b[0;31mTypeError\u001b[0m: 'tuple' object does not support item assignment"
     ]
    }
   ],
   "source": [
    "# Python also has tuples, which are immutable. replace [] of lists with () for tuple\n",
    "my_tuple = (12, 14, a)\n",
    "print(my_tuple)\n",
    "my_tuple[-1] = 12 # can't change elements of a tuple! "
   ]
  },
  {
   "cell_type": "markdown",
   "metadata": {},
   "source": [
    "### Dictionaries\n",
    "\n",
    "Dictionaries are one of the most useful built-in types in Python. \n",
    "\n",
    "They are essentially look up tables of key:value pairs.\n",
    "\n",
    "In new versions of Python, all dictionaries are ordered"
   ]
  },
  {
   "cell_type": "code",
   "execution_count": 92,
   "metadata": {},
   "outputs": [
    {
     "name": "stdout",
     "output_type": "stream",
     "text": [
      "computational neuroscience\n",
      "\n"
     ]
    }
   ],
   "source": [
    "# dictionaries can be created with curly bracket syntax or the built-in dict function\n",
    "my_dict = {'best_language': 'Python', 'best_research_field': 'computational neuroscience'}\n",
    "my_dict_2 = dict(best_language='Python', best_research_field='computational neuroscience')\n",
    "# and we can index into values using square brackets indexed by the key\n",
    "print(my_dict['best_research_field'])\n",
    "print()"
   ]
  },
  {
   "cell_type": "code",
   "execution_count": 93,
   "metadata": {},
   "outputs": [
    {
     "name": "stdout",
     "output_type": "stream",
     "text": [
      "best_language\n",
      "best_research_field\n"
     ]
    }
   ],
   "source": [
    "# we can loop over dictionary values\n",
    "for val in my_dict:\n",
    "    print(val)"
   ]
  },
  {
   "cell_type": "code",
   "execution_count": 94,
   "metadata": {},
   "outputs": [
    {
     "name": "stdout",
     "output_type": "stream",
     "text": [
      "best_language: val\n",
      "best_research_field: val\n"
     ]
    }
   ],
   "source": [
    "# using .items() gives both the key and value for each iteration\n",
    "for key, val in my_dict.items():\n",
    "    print(f'{key}: val')"
   ]
  },
  {
   "cell_type": "code",
   "execution_count": 95,
   "metadata": {},
   "outputs": [
    {
     "name": "stdout",
     "output_type": "stream",
     "text": [
      "0-th item is best_language: Python\n",
      "1-th item is best_research_field: computational neuroscience\n"
     ]
    }
   ],
   "source": [
    "# remember we can use enumerate to get the index, too\n",
    "for ii, (key, val) in enumerate(my_dict.items()):\n",
    "    print(f'{ii}-th item is {key}: {val}')\n",
    "    "
   ]
  },
  {
   "cell_type": "code",
   "execution_count": 96,
   "metadata": {},
   "outputs": [
    {
     "name": "stdout",
     "output_type": "stream",
     "text": [
      "{'Python': 'best_language', 'computational neuroscience': 'best_research_field'}\n"
     ]
    }
   ],
   "source": [
    "# dictionary comprehensions are also possible, similar to list comprehensions\n",
    "inverse_dict = {val: key for key, val in my_dict.items()}\n",
    "print(inverse_dict)"
   ]
  },
  {
   "cell_type": "markdown",
   "metadata": {},
   "source": [
    "## Basics of object-oriented programming - skip most of\n",
    "\n",
    "In object-oriented languages such as Python, everything is an object, which is defined by its class. Different classes have different properties and methods, and classes can properties and methods *inherit* from other classes"
   ]
  },
  {
   "cell_type": "code",
   "execution_count": 97,
   "metadata": {},
   "outputs": [
    {
     "name": "stdout",
     "output_type": "stream",
     "text": [
      "<class 'int'>\n"
     ]
    }
   ],
   "source": [
    "# everything is an object, defined by a class. what is 4?\n",
    "a = 4\n",
    "print(type(a))"
   ]
  },
  {
   "cell_type": "code",
   "execution_count": 98,
   "metadata": {},
   "outputs": [
    {
     "name": "stdout",
     "output_type": "stream",
     "text": [
      "['__abs__', '__add__', '__and__', '__bool__', '__ceil__', '__class__', '__delattr__', '__dir__', '__divmod__', '__doc__', '__eq__', '__float__', '__floor__', '__floordiv__', '__format__', '__ge__', '__getattribute__', '__getnewargs__', '__gt__', '__hash__', '__index__', '__init__', '__init_subclass__', '__int__', '__invert__', '__le__', '__lshift__', '__lt__', '__mod__', '__mul__', '__ne__', '__neg__', '__new__', '__or__', '__pos__', '__pow__', '__radd__', '__rand__', '__rdivmod__', '__reduce__', '__reduce_ex__', '__repr__', '__rfloordiv__', '__rlshift__', '__rmod__', '__rmul__', '__ror__', '__round__', '__rpow__', '__rrshift__', '__rshift__', '__rsub__', '__rtruediv__', '__rxor__', '__setattr__', '__sizeof__', '__str__', '__sub__', '__subclasshook__', '__truediv__', '__trunc__', '__xor__', 'bit_length', 'conjugate', 'denominator', 'from_bytes', 'imag', 'numerator', 'real', 'to_bytes']\n",
      "\n"
     ]
    }
   ],
   "source": [
    "# the methods and properties of a class can be accessed with the built-in dir function\n",
    "print(dir(a))\n",
    "print() # we can just call print to get an extra line"
   ]
  },
  {
   "cell_type": "code",
   "execution_count": 99,
   "metadata": {},
   "outputs": [
    {
     "name": "stdout",
     "output_type": "stream",
     "text": [
      "<class 'builtin_function_or_method'>\n",
      "['__call__', '__class__', '__delattr__', '__dir__', '__doc__', '__eq__', '__format__', '__ge__', '__getattribute__', '__gt__', '__hash__', '__init__', '__init_subclass__', '__le__', '__lt__', '__module__', '__name__', '__ne__', '__new__', '__qualname__', '__reduce__', '__reduce_ex__', '__repr__', '__self__', '__setattr__', '__sizeof__', '__str__', '__subclasshook__', '__text_signature__']\n",
      "\n"
     ]
    }
   ],
   "source": [
    "# even dir is an object\n",
    "print(type(dir))\n",
    "print(dir(dir))\n",
    "print()"
   ]
  },
  {
   "cell_type": "code",
   "execution_count": 100,
   "metadata": {},
   "outputs": [
    {
     "name": "stdout",
     "output_type": "stream",
     "text": [
      "<class 'list'>\n",
      "['__add__', '__class__', '__contains__', '__delattr__', '__delitem__', '__dir__', '__doc__', '__eq__', '__format__', '__ge__', '__getattribute__', '__getitem__', '__gt__', '__hash__', '__iadd__', '__imul__', '__init__', '__init_subclass__', '__iter__', '__le__', '__len__', '__lt__', '__mul__', '__ne__', '__new__', '__reduce__', '__reduce_ex__', '__repr__', '__reversed__', '__rmul__', '__setattr__', '__setitem__', '__sizeof__', '__str__', '__subclasshook__', 'append', 'clear', 'copy', 'count', 'extend', 'index', 'insert', 'pop', 'remove', 'reverse', 'sort']\n"
     ]
    }
   ],
   "source": [
    "# of course, lists are also objects\n",
    "l = [12, 14, 16]\n",
    "print(type(l))\n",
    "print(dir(l))"
   ]
  },
  {
   "cell_type": "code",
   "execution_count": 101,
   "metadata": {},
   "outputs": [
    {
     "name": "stdout",
     "output_type": "stream",
     "text": [
      "Help on list object:\n",
      "\n",
      "class list(object)\n",
      " |  list() -> new empty list\n",
      " |  list(iterable) -> new list initialized from iterable's items\n",
      " |  \n",
      " |  Methods defined here:\n",
      " |  \n",
      " |  __add__(self, value, /)\n",
      " |      Return self+value.\n",
      " |  \n",
      " |  __contains__(self, key, /)\n",
      " |      Return key in self.\n",
      " |  \n",
      " |  __delitem__(self, key, /)\n",
      " |      Delete self[key].\n",
      " |  \n",
      " |  __eq__(self, value, /)\n",
      " |      Return self==value.\n",
      " |  \n",
      " |  __ge__(self, value, /)\n",
      " |      Return self>=value.\n",
      " |  \n",
      " |  __getattribute__(self, name, /)\n",
      " |      Return getattr(self, name).\n",
      " |  \n",
      " |  __getitem__(...)\n",
      " |      x.__getitem__(y) <==> x[y]\n",
      " |  \n",
      " |  __gt__(self, value, /)\n",
      " |      Return self>value.\n",
      " |  \n",
      " |  __iadd__(self, value, /)\n",
      " |      Implement self+=value.\n",
      " |  \n",
      " |  __imul__(self, value, /)\n",
      " |      Implement self*=value.\n",
      " |  \n",
      " |  __init__(self, /, *args, **kwargs)\n",
      " |      Initialize self.  See help(type(self)) for accurate signature.\n",
      " |  \n",
      " |  __iter__(self, /)\n",
      " |      Implement iter(self).\n",
      " |  \n",
      " |  __le__(self, value, /)\n",
      " |      Return self<=value.\n",
      " |  \n",
      " |  __len__(self, /)\n",
      " |      Return len(self).\n",
      " |  \n",
      " |  __lt__(self, value, /)\n",
      " |      Return self<value.\n",
      " |  \n",
      " |  __mul__(self, value, /)\n",
      " |      Return self*value.\n",
      " |  \n",
      " |  __ne__(self, value, /)\n",
      " |      Return self!=value.\n",
      " |  \n",
      " |  __new__(*args, **kwargs) from builtins.type\n",
      " |      Create and return a new object.  See help(type) for accurate signature.\n",
      " |  \n",
      " |  __repr__(self, /)\n",
      " |      Return repr(self).\n",
      " |  \n",
      " |  __reversed__(...)\n",
      " |      L.__reversed__() -- return a reverse iterator over the list\n",
      " |  \n",
      " |  __rmul__(self, value, /)\n",
      " |      Return value*self.\n",
      " |  \n",
      " |  __setitem__(self, key, value, /)\n",
      " |      Set self[key] to value.\n",
      " |  \n",
      " |  __sizeof__(...)\n",
      " |      L.__sizeof__() -- size of L in memory, in bytes\n",
      " |  \n",
      " |  append(...)\n",
      " |      L.append(object) -> None -- append object to end\n",
      " |  \n",
      " |  clear(...)\n",
      " |      L.clear() -> None -- remove all items from L\n",
      " |  \n",
      " |  copy(...)\n",
      " |      L.copy() -> list -- a shallow copy of L\n",
      " |  \n",
      " |  count(...)\n",
      " |      L.count(value) -> integer -- return number of occurrences of value\n",
      " |  \n",
      " |  extend(...)\n",
      " |      L.extend(iterable) -> None -- extend list by appending elements from the iterable\n",
      " |  \n",
      " |  index(...)\n",
      " |      L.index(value, [start, [stop]]) -> integer -- return first index of value.\n",
      " |      Raises ValueError if the value is not present.\n",
      " |  \n",
      " |  insert(...)\n",
      " |      L.insert(index, object) -- insert object before index\n",
      " |  \n",
      " |  pop(...)\n",
      " |      L.pop([index]) -> item -- remove and return item at index (default last).\n",
      " |      Raises IndexError if list is empty or index is out of range.\n",
      " |  \n",
      " |  remove(...)\n",
      " |      L.remove(value) -> None -- remove first occurrence of value.\n",
      " |      Raises ValueError if the value is not present.\n",
      " |  \n",
      " |  reverse(...)\n",
      " |      L.reverse() -- reverse *IN PLACE*\n",
      " |  \n",
      " |  sort(...)\n",
      " |      L.sort(key=None, reverse=False) -> None -- stable sort *IN PLACE*\n",
      " |  \n",
      " |  ----------------------------------------------------------------------\n",
      " |  Data and other attributes defined here:\n",
      " |  \n",
      " |  __hash__ = None\n",
      "\n"
     ]
    }
   ],
   "source": [
    "# the help function can also be used, and is sometimes cleaner and more helpful ;) \n",
    "help(l)"
   ]
  },
  {
   "cell_type": "code",
   "execution_count": 102,
   "metadata": {},
   "outputs": [
    {
     "name": "stdout",
     "output_type": "stream",
     "text": [
      "16\n",
      "True\n"
     ]
    }
   ],
   "source": [
    "# an object's methods are accessed using dot syntax\n",
    "x = l.pop() # pops the last element in the list\n",
    "print(x)\n",
    "# note that general functions, such as dir, must exist in the namespace (either built-in, imported, or defined), and are called directly with objects as input\n",
    "# sometimes, these functions look for a specific class method defined for the object, which is what dir does\n",
    "print(dir(l) == sorted(l.__dir__()))"
   ]
  },
  {
   "cell_type": "markdown",
   "metadata": {},
   "source": [
    "### Underscores in names\n",
    "- in general, an object will have many methods or attributes with single or double underscores prepending and/or appending the name\n",
    "    - e.g., `list.__len__`\n",
    "- this syntax is sometimes purely convential, and sometimes functionally meaningful\n",
    "    - this guide provides a helpful analysis of this syntax, which we will cover here (https://dbader.org/blog/meaning-of-underscores-in-python)\n",
    "- `_var`:\n",
    "    - hint to another programmer that a variable or method starting with a single underscore is intended for internal use\n",
    "    - only functional role is that these methods will not be imported with the wildcard syntax (`from module import *`), which you should avoid anyway\n",
    "- `var_`:\n",
    "    - used if the relevant name is already taken, to avoid naming conflicts and allow laziness\n",
    "- `__var`:\n",
    "    - triggers \"name mangling\", which essentially allows a variable to be defined for a class and not overridden when a subclass is created\n",
    "    - prevents direct access as `object.__var` , and is rather changed to, `object.__classname__var`\n",
    "- `__var__`:\n",
    "    - indicates special methods defined by the Python language\n",
    "    - should be avoided for naming methods, except when implenting methods for which Python has defined a general purpose, such as `__init__` , `__call__`, or `__iter__` for your own classes\n",
    "    - no name mangling\n",
    "- `_` :\n",
    "    - temporary or insignificant variable\n",
    "    - gives the result of the last expression in a Python interpreter (including Jupyter Notebooks)"
   ]
  },
  {
   "cell_type": "markdown",
   "metadata": {},
   "source": [
    "### Creating our first custom class\n",
    "\n",
    "Using custom classes is an essential aspect of effective programming in Python.\n",
    "\n",
    "Let's create a simple class that we can use to represent people. This class must have an `__init__` method, and any other methods that we think would be important. "
   ]
  },
  {
   "cell_type": "code",
   "execution_count": 103,
   "metadata": {},
   "outputs": [],
   "source": [
    "class Person(object): # (object) means that Person inherits from object, the most generic object type. all custom classes must inherit from something \n",
    "    \"\"\"\n",
    "    A Person object is defined by its name, age, occupation, and (favorite programming) language\n",
    "    \n",
    "    The __init__ function defines the input parameters. Our function takes 4 inputs:\n",
    "    \n",
    "    name (str): the name of the person\n",
    "    age (int): the age of the person in years\n",
    "    occupation (str): the occupation of the person\n",
    "    language (str): the person's favorite programming language (default = 'Python')\n",
    "    \n",
    "    \"\"\"\n",
    "    def __init__(self, name: str, age: int, occupation: str, language: str = 'Python'):\n",
    "        super().__init__()\n",
    "        self.name = name\n",
    "        self.age = age\n",
    "        self.occupation = occupation\n",
    "        self.language = language\n",
    "    \n",
    "    def get_name(self):\n",
    "        # can you implement this?\n",
    "        raise NotImplementedError()\n",
    "        \n",
    "    def get_age(self):\n",
    "        # can you implement this?\n",
    "        raise NotImplementedError()    \n",
    "        \n",
    "    def get_occupation(self):\n",
    "        # can you implement this?\n",
    "        raise NotImplementedError()\n",
    "        \n",
    "    def get_language(self):\n",
    "        # can you implement this?\n",
    "        raise NotImplementedError()\n",
    "        \n",
    "## question: is there any reason to implement the functions that we listed above? if so, what? \n",
    " "
   ]
  },
  {
   "cell_type": "markdown",
   "metadata": {},
   "source": [
    "### Inheritance - super-skip\n",
    "\n",
    "As mentioned earlier, all classes inherit from some other class. If we are defining a completely new class, the most basic class to inherit from is `Object`. However we can also inherit from more specific classes.\n",
    "\n",
    "Let's create the `GradStudent` class to demonstrate inheritance from the `Person` class. Writing this class will be quick since it will inherit most of its functionality from the `Person` class. The one difference is that we will specify the occupation in terms of the field of study and year of study to automatically compute the occupation."
   ]
  },
  {
   "cell_type": "code",
   "execution_count": 104,
   "metadata": {},
   "outputs": [
    {
     "name": "stdout",
     "output_type": "stream",
     "text": [
      "nick is a Year 2 neural computation graduate student\n"
     ]
    }
   ],
   "source": [
    "class GradStudent(Person):\n",
    "    \"\"\"\n",
    "    A grad student is a Person with occupation graduate student. \n",
    "    We can also specify the field of study and years of experience to make a more specific grad student\n",
    "    \"\"\"\n",
    "    def __init__(self, name: str, age: int, language: str = 'Python', field_of_study=None, years_of_experience=None):\n",
    "        field = f'{field_of_study}' if field_of_study is not None else ''\n",
    "        experience = f'Year {years_of_experience} ' if years_of_experience is not None else ''\n",
    "        occupation = f'{experience}{field_of_study} graduate student'\n",
    "        super().__init__(name, age, occupation, language)\n",
    "        \n",
    "nick = GradStudent('nick', 25, language='Python', field_of_study='neural computation', years_of_experience=2)\n",
    "print(f'{nick.name} is a {nick.occupation}')"
   ]
  },
  {
   "cell_type": "markdown",
   "metadata": {},
   "source": [
    "## Functions - move ahead of classes"
   ]
  },
  {
   "cell_type": "markdown",
   "metadata": {},
   "source": [
    "### Creating a simple function - remove type annotations\n",
    "\n",
    "We have already seen class-specific functions (i.e. methods). But functions can also be created independently of classes, and used to operate on arbitrary inputs. "
   ]
  },
  {
   "cell_type": "code",
   "execution_count": 1,
   "metadata": {},
   "outputs": [
    {
     "data": {
      "text/plain": [
       "[4, 6, 8]"
      ]
     },
     "execution_count": 1,
     "metadata": {},
     "output_type": "execute_result"
    }
   ],
   "source": [
    "def multiply(l: list, a: int) -> list:\n",
    "    \"\"\"\n",
    "    takes a list l and multiples it by an int or float a\n",
    "    \"\"\"\n",
    "    x = [a*b for b in l]\n",
    "    return x\n",
    "\n",
    "multiply([2,3,4], 2)"
   ]
  },
  {
   "cell_type": "code",
   "execution_count": 3,
   "metadata": {},
   "outputs": [
    {
     "data": {
      "text/plain": [
       "['w']"
      ]
     },
     "execution_count": 3,
     "metadata": {},
     "output_type": "execute_result"
    }
   ],
   "source": [
    "multiply([1],'w')"
   ]
  },
  {
   "cell_type": "markdown",
   "metadata": {},
   "source": [
    "### `*args` and `**kwargs`  --- simpler examples\n",
    "\n",
    "You will often see `__init__` function calls include `*args` and/or ``**kwargs``. This allows additional unnamed arguments to be grouped into a tuple here called `args` (the name itself is arbitrary), and additional named arguments to be grouped into a dictionary here called `kwargs`.\n",
    "\n",
    "Some uses of this:\n",
    "- **Raw functionality**: writing a function which itself may depend on a variable number of inputs\n",
    "- **Cleaner code**: writing a function which depends on other functions that accept a variable number of inputs\n"
   ]
  },
  {
   "cell_type": "code",
   "execution_count": 106,
   "metadata": {},
   "outputs": [
    {
     "name": "stdout",
     "output_type": "stream",
     "text": [
      "['Nick', 'Matt']\n"
     ]
    }
   ],
   "source": [
    "# Raw functionality - we can replace args with a more informative name here\n",
    "def get_grad_student_names(*grad_students):\n",
    "    names = []\n",
    "    for grad_student in grad_students:\n",
    "        names.append(grad_student.name)\n",
    "    return names\n",
    "print(get_grad_student_names(\n",
    "    Person('Nick', 25, 'Neural computation graduate student', 'Python'),\n",
    "    Person('Matt', 23, 'Neural computation graduate student', 'Python'),\n",
    "                            )\n",
    "     )"
   ]
  },
  {
   "cell_type": "code",
   "execution_count": 107,
   "metadata": {},
   "outputs": [
    {
     "name": "stdout",
     "output_type": "stream",
     "text": [
      "mint chip\n"
     ]
    }
   ],
   "source": [
    "# more functionality AND cleaner code\n",
    "class uPNCStudent(Person):\n",
    "    \"\"\"\n",
    "    a uPNCStudent is a Person who is defined to be an undergraduate student.\n",
    "    \n",
    "    These students may also be allowed to have extra properties defined by the programmer\n",
    "    \n",
    "    \"\"\"\n",
    "    def __init__(self, name, age, language, **kwargs):\n",
    "        super().__init__(name, age, 'undergraduate student', language)\n",
    "        # this loop assigns all key, val pairs in kwargs directly to the uPNCStudent object\n",
    "        for key, val in kwargs.items():\n",
    "            setattr(self, key, val)\n",
    "\n",
    "joe = uPNCStudent('Joe', 19, 'Java', favorite_ice_cream='mint chip')\n",
    "print(joe.favorite_ice_cream)"
   ]
  },
  {
   "cell_type": "markdown",
   "metadata": {},
   "source": [
    "We can also use **unpacking** of a dictionary to specify the kwargs (or of a tuple to specify the args)"
   ]
  },
  {
   "cell_type": "code",
   "execution_count": 108,
   "metadata": {},
   "outputs": [
    {
     "name": "stdout",
     "output_type": "stream",
     "text": [
      "baseball\n"
     ]
    }
   ],
   "source": [
    "joe = uPNCStudent('Joe', 19, 'Java', **{'favorite_sport': 'baseball'})\n",
    "print(joe.favorite_sport)"
   ]
  },
  {
   "cell_type": "markdown",
   "metadata": {},
   "source": [
    "## String formatting - remove custom classes\n",
    "\n",
    "Formatting strings is crucial for effectively naming files or variables programmatically with variables\n",
    "\n",
    "there are lots of ways to format strings. we will cover a few here. \n",
    "\n",
    "let's assume we have some variables that we want to use to print a message. perhaps you are looping through different people and want to know their occupation."
   ]
  },
  {
   "cell_type": "code",
   "execution_count": 109,
   "metadata": {},
   "outputs": [],
   "source": [
    "# let's create a few objects of type Person\n",
    "nick = Person('Nick', 25, 'Neural computation graduate student', 'Python')\n",
    "linda = Person('Linda', 50, 'Professor', 'Matlab')\n",
    "matt = Person('Matt', 23, 'Neural computation graduate student', 'Python')"
   ]
  },
  {
   "cell_type": "code",
   "execution_count": 110,
   "metadata": {},
   "outputs": [
    {
     "name": "stdout",
     "output_type": "stream",
     "text": [
      "Nick's occupation is Neural computation graduate student\n"
     ]
    }
   ],
   "source": [
    "# f-strings (new and very convenient)\n",
    "print(f\"{nick.name}'s occupation is {nick.occupation}\")"
   ]
  },
  {
   "cell_type": "code",
   "execution_count": 111,
   "metadata": {},
   "outputs": [
    {
     "name": "stdout",
     "output_type": "stream",
     "text": [
      "Linda's favorite programming language is Matlab\n"
     ]
    }
   ],
   "source": [
    "# .format() notation, somewhat similar to sprintf in matlab. compatible with older versions of Python\n",
    "print(\"{}'s favorite programming language is {}\".format(linda.name, linda.language))"
   ]
  },
  {
   "cell_type": "code",
   "execution_count": 112,
   "metadata": {},
   "outputs": [
    {
     "name": "stdout",
     "output_type": "stream",
     "text": [
      "Nick thinks that Matt is 23 years old\n"
     ]
    }
   ],
   "source": [
    "# string addition\n",
    "print(\"Nick thinks that \" + matt.name + \" is \" + str(matt.age) + \" years old\")"
   ]
  },
  {
   "cell_type": "markdown",
   "metadata": {},
   "source": [
    "## For-loops and list comprehensions\n",
    "\n",
    "Everybody probably knows about for loops. They are a great way to iterate through operations (but should be avoided when array operations are possible, to take advantage of multi-core processing, we will get to this). "
   ]
  },
  {
   "cell_type": "code",
   "execution_count": 113,
   "metadata": {},
   "outputs": [
    {
     "name": "stdout",
     "output_type": "stream",
     "text": [
      "0\n",
      "1\n",
      "2\n",
      "3\n",
      "4\n",
      "5\n",
      "6\n",
      "7\n",
      "8\n",
      "9\n"
     ]
    }
   ],
   "source": [
    "# in Python, we can specify a range of values using the range function\n",
    "for ii in range(10):\n",
    "    print(ii)"
   ]
  },
  {
   "cell_type": "markdown",
   "metadata": {},
   "source": [
    "Remember that Python is 0-based. We can also specify a non-zero starting point of range. The end point is the 2nd argument to range, and is actually the final number minus 1, such that `range(10)` gives a 10-element range starting at 0. If we want to iterate through the range of even positive integers less than 10 what would we do? "
   ]
  },
  {
   "cell_type": "code",
   "execution_count": 114,
   "metadata": {},
   "outputs": [
    {
     "name": "stdout",
     "output_type": "stream",
     "text": [
      "2\n",
      "4\n",
      "6\n",
      "8\n"
     ]
    }
   ],
   "source": [
    "for ii in range(2,10,2):\n",
    "    print(ii)"
   ]
  },
  {
   "cell_type": "markdown",
   "metadata": {},
   "source": [
    "The `enumerate` function is a great Python trick for quickly getting indices of a for loop iteration. If we want to know what index we are at for each iteration of the last function, we can do the folllowing:"
   ]
  },
  {
   "cell_type": "code",
   "execution_count": 115,
   "metadata": {},
   "outputs": [
    {
     "name": "stdout",
     "output_type": "stream",
     "text": [
      "the number at index 0 is 2\n",
      "the number at index 1 is 4\n",
      "the number at index 2 is 6\n",
      "the number at index 3 is 8\n"
     ]
    }
   ],
   "source": [
    "for ii, num in enumerate(range(2,10,2)):\n",
    "    print(f'the number at index {ii} is {num}')"
   ]
  },
  {
   "cell_type": "markdown",
   "metadata": {},
   "source": [
    "### List comprehensions\n",
    "Only Python users are probably familiar with list comprehensions. \n",
    "\n",
    "They are a bit quirky at first but most grow to love them for their simplicity and brevity"
   ]
  },
  {
   "cell_type": "code",
   "execution_count": 116,
   "metadata": {},
   "outputs": [
    {
     "name": "stdout",
     "output_type": "stream",
     "text": [
      "[2, 4, 6, 8]\n"
     ]
    }
   ],
   "source": [
    "# let's assume we have a list and want to iterate some operation over it\n",
    "my_list = [1, 2, 3, 4]\n",
    "my_doubled_list = [2*a for a in my_list] # yes, there are other ways to do this...to come\n",
    "print(my_doubled_list)"
   ]
  },
  {
   "cell_type": "markdown",
   "metadata": {},
   "source": [
    "# Python for data science: \n",
    "The data science \"stack\" includes some key packages\n",
    "- `Numpy` - numerical arrays and matrix computation\n",
    "- `Pandas` - dataframes (similar to those in R)\n",
    "- `Scipy` - scientific functions, including statistics [move to quant refresher]\n",
    "- `Scikit-Learn` - machine learning powerhouse [move to quant refresher]\n",
    "- `Matplotlib` - powerful plotting library\n",
    "- `Seaborn` - wrapper for Matplotlib that makes making beautiful and highly informative plots super easy \n",
    "\n",
    "This data science stack was partially developed to recapitulate the core functionalities available in Matlab and Matlab toolboxes, but as a free and open source alternative. However, in many cases what is available in Python also goes well beyond what is available in Matlab, and now Matlab is implementing things that have been developed first in Python."
   ]
  },
  {
   "cell_type": "markdown",
   "metadata": {},
   "source": [
    "## multidimensional arrays with numpy"
   ]
  },
  {
   "cell_type": "code",
   "execution_count": 5,
   "metadata": {},
   "outputs": [
    {
     "name": "stdout",
     "output_type": "stream",
     "text": [
      "1.18.1\n"
     ]
    }
   ],
   "source": [
    "# many packages have standard shorthand import names, such as np for numpy\n",
    "import numpy as np\n",
    "\n",
    "print(np.__version__)  # prints the version of a package"
   ]
  },
  {
   "cell_type": "code",
   "execution_count": 118,
   "metadata": {},
   "outputs": [
    {
     "name": "stdout",
     "output_type": "stream",
     "text": [
      "[1 1 2 3 5 8]\n",
      "<class 'numpy.ndarray'>\n"
     ]
    }
   ],
   "source": [
    "# creating 1D arrays\n",
    "mylist = [1, 1, 2, 3, 5, 8]  # regular python list\n",
    "array = np.array(mylist)  # a numpy array can be created by passing a python list into np.array(...)\n",
    "print(array)  \n",
    "print(type(array))  # the array might look similar a list but it is actually a very different type of object"
   ]
  },
  {
   "cell_type": "code",
   "execution_count": 119,
   "metadata": {},
   "outputs": [
    {
     "name": "stdout",
     "output_type": "stream",
     "text": [
      "[[1 2]\n",
      " [3 4]\n",
      " [5 6]]\n"
     ]
    }
   ],
   "source": [
    "# arrays of can be created with any number of dimensions, as long as it's \"rectangular\"\n",
    "array = np.array([[1, 2], [3, 4], [5, 6]]) # 2d array\n",
    "print(array)"
   ]
  },
  {
   "cell_type": "code",
   "execution_count": 120,
   "metadata": {},
   "outputs": [
    {
     "name": "stdout",
     "output_type": "stream",
     "text": [
      "[list([1, 2]) list([3]) list([5, 6])]\n"
     ]
    }
   ],
   "source": [
    "array = np.array([[1, 2], [3], [5, 6]]) # not rectangular\n",
    "print(array) # result is a 1d array of lists"
   ]
  },
  {
   "cell_type": "code",
   "execution_count": 121,
   "metadata": {},
   "outputs": [
    {
     "name": "stdout",
     "output_type": "stream",
     "text": [
      "102\n"
     ]
    }
   ],
   "source": [
    "array = np.array(102) # a \"0D\" array\n",
    "print(array)"
   ]
  },
  {
   "cell_type": "code",
   "execution_count": 122,
   "metadata": {},
   "outputs": [
    {
     "name": "stdout",
     "output_type": "stream",
     "text": [
      "[[[ 1  2  3  4]\n",
      "  [ 5  6  7  8]\n",
      "  [ 9 10 11 12]]\n",
      "\n",
      " [[10 20  0  0]\n",
      "  [30 40  0  0]\n",
      "  [50 60  0  0]]]\n"
     ]
    }
   ],
   "source": [
    "# 3d array\n",
    "array3d = np.array([[[1, 2, 3, 4], [5, 6, 7, 8], [9, 10, 11, 12]], [[10, 20, 0, 0], [30, 40, 0, 0], [50, 60, 0, 0]]])\n",
    "print(array3d)"
   ]
  },
  {
   "cell_type": "code",
   "execution_count": 123,
   "metadata": {},
   "outputs": [
    {
     "name": "stdout",
     "output_type": "stream",
     "text": [
      "3\n",
      "(2, 3, 4)\n",
      "24\n",
      "2\n"
     ]
    }
   ],
   "source": [
    "# finding attributes of numpy arrays\n",
    "\n",
    "print(array3d.ndim)  # number of dimensions\n",
    "print(array3d.shape) # shape, listed from outermost to innermost dimension\n",
    "print(array3d.size) # total number of elements\n",
    "print(len(array3d)) # the length of the first dimension"
   ]
  },
  {
   "cell_type": "code",
   "execution_count": 124,
   "metadata": {},
   "outputs": [
    {
     "name": "stdout",
     "output_type": "stream",
     "text": [
      "[['a' 'b' 'c']\n",
      " [1 2 3]\n",
      " [{} <class 'str'> <built-in function len>]]\n"
     ]
    }
   ],
   "source": [
    "# mixed datatypes are allowed by default\n",
    "array = np.array([['a','b','c'],[1,2,3],[{},str,len]])\n",
    "print(array)\n",
    "# this is bad practice though"
   ]
  },
  {
   "cell_type": "code",
   "execution_count": 125,
   "metadata": {},
   "outputs": [
    {
     "name": "stdout",
     "output_type": "stream",
     "text": [
      "[  1   2   3 -68   0]\n",
      "[1. 2. 3.]\n",
      "[1.+0.j 2.+0.j 3.+0.j]\n",
      "['a' '7' '<built-in function len>']\n"
     ]
    }
   ],
   "source": [
    "# data type can be specified for the array... there's a big selection\n",
    "array = np.array([1,2,3,700,0.07], dtype='int8')\n",
    "print(array)\n",
    "array = np.array([1,2,3], dtype='float64')\n",
    "print(array)\n",
    "array = np.array([1,2,3], dtype='complex')\n",
    "print(array)\n",
    "array = np.array(['a',7,len], dtype='str')\n",
    "print(array)"
   ]
  },
  {
   "cell_type": "code",
   "execution_count": 6,
   "metadata": {},
   "outputs": [
    {
     "name": "stdout",
     "output_type": "stream",
     "text": [
      "[ 0  1  2  3  4  5  6  7  8  9 10 11]\n",
      "\n",
      "[[ 0  1  2  3]\n",
      " [ 4  5  6  7]\n",
      " [ 8  9 10 11]]\n",
      "\n",
      "[[[ 0  1]\n",
      "  [ 2  3]]\n",
      "\n",
      " [[ 4  5]\n",
      "  [ 6  7]]\n",
      "\n",
      " [[ 8  9]\n",
      "  [10 11]]]\n",
      "\n",
      "[[ 0  1  2]\n",
      " [ 3  4  5]\n",
      " [ 6  7  8]\n",
      " [ 9 10 11]]\n"
     ]
    }
   ],
   "source": [
    "# arrays can be reshaped\n",
    "\n",
    "array1 = np.arange(12) # create a 1D array of numbers 0-11 inclusive\n",
    "array2 = array1.reshape((3,4))\n",
    "array3 = array2.reshape((3,2,2))\n",
    "array4 = array3.reshape((4,3))\n",
    "\n",
    "print(array1)\n",
    "print()\n",
    "print(array2)\n",
    "print()\n",
    "print(array3)\n",
    "print()\n",
    "print(array4)"
   ]
  },
  {
   "cell_type": "code",
   "execution_count": 127,
   "metadata": {},
   "outputs": [
    {
     "name": "stdout",
     "output_type": "stream",
     "text": [
      "[[ 1.  1.  1. ...  1.  1.  1.]\n",
      " [ 0.  0. 10. ...  0.  0.  0.]\n",
      " [ 1.  1.  1. ...  1.  1.  1.]\n",
      " ...\n",
      " [ 0.  0.  0. ...  0.  0.  0.]\n",
      " [ 0.  0.  0. ...  0.  0.  0.]\n",
      " [ 0.  0.  0. ...  0. 11.  0.]]\n"
     ]
    }
   ],
   "source": [
    "# indexing into an array is pretty convenient\n",
    "array = np.zeros((100,100)) # 100x100 array of zeros\n",
    "\n",
    "# indexing\n",
    "array[1,2] = 10 # set the 2nd row, 3rd column element to 10\n",
    "array[-1,-2] = 11 # set the last row, 2nd-to-last column element to 11\n",
    "\n",
    "# slicing\n",
    "array[0, :] = 1 # set all elements in the first row to 1\n",
    "array[2, :] = 1 # set all elements in the 3rd row to 1\n",
    "\n",
    "print(array)"
   ]
  },
  {
   "cell_type": "code",
   "execution_count": 128,
   "metadata": {},
   "outputs": [
    {
     "name": "stdout",
     "output_type": "stream",
     "text": [
      "[1.   0.1  1.   0.   0.   0.   0.   0.   0.   0.   0.   0.   0.   0.\n",
      " 0.   0.   0.   0.   0.   0.   0.   0.   0.   0.   0.   0.   0.   0.\n",
      " 0.   0.   0.   0.   0.   0.   0.   0.   0.   0.   0.   0.   0.   0.\n",
      " 0.   0.   0.   0.   0.   0.   0.   0.   0.   0.   0.   0.   0.   0.\n",
      " 0.   0.   0.   0.   0.   0.   0.   0.   0.   0.   0.   0.   0.   0.\n",
      " 0.   0.   0.   0.   0.   0.   0.   0.   0.   0.   0.   0.   0.   0.\n",
      " 0.   0.   0.   0.   0.   0.   0.   0.   0.   0.   0.   0.   0.   0.\n",
      " 0.   0.11]\n",
      "[ 2.  2. 12.  2.  2.  2.  2.  2.  2.  2.  2.  2.  2.  2.  2.  2.  2.  2.\n",
      "  2.  2.  2.  2.  2.  2.  2.  2.  2.  2.  2.  2.  2.  2.  2.  2.  2.  2.\n",
      "  2.  2.  2.  2.  2.  2.  2.  2.  2.  2.  2.  2.  2.  2.  2.  2.  2.  2.\n",
      "  2.  2.  2.  2.  2.  2.  2.  2.  2.  2.  2.  2.  2.  2.  2.  2.  2.  2.\n",
      "  2.  2.  2.  2.  2.  2.  2.  2.  2.  2.  2.  2.  2.  2.  2.  2.  2.  2.\n",
      "  2.  2.  2.  2.  2.  2.  2.  2. 13.  2.]\n",
      "0.20398919089010573\n"
     ]
    }
   ],
   "source": [
    "# we can do simple things like compute sums, means and standard deviations of rows, columns, or the whole array\n",
    "mean_rows = np.mean(array, 1) # take the mean over the 2nd dimension (columns) to give the mean for each row\n",
    "sum_cols = np.sum(array, 0) # sum over the 1st dimension (rows) to give sums of each column\n",
    "std_array = np.std(array) # if no axis is specified, the array is flattened and then the mean/sum/std is taken \n",
    "print(mean_rows)\n",
    "print(sum_cols)\n",
    "print(std_array)"
   ]
  },
  {
   "cell_type": "code",
   "execution_count": 129,
   "metadata": {},
   "outputs": [
    {
     "name": "stdout",
     "output_type": "stream",
     "text": [
      "[[[ 1  2  3  4]\n",
      "  [ 5  6  7  8]\n",
      "  [ 9 10 11 12]]\n",
      "\n",
      " [[10 20  0  0]\n",
      "  [30 40  0  0]\n",
      "  [50 60  0  0]]]\n",
      "[105 138  21  24]\n"
     ]
    }
   ],
   "source": [
    "print(array3d)\n",
    "print(np.sum(array3d, (0,1)))  # you can mean/sum/std over multiple dimensions at once"
   ]
  },
  {
   "cell_type": "code",
   "execution_count": 130,
   "metadata": {},
   "outputs": [
    {
     "name": "stdout",
     "output_type": "stream",
     "text": [
      "[10 13 16 19 22 25 28]\n"
     ]
    }
   ],
   "source": [
    "# other cool slicing\n",
    "print(np.arange(50)[10:30:3])  # start:end:step"
   ]
  },
  {
   "cell_type": "code",
   "execution_count": 131,
   "metadata": {},
   "outputs": [
    {
     "name": "stdout",
     "output_type": "stream",
     "text": [
      "[1 2 3 4 6 7 8 9]\n",
      "[[1 2 3 4]\n",
      " [6 7 8 9]]\n"
     ]
    }
   ],
   "source": [
    "a1 = np.array([1, 2, 3, 4])\n",
    "a2 = np.array([6, 7, 8, 9])\n",
    "\n",
    "# arrays can be concatenated together\n",
    "a3 = np.concatenate((a1, a2))\n",
    "# they can also be \"stacked\" along a new dimension\n",
    "a4 = np.stack((a1, a2))\n",
    "print(a3)\n",
    "print(a4)"
   ]
  },
  {
   "cell_type": "code",
   "execution_count": 132,
   "metadata": {},
   "outputs": [
    {
     "name": "stdout",
     "output_type": "stream",
     "text": [
      "[1 2 3 4 6 7 8 9]\n",
      "[[1 2 3 4]\n",
      " [6 7 8 9]]\n",
      "[[[1 6]\n",
      "  [2 7]\n",
      "  [3 8]\n",
      "  [4 9]]]\n"
     ]
    }
   ],
   "source": [
    "# there's plenty of ways to stack arrays\n",
    "# in general... if you have two arrays and can imagine a way to combine them, \n",
    "# there probably exists a function capable of doing just that (with the right arguments)\n",
    "# Here's some helper functions\n",
    "a5 = np.hstack((a1, a2))\n",
    "a6 = np.vstack((a1, a2))\n",
    "a7 = np.dstack((a1, a2))\n",
    "print(a5)\n",
    "print(a6)\n",
    "print(a7)"
   ]
  },
  {
   "cell_type": "code",
   "execution_count": 133,
   "metadata": {},
   "outputs": [
    {
     "name": "stdout",
     "output_type": "stream",
     "text": [
      "[0 1 2 3 4 5 6 7 8 9]\n",
      "[array([0, 1, 2, 3]), array([4, 5, 6]), array([7, 8, 9])]\n"
     ]
    }
   ],
   "source": [
    "array = np.arange(10)\n",
    "print(array)\n",
    "print(np.array_split(array, 3)) # a list of 3 arrays, created by splitting the given array into 3 parts"
   ]
  },
  {
   "cell_type": "code",
   "execution_count": 134,
   "metadata": {},
   "outputs": [
    {
     "name": "stdout",
     "output_type": "stream",
     "text": [
      "[[[ 1  2  3  4]\n",
      "  [ 5  6  7  8]\n",
      "  [ 9 10 11 12]]\n",
      "\n",
      " [[10 20  0  0]\n",
      "  [30 40  0  0]\n",
      "  [50 60  0  0]]]\n",
      "[[[ 1  2  3  4]]\n",
      "\n",
      " [[10 20  0  0]]]\n",
      "[[[ 5  6  7  8]]\n",
      "\n",
      " [[30 40  0  0]]]\n",
      "[[[ 9 10 11 12]]\n",
      "\n",
      " [[50 60  0  0]]]\n"
     ]
    }
   ],
   "source": [
    "print(array3d)\n",
    "results = np.array_split(array3d, 3, axis=1)  # split a 3D array along its 2nd axis\n",
    "for result in results:\n",
    "    print(result)"
   ]
  },
  {
   "cell_type": "code",
   "execution_count": 135,
   "metadata": {},
   "outputs": [
    {
     "name": "stdout",
     "output_type": "stream",
     "text": [
      "[ 0  1  2  3  4  5  6  7  8  9 10 11 12 13 14 15 16 17 18 19]\n",
      "[11  0 16  5 18 19 13  3 12  9  1 17 10 14  4  7 15  2  6  8]\n",
      "(array([ 0,  2,  4,  5,  6,  8, 11, 12, 13, 16]),)\n",
      "[11 16 18 19 13 12 17 10 14 15]\n",
      "[ 0  1  2  3  4  5  6  7  8  9 10 11 12 13 14 15 16 17 18 19]\n"
     ]
    }
   ],
   "source": [
    "# shuffling, searching, filtering, sorting\n",
    "\n",
    "array = np.arange(20)\n",
    "print(array)\n",
    "\n",
    "# in-place shuffling (in-place means array is modified directly)\n",
    "np.random.shuffle(array)\n",
    "print(array)\n",
    "\n",
    "# find positions where a conditional statment is satisfied\n",
    "indices = np.where(array*array + array > 100)\n",
    "print(indices)\n",
    "\n",
    "# index into the array at those positions to filter\n",
    "print(array[indices])\n",
    "\n",
    "# sort the array\n",
    "array = np.sort(array)\n",
    "print(array)"
   ]
  },
  {
   "cell_type": "code",
   "execution_count": 136,
   "metadata": {},
   "outputs": [
    {
     "name": "stdout",
     "output_type": "stream",
     "text": [
      "[[1 2]\n",
      " [3 4]\n",
      " [5 6]]\n",
      "(array([1, 2, 2]), array([1, 0, 1]))\n"
     ]
    }
   ],
   "source": [
    "array = np.array([[1, 2], [3, 4], [5, 6]]) # 2d array\n",
    "print(array)\n",
    "indices = np.where(array >= 4)\n",
    "print(indices)"
   ]
  },
  {
   "cell_type": "markdown",
   "metadata": {},
   "source": [
    "### Matrix and Vector Operations"
   ]
  },
  {
   "cell_type": "code",
   "execution_count": 137,
   "metadata": {},
   "outputs": [
    {
     "name": "stdout",
     "output_type": "stream",
     "text": [
      "[[1 2]\n",
      " [3 4]\n",
      " [5 6]]\n",
      "[[7 8]\n",
      " [9 0]]\n",
      "[[25  8]\n",
      " [57 24]\n",
      " [89 40]]\n"
     ]
    }
   ],
   "source": [
    "# matrix operations\n",
    "\n",
    "array1 = np.array([[1, 2], [3, 4], [5, 6]]) # 2d array\n",
    "print(array1)\n",
    "\n",
    "array2 = np.array([[7, 8], [9, 0]]) # another 2d array\n",
    "print(array2)\n",
    "\n",
    "# three ways of computing matrix product\n",
    "matrixproduct = array1 @ array2\n",
    "matrixproduct = array1.dot(array2)\n",
    "matrixproduct = np.matmul(array1,array2)\n",
    "print(matrixproduct)"
   ]
  },
  {
   "cell_type": "code",
   "execution_count": 138,
   "metadata": {},
   "outputs": [
    {
     "name": "stdout",
     "output_type": "stream",
     "text": [
      "[[7 8]\n",
      " [9 0]]\n",
      "[[ 0.          0.11111111]\n",
      " [ 0.125      -0.09722222]]\n",
      "[[7 9]\n",
      " [8 0]]\n",
      "[[70 80]\n",
      " [90  0]]\n"
     ]
    }
   ],
   "source": [
    "array2 = np.array([[7, 8], [9, 0]]) # another 2d array\n",
    "print(array2)\n",
    "\n",
    "inverse = np.linalg.inv(array2)\n",
    "print(inverse)\n",
    "\n",
    "trans = array2.transpose()\n",
    "print(trans)\n",
    "\n",
    "# ways of computing a scalar product\n",
    "scalarproduct = array2 * 10\n",
    "scalarproduct = array2.dot(10)\n",
    "print(scalarproduct)"
   ]
  },
  {
   "cell_type": "code",
   "execution_count": 139,
   "metadata": {},
   "outputs": [
    {
     "name": "stdout",
     "output_type": "stream",
     "text": [
      "[1 2 3]\n",
      "[  1  10 100]\n",
      "[  2  12 103]\n",
      "[1.   0.2  0.03]\n",
      "321\n",
      "[170 -97   8]\n"
     ]
    }
   ],
   "source": [
    "vector1 = np.array([1,2,3])\n",
    "print(vector1)\n",
    "vector2 = np.array([1,10,100])\n",
    "print(vector2)\n",
    "\n",
    "# element-wise operations\n",
    "elementsum = vector1 + vector2\n",
    "print(elementsum)\n",
    "elementproduct = vector1 / vector2\n",
    "print(elementproduct)\n",
    "\n",
    "# .dot() also computes inner product\n",
    "innerproduct = vector1.dot(vector2)\n",
    "print(innerproduct)\n",
    "\n",
    "# other vector operations also supported\n",
    "innerproduct = np.cross(vector1,vector2)\n",
    "print(innerproduct)"
   ]
  },
  {
   "cell_type": "markdown",
   "metadata": {},
   "source": [
    "### Generating Random Numbers"
   ]
  },
  {
   "cell_type": "code",
   "execution_count": 140,
   "metadata": {},
   "outputs": [
    {
     "name": "stdout",
     "output_type": "stream",
     "text": [
      "[ 0.72327965  0.06926786 -0.5053938   0.85687604 -0.71775493 -1.50883144\n",
      " -1.21707161  0.53782412 -0.27798733  0.75728679 -0.1658114  -0.75248736\n",
      " -0.50651854 -1.46569974 -0.90482505 -0.38450146  0.06388031 -1.32430606\n",
      " -0.12728403 -0.02810934 -0.16009464  0.09679081  0.83643277  2.13996189\n",
      "  1.56475913]\n",
      "[[0.46128891 0.2517915  0.22518448 0.46758265]\n",
      " [0.56805173 0.74121159 0.50173302 0.50446049]]\n"
     ]
    }
   ],
   "source": [
    "# numpy has a large assortment of functions for generating random data\n",
    "\n",
    "array = np.random.standard_normal(25)\n",
    "print(array)\n",
    "\n",
    "# creating an array with a given shape filled with values between 0 and 1\n",
    "array = np.random.rand(2,4)\n",
    "print(array)\n",
    "\n",
    "# other important random distributions"
   ]
  },
  {
   "cell_type": "markdown",
   "metadata": {},
   "source": [
    "## Organizing your data with pandas dataframes"
   ]
  },
  {
   "cell_type": "code",
   "execution_count": 141,
   "metadata": {},
   "outputs": [
    {
     "data": {
      "text/html": [
       "<div>\n",
       "<style scoped>\n",
       "    .dataframe tbody tr th:only-of-type {\n",
       "        vertical-align: middle;\n",
       "    }\n",
       "\n",
       "    .dataframe tbody tr th {\n",
       "        vertical-align: top;\n",
       "    }\n",
       "\n",
       "    .dataframe thead th {\n",
       "        text-align: right;\n",
       "    }\n",
       "</style>\n",
       "<table border=\"1\" class=\"dataframe\">\n",
       "  <thead>\n",
       "    <tr style=\"text-align: right;\">\n",
       "      <th></th>\n",
       "      <th>firstname</th>\n",
       "      <th>lastname</th>\n",
       "      <th>value</th>\n",
       "    </tr>\n",
       "  </thead>\n",
       "  <tbody>\n",
       "    <tr>\n",
       "      <th>0</th>\n",
       "      <td>a</td>\n",
       "      <td>x</td>\n",
       "      <td>23</td>\n",
       "    </tr>\n",
       "    <tr>\n",
       "      <th>1</th>\n",
       "      <td>b</td>\n",
       "      <td>y</td>\n",
       "      <td>45</td>\n",
       "    </tr>\n",
       "    <tr>\n",
       "      <th>2</th>\n",
       "      <td>c</td>\n",
       "      <td>z</td>\n",
       "      <td>67</td>\n",
       "    </tr>\n",
       "  </tbody>\n",
       "</table>\n",
       "</div>"
      ],
      "text/plain": [
       "  firstname lastname value\n",
       "0         a        x    23\n",
       "1         b        y    45\n",
       "2         c        z    67"
      ]
     },
     "execution_count": 141,
     "metadata": {},
     "output_type": "execute_result"
    }
   ],
   "source": [
    "import pandas as pd\n",
    "# pd is the standard abbreviation for pandas\n",
    "\n",
    "# pandas dataframes are similar to 2D arrays, but are more in the style of a database\n",
    "# rows represent IDs / entries / labels / observations\n",
    "# colums represent properties / measured variables\n",
    "\n",
    "array = np.array([['a','x',23],['b','y',45],['c','z',67]])\n",
    "df = pd.DataFrame(array,columns=['firstname','lastname','value'])\n",
    "df"
   ]
  },
  {
   "cell_type": "code",
   "execution_count": 142,
   "metadata": {},
   "outputs": [
    {
     "data": {
      "text/html": [
       "<div>\n",
       "<style scoped>\n",
       "    .dataframe tbody tr th:only-of-type {\n",
       "        vertical-align: middle;\n",
       "    }\n",
       "\n",
       "    .dataframe tbody tr th {\n",
       "        vertical-align: top;\n",
       "    }\n",
       "\n",
       "    .dataframe thead th {\n",
       "        text-align: right;\n",
       "    }\n",
       "</style>\n",
       "<table border=\"1\" class=\"dataframe\">\n",
       "  <thead>\n",
       "    <tr style=\"text-align: right;\">\n",
       "      <th></th>\n",
       "      <th>lastname</th>\n",
       "      <th>value</th>\n",
       "    </tr>\n",
       "    <tr>\n",
       "      <th>firstname</th>\n",
       "      <th></th>\n",
       "      <th></th>\n",
       "    </tr>\n",
       "  </thead>\n",
       "  <tbody>\n",
       "    <tr>\n",
       "      <th>a</th>\n",
       "      <td>x</td>\n",
       "      <td>23</td>\n",
       "    </tr>\n",
       "    <tr>\n",
       "      <th>b</th>\n",
       "      <td>y</td>\n",
       "      <td>45</td>\n",
       "    </tr>\n",
       "    <tr>\n",
       "      <th>c</th>\n",
       "      <td>z</td>\n",
       "      <td>67</td>\n",
       "    </tr>\n",
       "  </tbody>\n",
       "</table>\n",
       "</div>"
      ],
      "text/plain": [
       "          lastname value\n",
       "firstname               \n",
       "a                x    23\n",
       "b                y    45\n",
       "c                z    67"
      ]
     },
     "execution_count": 142,
     "metadata": {},
     "output_type": "execute_result"
    }
   ],
   "source": [
    "# copies can be made which are unaffected by modifications to the original\n",
    "dfcopy = df.copy()\n",
    "\n",
    "# convert the 'firstname' column into the row label, replacing the default labels\n",
    "df.set_index('firstname', inplace=True)\n",
    "df"
   ]
  },
  {
   "cell_type": "code",
   "execution_count": 143,
   "metadata": {},
   "outputs": [
    {
     "data": {
      "text/plain": [
       "lastname     x\n",
       "value       23\n",
       "Name: a, dtype: object"
      ]
     },
     "execution_count": 143,
     "metadata": {},
     "output_type": "execute_result"
    }
   ],
   "source": [
    "# ways to index a dataframe\n",
    "df.loc['a']  # get row based on label"
   ]
  },
  {
   "cell_type": "code",
   "execution_count": 144,
   "metadata": {},
   "outputs": [
    {
     "data": {
      "text/plain": [
       "'x'"
      ]
     },
     "execution_count": 144,
     "metadata": {},
     "output_type": "execute_result"
    }
   ],
   "source": [
    "df.loc['a','lastname']  # get element based on row and column label"
   ]
  },
  {
   "cell_type": "code",
   "execution_count": 145,
   "metadata": {},
   "outputs": [
    {
     "data": {
      "text/plain": [
       "lastname     x\n",
       "value       23\n",
       "Name: a, dtype: object"
      ]
     },
     "execution_count": 145,
     "metadata": {},
     "output_type": "execute_result"
    }
   ],
   "source": [
    "df.iloc[0]  # get row based on label"
   ]
  },
  {
   "cell_type": "code",
   "execution_count": 146,
   "metadata": {},
   "outputs": [
    {
     "data": {
      "text/plain": [
       "'x'"
      ]
     },
     "execution_count": 146,
     "metadata": {},
     "output_type": "execute_result"
    }
   ],
   "source": [
    "df.iloc[0,0]  # get element based on label and column index"
   ]
  },
  {
   "cell_type": "code",
   "execution_count": 147,
   "metadata": {},
   "outputs": [
    {
     "data": {
      "text/html": [
       "<div>\n",
       "<style scoped>\n",
       "    .dataframe tbody tr th:only-of-type {\n",
       "        vertical-align: middle;\n",
       "    }\n",
       "\n",
       "    .dataframe tbody tr th {\n",
       "        vertical-align: top;\n",
       "    }\n",
       "\n",
       "    .dataframe thead th {\n",
       "        text-align: right;\n",
       "    }\n",
       "</style>\n",
       "<table border=\"1\" class=\"dataframe\">\n",
       "  <thead>\n",
       "    <tr style=\"text-align: right;\">\n",
       "      <th></th>\n",
       "      <th>value</th>\n",
       "      <th>lastname</th>\n",
       "    </tr>\n",
       "    <tr>\n",
       "      <th>firstname</th>\n",
       "      <th></th>\n",
       "      <th></th>\n",
       "    </tr>\n",
       "  </thead>\n",
       "  <tbody>\n",
       "    <tr>\n",
       "      <th>c</th>\n",
       "      <td>67</td>\n",
       "      <td>z</td>\n",
       "    </tr>\n",
       "    <tr>\n",
       "      <th>a</th>\n",
       "      <td>23</td>\n",
       "      <td>x</td>\n",
       "    </tr>\n",
       "  </tbody>\n",
       "</table>\n",
       "</div>"
      ],
      "text/plain": [
       "          value lastname\n",
       "firstname               \n",
       "c            67        z\n",
       "a            23        x"
      ]
     },
     "execution_count": 147,
     "metadata": {},
     "output_type": "execute_result"
    }
   ],
   "source": [
    "# can get a section of the dataframe by specifying multiple rows and columns\n",
    "# notice the reordering of data\n",
    "df.loc[('c','a'),('value','lastname')]"
   ]
  },
  {
   "cell_type": "code",
   "execution_count": 148,
   "metadata": {},
   "outputs": [
    {
     "data": {
      "text/plain": [
       "firstname\n",
       "a    23\n",
       "b    45\n",
       "c    67\n",
       "Name: value, dtype: object"
      ]
     },
     "execution_count": 148,
     "metadata": {},
     "output_type": "execute_result"
    }
   ],
   "source": [
    "# getting a single column\n",
    "df.loc[:,'value']"
   ]
  },
  {
   "cell_type": "code",
   "execution_count": 149,
   "metadata": {},
   "outputs": [
    {
     "data": {
      "text/plain": [
       "firstname\n",
       "a    23\n",
       "b    45\n",
       "c    67\n",
       "Name: value, dtype: object"
      ]
     },
     "execution_count": 149,
     "metadata": {},
     "output_type": "execute_result"
    }
   ],
   "source": [
    "# you can index columns with []\n",
    "df['value']"
   ]
  },
  {
   "cell_type": "code",
   "execution_count": 150,
   "metadata": {},
   "outputs": [
    {
     "data": {
      "text/html": [
       "<div>\n",
       "<style scoped>\n",
       "    .dataframe tbody tr th:only-of-type {\n",
       "        vertical-align: middle;\n",
       "    }\n",
       "\n",
       "    .dataframe tbody tr th {\n",
       "        vertical-align: top;\n",
       "    }\n",
       "\n",
       "    .dataframe thead th {\n",
       "        text-align: right;\n",
       "    }\n",
       "</style>\n",
       "<table border=\"1\" class=\"dataframe\">\n",
       "  <thead>\n",
       "    <tr style=\"text-align: right;\">\n",
       "      <th></th>\n",
       "      <th>lastname</th>\n",
       "      <th>value</th>\n",
       "    </tr>\n",
       "    <tr>\n",
       "      <th>firstname</th>\n",
       "      <th></th>\n",
       "      <th></th>\n",
       "    </tr>\n",
       "  </thead>\n",
       "  <tbody>\n",
       "    <tr>\n",
       "      <th>a</th>\n",
       "      <td>x</td>\n",
       "      <td>23</td>\n",
       "    </tr>\n",
       "    <tr>\n",
       "      <th>c</th>\n",
       "      <td>z</td>\n",
       "      <td>67</td>\n",
       "    </tr>\n",
       "  </tbody>\n",
       "</table>\n",
       "</div>"
      ],
      "text/plain": [
       "          lastname value\n",
       "firstname               \n",
       "a                x    23\n",
       "c                z    67"
      ]
     },
     "execution_count": 150,
     "metadata": {},
     "output_type": "execute_result"
    }
   ],
   "source": [
    "# you can also index rows with [] if you have a boolean list indicating rows to include\n",
    "df[[True,False,True]]"
   ]
  },
  {
   "cell_type": "code",
   "execution_count": 151,
   "metadata": {},
   "outputs": [
    {
     "data": {
      "text/plain": [
       "pandas.core.series.Series"
      ]
     },
     "execution_count": 151,
     "metadata": {},
     "output_type": "execute_result"
    }
   ],
   "source": [
    "# while a pandas DataFrame is a 2D structure, a pandas Series is a 1D structure, representing a column or row\n",
    "type(df.loc['a'])"
   ]
  },
  {
   "cell_type": "code",
   "execution_count": 152,
   "metadata": {},
   "outputs": [
    {
     "name": "stdout",
     "output_type": "stream",
     "text": [
      "0    a\n",
      "1    b\n",
      "2    c\n",
      "3    d\n",
      "4    e\n",
      "dtype: object\n",
      "\n",
      "col1    a\n",
      "col2    b\n",
      "col3    c\n",
      "col4    d\n",
      "col5    e\n",
      "dtype: object\n",
      "\n",
      "col1    val1\n",
      "col2    val2\n",
      "dtype: object\n"
     ]
    }
   ],
   "source": [
    "# there are different ways of declaring a Series\n",
    "\n",
    "# from a list or array\n",
    "series = pd.Series(['a','b','c','d','e'])\n",
    "print(series)\n",
    "print()\n",
    "\n",
    "# similar to rows/columns, the different positions can have different labels\n",
    "series = pd.Series(['a','b','c','d','e'],index=['col1','col2','col3','col4','col5'])\n",
    "print(series)\n",
    "print()\n",
    "\n",
    "# a python dictionary can also be converted to a series\n",
    "series = pd.Series({'col1':'val1','col2':'val2'})\n",
    "print(series)"
   ]
  },
  {
   "cell_type": "code",
   "execution_count": 153,
   "metadata": {},
   "outputs": [
    {
     "name": "stdout",
     "output_type": "stream",
     "text": [
      "lastname     x\n",
      "value       23\n",
      "Name: a, dtype: object\n"
     ]
    },
    {
     "data": {
      "text/html": [
       "<div>\n",
       "<style scoped>\n",
       "    .dataframe tbody tr th:only-of-type {\n",
       "        vertical-align: middle;\n",
       "    }\n",
       "\n",
       "    .dataframe tbody tr th {\n",
       "        vertical-align: top;\n",
       "    }\n",
       "\n",
       "    .dataframe thead th {\n",
       "        text-align: right;\n",
       "    }\n",
       "</style>\n",
       "<table border=\"1\" class=\"dataframe\">\n",
       "  <thead>\n",
       "    <tr style=\"text-align: right;\">\n",
       "      <th></th>\n",
       "      <th>lastname</th>\n",
       "      <th>value</th>\n",
       "    </tr>\n",
       "    <tr>\n",
       "      <th>firstname</th>\n",
       "      <th></th>\n",
       "      <th></th>\n",
       "    </tr>\n",
       "  </thead>\n",
       "  <tbody>\n",
       "    <tr>\n",
       "      <th>a</th>\n",
       "      <td>x</td>\n",
       "      <td>23</td>\n",
       "    </tr>\n",
       "    <tr>\n",
       "      <th>b</th>\n",
       "      <td>y</td>\n",
       "      <td>45</td>\n",
       "    </tr>\n",
       "    <tr>\n",
       "      <th>c</th>\n",
       "      <td>z</td>\n",
       "      <td>67</td>\n",
       "    </tr>\n",
       "    <tr>\n",
       "      <th>d</th>\n",
       "      <td>x</td>\n",
       "      <td>23</td>\n",
       "    </tr>\n",
       "  </tbody>\n",
       "</table>\n",
       "</div>"
      ],
      "text/plain": [
       "          lastname value\n",
       "firstname               \n",
       "a                x    23\n",
       "b                y    45\n",
       "c                z    67\n",
       "d                x    23"
      ]
     },
     "execution_count": 153,
     "metadata": {},
     "output_type": "execute_result"
    }
   ],
   "source": [
    "# rows and columns of the dataframe can be added or edited\n",
    "\n",
    "series = df.loc['a']\n",
    "print(series)\n",
    "df.loc['d'] = series\n",
    "df"
   ]
  },
  {
   "cell_type": "code",
   "execution_count": 154,
   "metadata": {},
   "outputs": [
    {
     "data": {
      "text/html": [
       "<div>\n",
       "<style scoped>\n",
       "    .dataframe tbody tr th:only-of-type {\n",
       "        vertical-align: middle;\n",
       "    }\n",
       "\n",
       "    .dataframe tbody tr th {\n",
       "        vertical-align: top;\n",
       "    }\n",
       "\n",
       "    .dataframe thead th {\n",
       "        text-align: right;\n",
       "    }\n",
       "</style>\n",
       "<table border=\"1\" class=\"dataframe\">\n",
       "  <thead>\n",
       "    <tr style=\"text-align: right;\">\n",
       "      <th></th>\n",
       "      <th>lastname</th>\n",
       "      <th>value</th>\n",
       "    </tr>\n",
       "    <tr>\n",
       "      <th>firstname</th>\n",
       "      <th></th>\n",
       "      <th></th>\n",
       "    </tr>\n",
       "  </thead>\n",
       "  <tbody>\n",
       "    <tr>\n",
       "      <th>a</th>\n",
       "      <td>x</td>\n",
       "      <td>3</td>\n",
       "    </tr>\n",
       "    <tr>\n",
       "      <th>b</th>\n",
       "      <td>y</td>\n",
       "      <td>5</td>\n",
       "    </tr>\n",
       "    <tr>\n",
       "      <th>c</th>\n",
       "      <td>z</td>\n",
       "      <td>7</td>\n",
       "    </tr>\n",
       "    <tr>\n",
       "      <th>d</th>\n",
       "      <td>x</td>\n",
       "      <td>9</td>\n",
       "    </tr>\n",
       "  </tbody>\n",
       "</table>\n",
       "</div>"
      ],
      "text/plain": [
       "          lastname  value\n",
       "firstname                \n",
       "a                x      3\n",
       "b                y      5\n",
       "c                z      7\n",
       "d                x      9"
      ]
     },
     "execution_count": 154,
     "metadata": {},
     "output_type": "execute_result"
    }
   ],
   "source": [
    "df.loc[:,'value'] = [3,5,7,9]\n",
    "df"
   ]
  },
  {
   "cell_type": "code",
   "execution_count": 155,
   "metadata": {},
   "outputs": [
    {
     "data": {
      "text/html": [
       "<div>\n",
       "<style scoped>\n",
       "    .dataframe tbody tr th:only-of-type {\n",
       "        vertical-align: middle;\n",
       "    }\n",
       "\n",
       "    .dataframe tbody tr th {\n",
       "        vertical-align: top;\n",
       "    }\n",
       "\n",
       "    .dataframe thead th {\n",
       "        text-align: right;\n",
       "    }\n",
       "</style>\n",
       "<table border=\"1\" class=\"dataframe\">\n",
       "  <thead>\n",
       "    <tr style=\"text-align: right;\">\n",
       "      <th></th>\n",
       "      <th>col1</th>\n",
       "      <th>col2</th>\n",
       "      <th>col3</th>\n",
       "    </tr>\n",
       "  </thead>\n",
       "  <tbody>\n",
       "    <tr>\n",
       "      <th>0</th>\n",
       "      <td>1</td>\n",
       "      <td>5</td>\n",
       "      <td>0</td>\n",
       "    </tr>\n",
       "    <tr>\n",
       "      <th>1</th>\n",
       "      <td>2</td>\n",
       "      <td>6</td>\n",
       "      <td>0</td>\n",
       "    </tr>\n",
       "    <tr>\n",
       "      <th>2</th>\n",
       "      <td>3</td>\n",
       "      <td>7</td>\n",
       "      <td>0</td>\n",
       "    </tr>\n",
       "    <tr>\n",
       "      <th>3</th>\n",
       "      <td>4</td>\n",
       "      <td>8</td>\n",
       "      <td>0</td>\n",
       "    </tr>\n",
       "  </tbody>\n",
       "</table>\n",
       "</div>"
      ],
      "text/plain": [
       "   col1  col2  col3\n",
       "0     1     5     0\n",
       "1     2     6     0\n",
       "2     3     7     0\n",
       "3     4     8     0"
      ]
     },
     "execution_count": 155,
     "metadata": {},
     "output_type": "execute_result"
    }
   ],
   "source": [
    "# another way to declare dataframes\n",
    "df1 = pd.DataFrame({'col1':[1,2,3,4],'col2':[5,6,7,8],'col3':[0,0,0,0]})\n",
    "df1"
   ]
  },
  {
   "cell_type": "code",
   "execution_count": 156,
   "metadata": {},
   "outputs": [
    {
     "name": "stdout",
     "output_type": "stream",
     "text": [
      "   col1  col2  col4\n",
      "0    10    30    60\n",
      "1    20    40    70\n",
      "   col1  col2  col3  col4\n",
      "0     1     5   0.0   NaN\n",
      "1     2     6   0.0   NaN\n",
      "2     3     7   0.0   NaN\n",
      "3     4     8   0.0   NaN\n",
      "0    10    30   NaN  60.0\n",
      "1    20    40   NaN  70.0\n",
      "   col1  col2  col3  col4\n",
      "0     1     5   0.0   NaN\n",
      "1     2     6   0.0   NaN\n",
      "2     3     7   0.0   NaN\n",
      "3     4     8   0.0   NaN\n",
      "0    10    30   NaN  60.0\n",
      "1    20    40   NaN  70.0\n"
     ]
    },
    {
     "name": "stderr",
     "output_type": "stream",
     "text": [
      "/Users/nickblauch/anaconda/envs/python3/lib/python3.6/site-packages/pandas/core/frame.py:6211: FutureWarning: Sorting because non-concatenation axis is not aligned. A future version\n",
      "of pandas will change to not sort by default.\n",
      "\n",
      "To accept the future behavior, pass 'sort=False'.\n",
      "\n",
      "To retain the current behavior and silence the warning, pass 'sort=True'.\n",
      "\n",
      "  sort=sort)\n",
      "/Users/nickblauch/anaconda/envs/python3/lib/python3.6/site-packages/ipykernel_launcher.py:11: FutureWarning: Sorting because non-concatenation axis is not aligned. A future version\n",
      "of pandas will change to not sort by default.\n",
      "\n",
      "To accept the future behavior, pass 'sort=False'.\n",
      "\n",
      "To retain the current behavior and silence the warning, pass 'sort=True'.\n",
      "\n",
      "  # This is added back by InteractiveShellApp.init_path()\n"
     ]
    }
   ],
   "source": [
    "# make a second dataframe with some overlap in column names\n",
    "\n",
    "df2 = pd.DataFrame({'col1':[10,20],'col2':[30,40],'col4':[60,70]})\n",
    "print(df2)\n",
    "\n",
    "# append one to the other (original dataframes are unmodified)\n",
    "result = df1.append(df2)\n",
    "print(result)\n",
    "\n",
    "# concatenate a list of dataframes together\n",
    "result = pd.concat([df1,df2],sort=False)\n",
    "print(result)"
   ]
  },
  {
   "cell_type": "code",
   "execution_count": 157,
   "metadata": {},
   "outputs": [
    {
     "data": {
      "text/html": [
       "<div>\n",
       "<style scoped>\n",
       "    .dataframe tbody tr th:only-of-type {\n",
       "        vertical-align: middle;\n",
       "    }\n",
       "\n",
       "    .dataframe tbody tr th {\n",
       "        vertical-align: top;\n",
       "    }\n",
       "\n",
       "    .dataframe thead th {\n",
       "        text-align: right;\n",
       "    }\n",
       "</style>\n",
       "<table border=\"1\" class=\"dataframe\">\n",
       "  <thead>\n",
       "    <tr style=\"text-align: right;\">\n",
       "      <th></th>\n",
       "      <th>col1</th>\n",
       "      <th>col2</th>\n",
       "      <th>col3</th>\n",
       "      <th>col4</th>\n",
       "    </tr>\n",
       "  </thead>\n",
       "  <tbody>\n",
       "    <tr>\n",
       "      <th>0</th>\n",
       "      <td>1</td>\n",
       "      <td>5</td>\n",
       "      <td>0.0</td>\n",
       "      <td>NaN</td>\n",
       "    </tr>\n",
       "    <tr>\n",
       "      <th>1</th>\n",
       "      <td>2</td>\n",
       "      <td>6</td>\n",
       "      <td>0.0</td>\n",
       "      <td>NaN</td>\n",
       "    </tr>\n",
       "    <tr>\n",
       "      <th>2</th>\n",
       "      <td>3</td>\n",
       "      <td>7</td>\n",
       "      <td>0.0</td>\n",
       "      <td>NaN</td>\n",
       "    </tr>\n",
       "    <tr>\n",
       "      <th>3</th>\n",
       "      <td>4</td>\n",
       "      <td>8</td>\n",
       "      <td>0.0</td>\n",
       "      <td>NaN</td>\n",
       "    </tr>\n",
       "    <tr>\n",
       "      <th>4</th>\n",
       "      <td>10</td>\n",
       "      <td>30</td>\n",
       "      <td>NaN</td>\n",
       "      <td>60.0</td>\n",
       "    </tr>\n",
       "    <tr>\n",
       "      <th>5</th>\n",
       "      <td>20</td>\n",
       "      <td>40</td>\n",
       "      <td>NaN</td>\n",
       "      <td>70.0</td>\n",
       "    </tr>\n",
       "    <tr>\n",
       "      <th>6</th>\n",
       "      <td>11</td>\n",
       "      <td>22</td>\n",
       "      <td>33.0</td>\n",
       "      <td>44.0</td>\n",
       "    </tr>\n",
       "  </tbody>\n",
       "</table>\n",
       "</div>"
      ],
      "text/plain": [
       "   col1  col2  col3  col4\n",
       "0     1     5   0.0   NaN\n",
       "1     2     6   0.0   NaN\n",
       "2     3     7   0.0   NaN\n",
       "3     4     8   0.0   NaN\n",
       "4    10    30   NaN  60.0\n",
       "5    20    40   NaN  70.0\n",
       "6    11    22  33.0  44.0"
      ]
     },
     "execution_count": 157,
     "metadata": {},
     "output_type": "execute_result"
    }
   ],
   "source": [
    "rowtoappend = pd.Series([11,22,33,44], index=result.columns)\n",
    "df = result.append(rowtoappend, ignore_index=True)  #ignore_index resets/recomputes the default indices\n",
    "df"
   ]
  },
  {
   "cell_type": "code",
   "execution_count": 158,
   "metadata": {},
   "outputs": [
    {
     "name": "stdout",
     "output_type": "stream",
     "text": [
      "col1     7.285714\n",
      "col2    16.857143\n",
      "col3     6.600000\n",
      "col4    58.000000\n",
      "dtype: float64\n",
      "col1     6.824326\n",
      "col2    13.957418\n",
      "col3    14.758049\n",
      "col4    13.114877\n",
      "dtype: float64\n",
      "   col1   col2  col3   col4\n",
      "0   1.0    5.0   0.0    NaN\n",
      "1   3.0   11.0   0.0    NaN\n",
      "2   6.0   18.0   0.0    NaN\n",
      "3  10.0   26.0   0.0    NaN\n",
      "4  20.0   56.0   NaN   60.0\n",
      "5  40.0   96.0   NaN  130.0\n",
      "6  51.0  118.0  33.0  174.0\n"
     ]
    }
   ],
   "source": [
    "# calculating basic statistics on dataframes\n",
    "\n",
    "print(df.mean())\n",
    "print(df.std())\n",
    "print(df.cumsum())"
   ]
  },
  {
   "cell_type": "code",
   "execution_count": 159,
   "metadata": {},
   "outputs": [
    {
     "name": "stdout",
     "output_type": "stream",
     "text": [
      "    col1   col2   col3   col4\n",
      "0  False  False  False   True\n",
      "1  False  False  False   True\n",
      "2  False  False  False   True\n",
      "3  False  False  False   True\n",
      "4  False  False   True  False\n",
      "5  False  False   True  False\n",
      "6  False  False  False  False\n",
      "   col1  col2   col3   col4\n",
      "0  True  True   True  False\n",
      "1  True  True   True  False\n",
      "2  True  True   True  False\n",
      "3  True  True   True  False\n",
      "4  True  True  False   True\n",
      "5  True  True  False   True\n",
      "6  True  True   True   True\n"
     ]
    }
   ],
   "source": [
    "# ways to test for NaN values\n",
    "print(df.isna())\n",
    "print(df.notna())"
   ]
  },
  {
   "cell_type": "code",
   "execution_count": 160,
   "metadata": {},
   "outputs": [
    {
     "name": "stdout",
     "output_type": "stream",
     "text": [
      "0     True\n",
      "1     True\n",
      "2     True\n",
      "3     True\n",
      "4    False\n",
      "5    False\n",
      "6    False\n",
      "Name: col3, dtype: bool\n",
      "0     True\n",
      "1     True\n",
      "2     True\n",
      "3     True\n",
      "4    False\n",
      "5    False\n",
      "6     True\n",
      "Name: col3, dtype: bool\n"
     ]
    }
   ],
   "source": [
    "# testing columns/rows produces a series of boolean values\n",
    "print(df['col3']<10)\n",
    "print(df['col3'].notna())"
   ]
  },
  {
   "cell_type": "code",
   "execution_count": 161,
   "metadata": {},
   "outputs": [
    {
     "data": {
      "text/html": [
       "<div>\n",
       "<style scoped>\n",
       "    .dataframe tbody tr th:only-of-type {\n",
       "        vertical-align: middle;\n",
       "    }\n",
       "\n",
       "    .dataframe tbody tr th {\n",
       "        vertical-align: top;\n",
       "    }\n",
       "\n",
       "    .dataframe thead th {\n",
       "        text-align: right;\n",
       "    }\n",
       "</style>\n",
       "<table border=\"1\" class=\"dataframe\">\n",
       "  <thead>\n",
       "    <tr style=\"text-align: right;\">\n",
       "      <th></th>\n",
       "      <th>col1</th>\n",
       "      <th>col2</th>\n",
       "      <th>col3</th>\n",
       "      <th>col4</th>\n",
       "    </tr>\n",
       "  </thead>\n",
       "  <tbody>\n",
       "    <tr>\n",
       "      <th>0</th>\n",
       "      <td>1</td>\n",
       "      <td>5</td>\n",
       "      <td>0.0</td>\n",
       "      <td>NaN</td>\n",
       "    </tr>\n",
       "    <tr>\n",
       "      <th>1</th>\n",
       "      <td>2</td>\n",
       "      <td>6</td>\n",
       "      <td>0.0</td>\n",
       "      <td>NaN</td>\n",
       "    </tr>\n",
       "    <tr>\n",
       "      <th>2</th>\n",
       "      <td>3</td>\n",
       "      <td>7</td>\n",
       "      <td>0.0</td>\n",
       "      <td>NaN</td>\n",
       "    </tr>\n",
       "    <tr>\n",
       "      <th>3</th>\n",
       "      <td>4</td>\n",
       "      <td>8</td>\n",
       "      <td>0.0</td>\n",
       "      <td>NaN</td>\n",
       "    </tr>\n",
       "    <tr>\n",
       "      <th>6</th>\n",
       "      <td>11</td>\n",
       "      <td>22</td>\n",
       "      <td>33.0</td>\n",
       "      <td>44.0</td>\n",
       "    </tr>\n",
       "  </tbody>\n",
       "</table>\n",
       "</div>"
      ],
      "text/plain": [
       "   col1  col2  col3  col4\n",
       "0     1     5   0.0   NaN\n",
       "1     2     6   0.0   NaN\n",
       "2     3     7   0.0   NaN\n",
       "3     4     8   0.0   NaN\n",
       "6    11    22  33.0  44.0"
      ]
     },
     "execution_count": 161,
     "metadata": {},
     "output_type": "execute_result"
    }
   ],
   "source": [
    "# you can use this to filter\n",
    "filtered = df[df['col3'].notna()]\n",
    "filtered"
   ]
  },
  {
   "cell_type": "code",
   "execution_count": 60,
   "metadata": {},
   "outputs": [
    {
     "data": {
      "text/html": [
       "<div>\n",
       "<style scoped>\n",
       "    .dataframe tbody tr th:only-of-type {\n",
       "        vertical-align: middle;\n",
       "    }\n",
       "\n",
       "    .dataframe tbody tr th {\n",
       "        vertical-align: top;\n",
       "    }\n",
       "\n",
       "    .dataframe thead th {\n",
       "        text-align: right;\n",
       "    }\n",
       "</style>\n",
       "<table border=\"1\" class=\"dataframe\">\n",
       "  <thead>\n",
       "    <tr style=\"text-align: right;\">\n",
       "      <th></th>\n",
       "      <th>col1</th>\n",
       "      <th>col2</th>\n",
       "      <th>col3</th>\n",
       "      <th>col4</th>\n",
       "    </tr>\n",
       "  </thead>\n",
       "  <tbody>\n",
       "    <tr>\n",
       "      <th>0</th>\n",
       "      <td>1</td>\n",
       "      <td>5</td>\n",
       "      <td>0.0</td>\n",
       "      <td>0.0</td>\n",
       "    </tr>\n",
       "    <tr>\n",
       "      <th>1</th>\n",
       "      <td>2</td>\n",
       "      <td>6</td>\n",
       "      <td>0.0</td>\n",
       "      <td>0.0</td>\n",
       "    </tr>\n",
       "    <tr>\n",
       "      <th>2</th>\n",
       "      <td>3</td>\n",
       "      <td>7</td>\n",
       "      <td>0.0</td>\n",
       "      <td>0.0</td>\n",
       "    </tr>\n",
       "    <tr>\n",
       "      <th>3</th>\n",
       "      <td>4</td>\n",
       "      <td>8</td>\n",
       "      <td>0.0</td>\n",
       "      <td>0.0</td>\n",
       "    </tr>\n",
       "    <tr>\n",
       "      <th>4</th>\n",
       "      <td>10</td>\n",
       "      <td>30</td>\n",
       "      <td>0.0</td>\n",
       "      <td>60.0</td>\n",
       "    </tr>\n",
       "    <tr>\n",
       "      <th>5</th>\n",
       "      <td>20</td>\n",
       "      <td>40</td>\n",
       "      <td>0.0</td>\n",
       "      <td>70.0</td>\n",
       "    </tr>\n",
       "    <tr>\n",
       "      <th>6</th>\n",
       "      <td>11</td>\n",
       "      <td>22</td>\n",
       "      <td>33.0</td>\n",
       "      <td>44.0</td>\n",
       "    </tr>\n",
       "  </tbody>\n",
       "</table>\n",
       "</div>"
      ],
      "text/plain": [
       "   col1  col2  col3  col4\n",
       "0     1     5   0.0   0.0\n",
       "1     2     6   0.0   0.0\n",
       "2     3     7   0.0   0.0\n",
       "3     4     8   0.0   0.0\n",
       "4    10    30   0.0  60.0\n",
       "5    20    40   0.0  70.0\n",
       "6    11    22  33.0  44.0"
      ]
     },
     "execution_count": 60,
     "metadata": {},
     "output_type": "execute_result"
    }
   ],
   "source": [
    "df = df.fillna(0) # lots of arguments can be provided for different methods of filling missing data\n",
    "df"
   ]
  },
  {
   "cell_type": "code",
   "execution_count": 61,
   "metadata": {},
   "outputs": [
    {
     "data": {
      "text/html": [
       "<div>\n",
       "<style scoped>\n",
       "    .dataframe tbody tr th:only-of-type {\n",
       "        vertical-align: middle;\n",
       "    }\n",
       "\n",
       "    .dataframe tbody tr th {\n",
       "        vertical-align: top;\n",
       "    }\n",
       "\n",
       "    .dataframe thead th {\n",
       "        text-align: right;\n",
       "    }\n",
       "</style>\n",
       "<table border=\"1\" class=\"dataframe\">\n",
       "  <thead>\n",
       "    <tr style=\"text-align: right;\">\n",
       "      <th></th>\n",
       "      <th>col1</th>\n",
       "      <th>col2</th>\n",
       "      <th>col3</th>\n",
       "      <th>col4</th>\n",
       "    </tr>\n",
       "  </thead>\n",
       "  <tbody>\n",
       "    <tr>\n",
       "      <th>0</th>\n",
       "      <td>1</td>\n",
       "      <td>5</td>\n",
       "      <td>0.0</td>\n",
       "      <td>0.0</td>\n",
       "    </tr>\n",
       "    <tr>\n",
       "      <th>1</th>\n",
       "      <td>2</td>\n",
       "      <td>6</td>\n",
       "      <td>0.0</td>\n",
       "      <td>0.0</td>\n",
       "    </tr>\n",
       "    <tr>\n",
       "      <th>2</th>\n",
       "      <td>3</td>\n",
       "      <td>7</td>\n",
       "      <td>0.0</td>\n",
       "      <td>0.0</td>\n",
       "    </tr>\n",
       "    <tr>\n",
       "      <th>3</th>\n",
       "      <td>4</td>\n",
       "      <td>8</td>\n",
       "      <td>0.0</td>\n",
       "      <td>0.0</td>\n",
       "    </tr>\n",
       "    <tr>\n",
       "      <th>6</th>\n",
       "      <td>11</td>\n",
       "      <td>22</td>\n",
       "      <td>33.0</td>\n",
       "      <td>44.0</td>\n",
       "    </tr>\n",
       "    <tr>\n",
       "      <th>4</th>\n",
       "      <td>10</td>\n",
       "      <td>30</td>\n",
       "      <td>0.0</td>\n",
       "      <td>60.0</td>\n",
       "    </tr>\n",
       "    <tr>\n",
       "      <th>5</th>\n",
       "      <td>20</td>\n",
       "      <td>40</td>\n",
       "      <td>0.0</td>\n",
       "      <td>70.0</td>\n",
       "    </tr>\n",
       "  </tbody>\n",
       "</table>\n",
       "</div>"
      ],
      "text/plain": [
       "   col1  col2  col3  col4\n",
       "0     1     5   0.0   0.0\n",
       "1     2     6   0.0   0.0\n",
       "2     3     7   0.0   0.0\n",
       "3     4     8   0.0   0.0\n",
       "6    11    22  33.0  44.0\n",
       "4    10    30   0.0  60.0\n",
       "5    20    40   0.0  70.0"
      ]
     },
     "execution_count": 61,
     "metadata": {},
     "output_type": "execute_result"
    }
   ],
   "source": [
    "# you can sort by value of a column\n",
    "df = df.sort_values(by=['col2'])\n",
    "df"
   ]
  },
  {
   "cell_type": "code",
   "execution_count": 62,
   "metadata": {},
   "outputs": [
    {
     "data": {
      "text/html": [
       "<div>\n",
       "<style scoped>\n",
       "    .dataframe tbody tr th:only-of-type {\n",
       "        vertical-align: middle;\n",
       "    }\n",
       "\n",
       "    .dataframe tbody tr th {\n",
       "        vertical-align: top;\n",
       "    }\n",
       "\n",
       "    .dataframe thead th {\n",
       "        text-align: right;\n",
       "    }\n",
       "</style>\n",
       "<table border=\"1\" class=\"dataframe\">\n",
       "  <thead>\n",
       "    <tr style=\"text-align: right;\">\n",
       "      <th></th>\n",
       "      <th>col1</th>\n",
       "      <th>col2</th>\n",
       "      <th>col3</th>\n",
       "      <th>col4</th>\n",
       "      <th>col5</th>\n",
       "    </tr>\n",
       "  </thead>\n",
       "  <tbody>\n",
       "    <tr>\n",
       "      <th>0</th>\n",
       "      <td>1</td>\n",
       "      <td>5</td>\n",
       "      <td>0.0</td>\n",
       "      <td>0.0</td>\n",
       "      <td>5.0</td>\n",
       "    </tr>\n",
       "    <tr>\n",
       "      <th>1</th>\n",
       "      <td>2</td>\n",
       "      <td>6</td>\n",
       "      <td>0.0</td>\n",
       "      <td>0.0</td>\n",
       "      <td>12.0</td>\n",
       "    </tr>\n",
       "    <tr>\n",
       "      <th>2</th>\n",
       "      <td>3</td>\n",
       "      <td>7</td>\n",
       "      <td>0.0</td>\n",
       "      <td>0.0</td>\n",
       "      <td>21.0</td>\n",
       "    </tr>\n",
       "    <tr>\n",
       "      <th>3</th>\n",
       "      <td>4</td>\n",
       "      <td>8</td>\n",
       "      <td>0.0</td>\n",
       "      <td>0.0</td>\n",
       "      <td>32.0</td>\n",
       "    </tr>\n",
       "    <tr>\n",
       "      <th>6</th>\n",
       "      <td>11</td>\n",
       "      <td>22</td>\n",
       "      <td>33.0</td>\n",
       "      <td>44.0</td>\n",
       "      <td>286.0</td>\n",
       "    </tr>\n",
       "    <tr>\n",
       "      <th>4</th>\n",
       "      <td>10</td>\n",
       "      <td>30</td>\n",
       "      <td>0.0</td>\n",
       "      <td>60.0</td>\n",
       "      <td>360.0</td>\n",
       "    </tr>\n",
       "    <tr>\n",
       "      <th>5</th>\n",
       "      <td>20</td>\n",
       "      <td>40</td>\n",
       "      <td>0.0</td>\n",
       "      <td>70.0</td>\n",
       "      <td>870.0</td>\n",
       "    </tr>\n",
       "  </tbody>\n",
       "</table>\n",
       "</div>"
      ],
      "text/plain": [
       "   col1  col2  col3  col4   col5\n",
       "0     1     5   0.0   0.0    5.0\n",
       "1     2     6   0.0   0.0   12.0\n",
       "2     3     7   0.0   0.0   21.0\n",
       "3     4     8   0.0   0.0   32.0\n",
       "6    11    22  33.0  44.0  286.0\n",
       "4    10    30   0.0  60.0  360.0\n",
       "5    20    40   0.0  70.0  870.0"
      ]
     },
     "execution_count": 62,
     "metadata": {},
     "output_type": "execute_result"
    }
   ],
   "source": [
    "# it's easy to do math on columns\n",
    "df['col5'] = df['col4'] + df['col2']*df['col1']\n",
    "df"
   ]
  },
  {
   "cell_type": "code",
   "execution_count": 63,
   "metadata": {},
   "outputs": [
    {
     "data": {
      "text/html": [
       "<div>\n",
       "<style scoped>\n",
       "    .dataframe tbody tr th:only-of-type {\n",
       "        vertical-align: middle;\n",
       "    }\n",
       "\n",
       "    .dataframe tbody tr th {\n",
       "        vertical-align: top;\n",
       "    }\n",
       "\n",
       "    .dataframe thead th {\n",
       "        text-align: right;\n",
       "    }\n",
       "</style>\n",
       "<table border=\"1\" class=\"dataframe\">\n",
       "  <thead>\n",
       "    <tr style=\"text-align: right;\">\n",
       "      <th></th>\n",
       "      <th>col1</th>\n",
       "      <th>col2</th>\n",
       "      <th>col3</th>\n",
       "      <th>col4</th>\n",
       "      <th>col5</th>\n",
       "    </tr>\n",
       "  </thead>\n",
       "  <tbody>\n",
       "    <tr>\n",
       "      <th>col1</th>\n",
       "      <td>46.571429</td>\n",
       "      <td>92.047619</td>\n",
       "      <td>20.428571</td>\n",
       "      <td>202.714286</td>\n",
       "      <td>2135.142857</td>\n",
       "    </tr>\n",
       "    <tr>\n",
       "      <th>col2</th>\n",
       "      <td>92.047619</td>\n",
       "      <td>194.809524</td>\n",
       "      <td>28.285714</td>\n",
       "      <td>439.142857</td>\n",
       "      <td>4276.095238</td>\n",
       "    </tr>\n",
       "    <tr>\n",
       "      <th>col3</th>\n",
       "      <td>20.428571</td>\n",
       "      <td>28.285714</td>\n",
       "      <td>155.571429</td>\n",
       "      <td>105.285714</td>\n",
       "      <td>326.857143</td>\n",
       "    </tr>\n",
       "    <tr>\n",
       "      <th>col4</th>\n",
       "      <td>202.714286</td>\n",
       "      <td>439.142857</td>\n",
       "      <td>105.285714</td>\n",
       "      <td>1018.476190</td>\n",
       "      <td>9276.761905</td>\n",
       "    </tr>\n",
       "    <tr>\n",
       "      <th>col5</th>\n",
       "      <td>2135.142857</td>\n",
       "      <td>4276.095238</td>\n",
       "      <td>326.857143</td>\n",
       "      <td>9276.761905</td>\n",
       "      <td>101764.619048</td>\n",
       "    </tr>\n",
       "  </tbody>\n",
       "</table>\n",
       "</div>"
      ],
      "text/plain": [
       "             col1         col2        col3         col4           col5\n",
       "col1    46.571429    92.047619   20.428571   202.714286    2135.142857\n",
       "col2    92.047619   194.809524   28.285714   439.142857    4276.095238\n",
       "col3    20.428571    28.285714  155.571429   105.285714     326.857143\n",
       "col4   202.714286   439.142857  105.285714  1018.476190    9276.761905\n",
       "col5  2135.142857  4276.095238  326.857143  9276.761905  101764.619048"
      ]
     },
     "execution_count": 63,
     "metadata": {},
     "output_type": "execute_result"
    }
   ],
   "source": [
    "# there's plenty of math functions available, such as covariance\n",
    "df.cov()"
   ]
  },
  {
   "cell_type": "code",
   "execution_count": 64,
   "metadata": {},
   "outputs": [],
   "source": [
    "# extra note: check out read_csv and to_csv to importing/exporting data frames"
   ]
  },
  {
   "cell_type": "markdown",
   "metadata": {},
   "source": [
    "## plotting with matplotlib and seaborn"
   ]
  },
  {
   "cell_type": "code",
   "execution_count": 65,
   "metadata": {},
   "outputs": [],
   "source": [
    "import matplotlib.pyplot as plt"
   ]
  },
  {
   "cell_type": "code",
   "execution_count": 66,
   "metadata": {},
   "outputs": [
    {
     "data": {
      "image/png": "[encoded data removed]",
      "text/plain": [
       "<Figure size 432x288 with 1 Axes>"
      ]
     },
     "metadata": {
      "needs_background": "light"
     },
     "output_type": "display_data"
    }
   ],
   "source": [
    "# there's two main ways to use matplotlib\n",
    "# the first is a more \"command line\"-style interface using plt\n",
    "\n",
    "plt.plot([1,4,5,7,8],[3,1,6,4,7]) # x and y lists/arrays/series.  Example: columns of a dataframe\n",
    "plt.show() # jupyter notebooks show plots automatically at the end of a code cell"
   ]
  },
  {
   "cell_type": "code",
   "execution_count": 67,
   "metadata": {},
   "outputs": [
    {
     "data": {
      "image/png": "[encoded data removed]",
      "text/plain": [
       "<Figure size 432x288 with 1 Axes>"
      ]
     },
     "metadata": {
      "needs_background": "light"
     },
     "output_type": "display_data"
    },
    {
     "data": {
      "image/png": "[encoded data removed]",
      "text/plain": [
       "<Figure size 432x288 with 1 Axes>"
      ]
     },
     "metadata": {
      "needs_background": "light"
     },
     "output_type": "display_data"
    }
   ],
   "source": [
    "# single panel plots can be designed step-by-step with various function calls using plt\n",
    "\n",
    "plt.plot([1,4,5,7,8],[3,1,6,4,7],color='red',linestyle='dotted')  # shorthand exists... 'red'->'r' 'dotted'->':'\n",
    "plt.plot([1,3,4,6,8],[2,2,5,3,9],color='blue',linestyle='dashed')\n",
    "plt.xlim(0,10)\n",
    "plt.ylim(-5,15)\n",
    "plt.ylabel('y axis')\n",
    "plt.xlabel('x axis')\n",
    "plt.title('a title')\n",
    "plt.legend(['line 1','line 2'])\n",
    "plt.show()\n",
    "\n",
    "plt.clf()  # clear figure\n",
    "\n",
    "df = pd.DataFrame({'x':[1,2,3,4,5,6,7,8,9],'y1':[2,2,1,1,1,4,4,3,4],'y2':[2,1,5,4,3,2,6,5,4]})\n",
    "plt.plot(df['x'],df['y1'])\n",
    "plt.plot(df['x'],df['y2'])\n",
    "plt.legend(['y1','y2'])\n",
    "plt.ylabel('y')\n",
    "plt.xlabel('x')\n",
    "plt.title('some other unrelated figure')\n",
    "plt.show()"
   ]
  },
  {
   "cell_type": "code",
   "execution_count": 68,
   "metadata": {},
   "outputs": [
    {
     "data": {
      "text/plain": [
       "(0, 1)"
      ]
     },
     "execution_count": 68,
     "metadata": {},
     "output_type": "execute_result"
    },
    {
     "data": {
      "image/png": "[encoded data removed]",
      "text/plain": [
       "<Figure size 432x288 with 1 Axes>"
      ]
     },
     "metadata": {
      "needs_background": "light"
     },
     "output_type": "display_data"
    }
   ],
   "source": [
    "# plotting a histogram\n",
    "plt.hist(df['y2'], bins=6, range=(1,7), density=True, align='left')\n",
    "# the additional arguments can help make the histogram look nice\n",
    "plt.ylim(0,1)"
   ]
  },
  {
   "cell_type": "code",
   "execution_count": 69,
   "metadata": {},
   "outputs": [
    {
     "data": {
      "image/png": "[encoded data removed]",
      "text/plain": [
       "<Figure size 432x288 with 1 Axes>"
      ]
     },
     "metadata": {
      "needs_background": "light"
     },
     "output_type": "display_data"
    },
    {
     "data": {
      "text/plain": [
       "<matplotlib.collections.PathCollection at 0x10bf27ac8>"
      ]
     },
     "execution_count": 69,
     "metadata": {},
     "output_type": "execute_result"
    },
    {
     "data": {
      "image/png": "[encoded data removed]",
      "text/plain": [
       "<Figure size 432x288 with 1 Axes>"
      ]
     },
     "metadata": {
      "needs_background": "light"
     },
     "output_type": "display_data"
    }
   ],
   "source": [
    "# plotting a scatterplot\n",
    "plt.scatter(df['x'], df['y1']) # basic scatterplot\n",
    "plt.ylim(0,5)\n",
    "plt.ylabel('y')\n",
    "plt.xlabel('x')\n",
    "plt.show()\n",
    "\n",
    "\n",
    "plt.clf()\n",
    "plt.ylim(0,5)\n",
    "plt.ylabel('y')\n",
    "plt.xlabel('x')\n",
    "plt.scatter(df['x'], df['y1'], s=df['y2']*100, c=df['x']) # scatterplot with sizes and colors defined"
   ]
  },
  {
   "cell_type": "code",
   "execution_count": 70,
   "metadata": {},
   "outputs": [
    {
     "data": {
      "text/html": [
       "<div>\n",
       "<style scoped>\n",
       "    .dataframe tbody tr th:only-of-type {\n",
       "        vertical-align: middle;\n",
       "    }\n",
       "\n",
       "    .dataframe tbody tr th {\n",
       "        vertical-align: top;\n",
       "    }\n",
       "\n",
       "    .dataframe thead th {\n",
       "        text-align: right;\n",
       "    }\n",
       "</style>\n",
       "<table border=\"1\" class=\"dataframe\">\n",
       "  <thead>\n",
       "    <tr style=\"text-align: right;\">\n",
       "      <th></th>\n",
       "      <th>x</th>\n",
       "      <th>y1</th>\n",
       "      <th>y2</th>\n",
       "      <th>err</th>\n",
       "    </tr>\n",
       "  </thead>\n",
       "  <tbody>\n",
       "    <tr>\n",
       "      <th>0</th>\n",
       "      <td>1</td>\n",
       "      <td>2</td>\n",
       "      <td>2</td>\n",
       "      <td>0.1</td>\n",
       "    </tr>\n",
       "    <tr>\n",
       "      <th>1</th>\n",
       "      <td>2</td>\n",
       "      <td>2</td>\n",
       "      <td>1</td>\n",
       "      <td>0.2</td>\n",
       "    </tr>\n",
       "    <tr>\n",
       "      <th>2</th>\n",
       "      <td>3</td>\n",
       "      <td>1</td>\n",
       "      <td>5</td>\n",
       "      <td>0.1</td>\n",
       "    </tr>\n",
       "    <tr>\n",
       "      <th>3</th>\n",
       "      <td>4</td>\n",
       "      <td>1</td>\n",
       "      <td>4</td>\n",
       "      <td>0.3</td>\n",
       "    </tr>\n",
       "    <tr>\n",
       "      <th>4</th>\n",
       "      <td>5</td>\n",
       "      <td>1</td>\n",
       "      <td>3</td>\n",
       "      <td>0.2</td>\n",
       "    </tr>\n",
       "    <tr>\n",
       "      <th>5</th>\n",
       "      <td>6</td>\n",
       "      <td>4</td>\n",
       "      <td>2</td>\n",
       "      <td>0.1</td>\n",
       "    </tr>\n",
       "    <tr>\n",
       "      <th>6</th>\n",
       "      <td>7</td>\n",
       "      <td>4</td>\n",
       "      <td>6</td>\n",
       "      <td>0.3</td>\n",
       "    </tr>\n",
       "    <tr>\n",
       "      <th>7</th>\n",
       "      <td>8</td>\n",
       "      <td>3</td>\n",
       "      <td>5</td>\n",
       "      <td>0.3</td>\n",
       "    </tr>\n",
       "    <tr>\n",
       "      <th>8</th>\n",
       "      <td>9</td>\n",
       "      <td>4</td>\n",
       "      <td>4</td>\n",
       "      <td>0.1</td>\n",
       "    </tr>\n",
       "  </tbody>\n",
       "</table>\n",
       "</div>"
      ],
      "text/plain": [
       "   x  y1  y2  err\n",
       "0  1   2   2  0.1\n",
       "1  2   2   1  0.2\n",
       "2  3   1   5  0.1\n",
       "3  4   1   4  0.3\n",
       "4  5   1   3  0.2\n",
       "5  6   4   2  0.1\n",
       "6  7   4   6  0.3\n",
       "7  8   3   5  0.3\n",
       "8  9   4   4  0.1"
      ]
     },
     "execution_count": 70,
     "metadata": {},
     "output_type": "execute_result"
    }
   ],
   "source": [
    "# defining error (arbitrarily)\n",
    "df['err'] = [0.1,0.2,0.1,0.3,0.2,0.1,0.3,0.3,0.1]\n",
    "df"
   ]
  },
  {
   "cell_type": "code",
   "execution_count": 71,
   "metadata": {},
   "outputs": [
    {
     "data": {
      "text/plain": [
       "<matplotlib.collections.LineCollection at 0x11c229f98>"
      ]
     },
     "execution_count": 71,
     "metadata": {},
     "output_type": "execute_result"
    },
    {
     "data": {
      "image/png": "[encoded data removed]",
      "text/plain": [
       "<Figure size 432x288 with 1 Axes>"
      ]
     },
     "metadata": {
      "needs_background": "light"
     },
     "output_type": "display_data"
    }
   ],
   "source": [
    "# error bar plot\n",
    "plt.errorbar(df['x'],df['y1'],yerr=df['err'],xerr=None)\n",
    "\n",
    "# drawing arbitrary lines on the plot\n",
    "plt.hlines(4,2,3) # horizonal\n",
    "plt.vlines(7,1,2) # vertical"
   ]
  },
  {
   "cell_type": "code",
   "execution_count": 72,
   "metadata": {},
   "outputs": [
    {
     "data": {
      "image/png": "[encoded data removed]",
      "text/plain": [
       "<Figure size 432x288 with 1 Axes>"
      ]
     },
     "metadata": {},
     "output_type": "display_data"
    }
   ],
   "source": [
    "# pie chart\n",
    "plt.pie([4,3,2],labels=['a','b','c'])\n",
    "plt.show()"
   ]
  },
  {
   "cell_type": "code",
   "execution_count": 73,
   "metadata": {},
   "outputs": [
    {
     "data": {
      "image/png": "[encoded data removed]",
      "text/plain": [
       "<Figure size 432x288 with 1 Axes>"
      ]
     },
     "metadata": {
      "needs_background": "light"
     },
     "output_type": "display_data"
    },
    {
     "data": {
      "image/png": "[encoded data removed]",
      "text/plain": [
       "<Figure size 432x288 with 1 Axes>"
      ]
     },
     "metadata": {
      "needs_background": "light"
     },
     "output_type": "display_data"
    }
   ],
   "source": [
    "# basic heatmap\n",
    "array = np.array([[0,2,3,5,4],[1,2,5,5,5],[1,2,2,3,3],[2,1,2,2,2]])\n",
    "plt.pcolormesh(array)\n",
    "plt.ylabel('row (notice reversed order)')\n",
    "plt.xlabel('column')\n",
    "plt.show()\n",
    "plt.clf()\n",
    "\n",
    "plt.contour(array)\n",
    "plt.ylabel('row (notice reversed order)')\n",
    "plt.xlabel('column')\n",
    "plt.show()"
   ]
  },
  {
   "cell_type": "code",
   "execution_count": 74,
   "metadata": {},
   "outputs": [
    {
     "data": {
      "image/png": "[encoded data removed]",
      "text/plain": [
       "<Figure size 576x864 with 6 Axes>"
      ]
     },
     "metadata": {
      "needs_background": "light"
     },
     "output_type": "display_data"
    }
   ],
   "source": [
    "# second way to use matplotlib: create a figure with subplots, which returns a list of \"axes\" objects\n",
    "# manipulate these objects in a similar way as above\n",
    "\n",
    "fig, ((ax1,ax2),(ax3,ax4),(ax5,ax6)) = plt.subplots(nrows = 3, ncols = 2, figsize=(8,12)) # width, height"
   ]
  },
  {
   "cell_type": "code",
   "execution_count": 75,
   "metadata": {},
   "outputs": [
    {
     "data": {
      "image/png": "[encoded data removed]",
      "text/plain": [
       "<Figure size 576x864 with 6 Axes>"
      ]
     },
     "execution_count": 75,
     "metadata": {},
     "output_type": "execute_result"
    }
   ],
   "source": [
    "ax1.errorbar(df['x'],df['y1'],yerr=df['err'])\n",
    "ax2.errorbar(df['x'],df['y2'],yerr=df['err'])\n",
    "fig"
   ]
  },
  {
   "cell_type": "code",
   "execution_count": 76,
   "metadata": {},
   "outputs": [
    {
     "data": {
      "image/png": "[encoded data removed]",
      "text/plain": [
       "<Figure size 576x864 with 6 Axes>"
      ]
     },
     "execution_count": 76,
     "metadata": {},
     "output_type": "execute_result"
    }
   ],
   "source": [
    "ax1.set_ylim(0,10)\n",
    "ax1.set_ylabel('y1')\n",
    "ax1.set_xlabel('x')\n",
    "ax1.set_title('title')\n",
    "ax1.legend(['y1'])\n",
    "fig"
   ]
  },
  {
   "cell_type": "code",
   "execution_count": 77,
   "metadata": {},
   "outputs": [],
   "source": [
    "# saving a figure\n",
    "# fig.savefig('myimage.png')"
   ]
  },
  {
   "cell_type": "markdown",
   "metadata": {},
   "source": [
    "## seaborn : nice graphs with some automatic data processing"
   ]
  },
  {
   "cell_type": "code",
   "execution_count": 78,
   "metadata": {},
   "outputs": [],
   "source": [
    "# seaborn : nice graphs with some automatic data processing\n",
    "\n",
    "import seaborn as sns"
   ]
  },
  {
   "cell_type": "code",
   "execution_count": 79,
   "metadata": {},
   "outputs": [],
   "source": [
    "# there's different styles for figures, this is one of the built-in styles\n",
    "sns.set_style(\"white\")"
   ]
  },
  {
   "cell_type": "code",
   "execution_count": 80,
   "metadata": {},
   "outputs": [
    {
     "data": {
      "text/html": [
       "<div>\n",
       "<style scoped>\n",
       "    .dataframe tbody tr th:only-of-type {\n",
       "        vertical-align: middle;\n",
       "    }\n",
       "\n",
       "    .dataframe tbody tr th {\n",
       "        vertical-align: top;\n",
       "    }\n",
       "\n",
       "    .dataframe thead th {\n",
       "        text-align: right;\n",
       "    }\n",
       "</style>\n",
       "<table border=\"1\" class=\"dataframe\">\n",
       "  <thead>\n",
       "    <tr style=\"text-align: right;\">\n",
       "      <th></th>\n",
       "      <th>x</th>\n",
       "      <th>y</th>\n",
       "    </tr>\n",
       "  </thead>\n",
       "  <tbody>\n",
       "    <tr>\n",
       "      <th>0</th>\n",
       "      <td>1.123886</td>\n",
       "      <td>2.034254</td>\n",
       "    </tr>\n",
       "    <tr>\n",
       "      <th>1</th>\n",
       "      <td>0.550629</td>\n",
       "      <td>0.302724</td>\n",
       "    </tr>\n",
       "    <tr>\n",
       "      <th>2</th>\n",
       "      <td>1.073835</td>\n",
       "      <td>-0.261576</td>\n",
       "    </tr>\n",
       "    <tr>\n",
       "      <th>3</th>\n",
       "      <td>-0.526753</td>\n",
       "      <td>-0.162158</td>\n",
       "    </tr>\n",
       "    <tr>\n",
       "      <th>4</th>\n",
       "      <td>-0.655337</td>\n",
       "      <td>-0.541123</td>\n",
       "    </tr>\n",
       "    <tr>\n",
       "      <th>5</th>\n",
       "      <td>1.648068</td>\n",
       "      <td>0.847754</td>\n",
       "    </tr>\n",
       "    <tr>\n",
       "      <th>6</th>\n",
       "      <td>-0.404567</td>\n",
       "      <td>-0.342779</td>\n",
       "    </tr>\n",
       "    <tr>\n",
       "      <th>7</th>\n",
       "      <td>1.340326</td>\n",
       "      <td>2.526946</td>\n",
       "    </tr>\n",
       "    <tr>\n",
       "      <th>8</th>\n",
       "      <td>-0.870971</td>\n",
       "      <td>-1.495454</td>\n",
       "    </tr>\n",
       "    <tr>\n",
       "      <th>9</th>\n",
       "      <td>-1.583199</td>\n",
       "      <td>-0.250674</td>\n",
       "    </tr>\n",
       "    <tr>\n",
       "      <th>10</th>\n",
       "      <td>1.560153</td>\n",
       "      <td>0.729045</td>\n",
       "    </tr>\n",
       "    <tr>\n",
       "      <th>11</th>\n",
       "      <td>-1.543958</td>\n",
       "      <td>-1.358695</td>\n",
       "    </tr>\n",
       "    <tr>\n",
       "      <th>12</th>\n",
       "      <td>-0.799538</td>\n",
       "      <td>-2.519197</td>\n",
       "    </tr>\n",
       "    <tr>\n",
       "      <th>13</th>\n",
       "      <td>-0.328960</td>\n",
       "      <td>-0.674843</td>\n",
       "    </tr>\n",
       "    <tr>\n",
       "      <th>14</th>\n",
       "      <td>-1.715408</td>\n",
       "      <td>-2.875452</td>\n",
       "    </tr>\n",
       "    <tr>\n",
       "      <th>15</th>\n",
       "      <td>0.084674</td>\n",
       "      <td>0.277854</td>\n",
       "    </tr>\n",
       "    <tr>\n",
       "      <th>16</th>\n",
       "      <td>-1.053136</td>\n",
       "      <td>-1.853771</td>\n",
       "    </tr>\n",
       "    <tr>\n",
       "      <th>17</th>\n",
       "      <td>0.404277</td>\n",
       "      <td>0.944886</td>\n",
       "    </tr>\n",
       "    <tr>\n",
       "      <th>18</th>\n",
       "      <td>-0.748290</td>\n",
       "      <td>-0.167941</td>\n",
       "    </tr>\n",
       "    <tr>\n",
       "      <th>19</th>\n",
       "      <td>1.231614</td>\n",
       "      <td>2.024470</td>\n",
       "    </tr>\n",
       "    <tr>\n",
       "      <th>20</th>\n",
       "      <td>0.647538</td>\n",
       "      <td>0.307813</td>\n",
       "    </tr>\n",
       "    <tr>\n",
       "      <th>21</th>\n",
       "      <td>-0.093487</td>\n",
       "      <td>-0.718859</td>\n",
       "    </tr>\n",
       "    <tr>\n",
       "      <th>22</th>\n",
       "      <td>0.640665</td>\n",
       "      <td>1.073381</td>\n",
       "    </tr>\n",
       "    <tr>\n",
       "      <th>23</th>\n",
       "      <td>1.096725</td>\n",
       "      <td>0.222463</td>\n",
       "    </tr>\n",
       "    <tr>\n",
       "      <th>24</th>\n",
       "      <td>-0.723525</td>\n",
       "      <td>-1.342012</td>\n",
       "    </tr>\n",
       "  </tbody>\n",
       "</table>\n",
       "</div>"
      ],
      "text/plain": [
       "           x         y\n",
       "0   1.123886  2.034254\n",
       "1   0.550629  0.302724\n",
       "2   1.073835 -0.261576\n",
       "3  -0.526753 -0.162158\n",
       "4  -0.655337 -0.541123\n",
       "5   1.648068  0.847754\n",
       "6  -0.404567 -0.342779\n",
       "7   1.340326  2.526946\n",
       "8  -0.870971 -1.495454\n",
       "9  -1.583199 -0.250674\n",
       "10  1.560153  0.729045\n",
       "11 -1.543958 -1.358695\n",
       "12 -0.799538 -2.519197\n",
       "13 -0.328960 -0.674843\n",
       "14 -1.715408 -2.875452\n",
       "15  0.084674  0.277854\n",
       "16 -1.053136 -1.853771\n",
       "17  0.404277  0.944886\n",
       "18 -0.748290 -0.167941\n",
       "19  1.231614  2.024470\n",
       "20  0.647538  0.307813\n",
       "21 -0.093487 -0.718859\n",
       "22  0.640665  1.073381\n",
       "23  1.096725  0.222463\n",
       "24 -0.723525 -1.342012"
      ]
     },
     "execution_count": 80,
     "metadata": {},
     "output_type": "execute_result"
    }
   ],
   "source": [
    "# generate some data for linear regression\n",
    "xs = np.random.standard_normal(25)\n",
    "ys = np.random.standard_normal(25) + xs\n",
    "df = pd.DataFrame({'x':xs,'y':ys})\n",
    "df"
   ]
  },
  {
   "cell_type": "code",
   "execution_count": 81,
   "metadata": {},
   "outputs": [
    {
     "name": "stderr",
     "output_type": "stream",
     "text": [
      "/Users/nickblauch/anaconda/envs/python3/lib/python3.6/site-packages/scipy/stats/stats.py:1713: FutureWarning: Using a non-tuple sequence for multidimensional indexing is deprecated; use `arr[tuple(seq)]` instead of `arr[seq]`. In the future this will be interpreted as an array index, `arr[np.array(seq)]`, which will result either in an error or a different result.\n",
      "  return np.add.reduce(sorted[indexer] * weights, axis=axis) / sumval\n"
     ]
    },
    {
     "data": {
      "text/plain": [
       "<matplotlib.axes._subplots.AxesSubplot at 0x1a1e7f2908>"
      ]
     },
     "execution_count": 81,
     "metadata": {},
     "output_type": "execute_result"
    },
    {
     "data": {
      "image/png": "[encoded data removed]",
      "text/plain": [
       "<Figure size 432x288 with 1 Axes>"
      ]
     },
     "metadata": {},
     "output_type": "display_data"
    }
   ],
   "source": [
    "# linear regression plot\n",
    "sns.regplot(df['x'], df['y'])\n",
    "# shows a scatterplot, the regression line, and also confidence intervals"
   ]
  },
  {
   "cell_type": "code",
   "execution_count": 82,
   "metadata": {},
   "outputs": [
    {
     "name": "stderr",
     "output_type": "stream",
     "text": [
      "/Users/nickblauch/anaconda/envs/python3/lib/python3.6/site-packages/scipy/stats/stats.py:1713: FutureWarning: Using a non-tuple sequence for multidimensional indexing is deprecated; use `arr[tuple(seq)]` instead of `arr[seq]`. In the future this will be interpreted as an array index, `arr[np.array(seq)]`, which will result either in an error or a different result.\n",
      "  return np.add.reduce(sorted[indexer] * weights, axis=axis) / sumval\n",
      "/Users/nickblauch/anaconda/envs/python3/lib/python3.6/site-packages/scipy/stats/stats.py:1713: FutureWarning: Using a non-tuple sequence for multidimensional indexing is deprecated; use `arr[tuple(seq)]` instead of `arr[seq]`. In the future this will be interpreted as an array index, `arr[np.array(seq)]`, which will result either in an error or a different result.\n",
      "  return np.add.reduce(sorted[indexer] * weights, axis=axis) / sumval\n",
      "/Users/nickblauch/anaconda/envs/python3/lib/python3.6/site-packages/scipy/stats/stats.py:1713: FutureWarning: Using a non-tuple sequence for multidimensional indexing is deprecated; use `arr[tuple(seq)]` instead of `arr[seq]`. In the future this will be interpreted as an array index, `arr[np.array(seq)]`, which will result either in an error or a different result.\n",
      "  return np.add.reduce(sorted[indexer] * weights, axis=axis) / sumval\n"
     ]
    },
    {
     "data": {
      "text/plain": [
       "<seaborn.axisgrid.JointGrid at 0x1a1ea4c828>"
      ]
     },
     "execution_count": 82,
     "metadata": {},
     "output_type": "execute_result"
    },
    {
     "data": {
      "image/png": "[encoded data removed]",
      "text/plain": [
       "<Figure size 432x432 with 3 Axes>"
      ]
     },
     "metadata": {},
     "output_type": "display_data"
    }
   ],
   "source": [
    "# joint plot adds cool-looking histograms\n",
    "sns.jointplot(df['x'], df['y'], kind=\"reg\")"
   ]
  },
  {
   "cell_type": "code",
   "execution_count": 83,
   "metadata": {},
   "outputs": [
    {
     "data": {
      "text/html": [
       "<div>\n",
       "<style scoped>\n",
       "    .dataframe tbody tr th:only-of-type {\n",
       "        vertical-align: middle;\n",
       "    }\n",
       "\n",
       "    .dataframe tbody tr th {\n",
       "        vertical-align: top;\n",
       "    }\n",
       "\n",
       "    .dataframe thead th {\n",
       "        text-align: right;\n",
       "    }\n",
       "</style>\n",
       "<table border=\"1\" class=\"dataframe\">\n",
       "  <thead>\n",
       "    <tr style=\"text-align: right;\">\n",
       "      <th></th>\n",
       "      <th>inputs</th>\n",
       "      <th>observations</th>\n",
       "    </tr>\n",
       "  </thead>\n",
       "  <tbody>\n",
       "    <tr>\n",
       "      <th>0</th>\n",
       "      <td>0.000000</td>\n",
       "      <td>0.699419</td>\n",
       "    </tr>\n",
       "    <tr>\n",
       "      <th>1</th>\n",
       "      <td>0.000000</td>\n",
       "      <td>0.213726</td>\n",
       "    </tr>\n",
       "    <tr>\n",
       "      <th>2</th>\n",
       "      <td>0.000000</td>\n",
       "      <td>0.986283</td>\n",
       "    </tr>\n",
       "    <tr>\n",
       "      <th>3</th>\n",
       "      <td>0.000000</td>\n",
       "      <td>0.712970</td>\n",
       "    </tr>\n",
       "    <tr>\n",
       "      <th>4</th>\n",
       "      <td>0.000000</td>\n",
       "      <td>0.295952</td>\n",
       "    </tr>\n",
       "    <tr>\n",
       "      <th>5</th>\n",
       "      <td>0.000000</td>\n",
       "      <td>0.560998</td>\n",
       "    </tr>\n",
       "    <tr>\n",
       "      <th>6</th>\n",
       "      <td>0.000000</td>\n",
       "      <td>0.321673</td>\n",
       "    </tr>\n",
       "    <tr>\n",
       "      <th>7</th>\n",
       "      <td>0.000000</td>\n",
       "      <td>0.380603</td>\n",
       "    </tr>\n",
       "    <tr>\n",
       "      <th>8</th>\n",
       "      <td>0.000000</td>\n",
       "      <td>0.571308</td>\n",
       "    </tr>\n",
       "    <tr>\n",
       "      <th>9</th>\n",
       "      <td>0.000000</td>\n",
       "      <td>0.259300</td>\n",
       "    </tr>\n",
       "    <tr>\n",
       "      <th>10</th>\n",
       "      <td>0.000000</td>\n",
       "      <td>0.734963</td>\n",
       "    </tr>\n",
       "    <tr>\n",
       "      <th>11</th>\n",
       "      <td>0.000000</td>\n",
       "      <td>0.427707</td>\n",
       "    </tr>\n",
       "    <tr>\n",
       "      <th>12</th>\n",
       "      <td>0.000000</td>\n",
       "      <td>0.445899</td>\n",
       "    </tr>\n",
       "    <tr>\n",
       "      <th>13</th>\n",
       "      <td>0.000000</td>\n",
       "      <td>0.022490</td>\n",
       "    </tr>\n",
       "    <tr>\n",
       "      <th>14</th>\n",
       "      <td>0.000000</td>\n",
       "      <td>0.526582</td>\n",
       "    </tr>\n",
       "    <tr>\n",
       "      <th>15</th>\n",
       "      <td>0.000000</td>\n",
       "      <td>0.362149</td>\n",
       "    </tr>\n",
       "    <tr>\n",
       "      <th>16</th>\n",
       "      <td>0.000000</td>\n",
       "      <td>0.074752</td>\n",
       "    </tr>\n",
       "    <tr>\n",
       "      <th>17</th>\n",
       "      <td>0.000000</td>\n",
       "      <td>0.830265</td>\n",
       "    </tr>\n",
       "    <tr>\n",
       "      <th>18</th>\n",
       "      <td>0.000000</td>\n",
       "      <td>0.783371</td>\n",
       "    </tr>\n",
       "    <tr>\n",
       "      <th>19</th>\n",
       "      <td>0.000000</td>\n",
       "      <td>0.267895</td>\n",
       "    </tr>\n",
       "    <tr>\n",
       "      <th>20</th>\n",
       "      <td>0.333333</td>\n",
       "      <td>0.755807</td>\n",
       "    </tr>\n",
       "    <tr>\n",
       "      <th>21</th>\n",
       "      <td>0.333333</td>\n",
       "      <td>0.946527</td>\n",
       "    </tr>\n",
       "    <tr>\n",
       "      <th>22</th>\n",
       "      <td>0.333333</td>\n",
       "      <td>0.381782</td>\n",
       "    </tr>\n",
       "    <tr>\n",
       "      <th>23</th>\n",
       "      <td>0.333333</td>\n",
       "      <td>1.141661</td>\n",
       "    </tr>\n",
       "    <tr>\n",
       "      <th>24</th>\n",
       "      <td>0.333333</td>\n",
       "      <td>0.715091</td>\n",
       "    </tr>\n",
       "    <tr>\n",
       "      <th>25</th>\n",
       "      <td>0.333333</td>\n",
       "      <td>0.618228</td>\n",
       "    </tr>\n",
       "    <tr>\n",
       "      <th>26</th>\n",
       "      <td>0.333333</td>\n",
       "      <td>1.101183</td>\n",
       "    </tr>\n",
       "    <tr>\n",
       "      <th>27</th>\n",
       "      <td>0.333333</td>\n",
       "      <td>0.642123</td>\n",
       "    </tr>\n",
       "    <tr>\n",
       "      <th>28</th>\n",
       "      <td>0.333333</td>\n",
       "      <td>1.133254</td>\n",
       "    </tr>\n",
       "    <tr>\n",
       "      <th>29</th>\n",
       "      <td>0.333333</td>\n",
       "      <td>1.025058</td>\n",
       "    </tr>\n",
       "    <tr>\n",
       "      <th>...</th>\n",
       "      <td>...</td>\n",
       "      <td>...</td>\n",
       "    </tr>\n",
       "    <tr>\n",
       "      <th>170</th>\n",
       "      <td>2.666667</td>\n",
       "      <td>1.262049</td>\n",
       "    </tr>\n",
       "    <tr>\n",
       "      <th>171</th>\n",
       "      <td>2.666667</td>\n",
       "      <td>1.081964</td>\n",
       "    </tr>\n",
       "    <tr>\n",
       "      <th>172</th>\n",
       "      <td>2.666667</td>\n",
       "      <td>1.012992</td>\n",
       "    </tr>\n",
       "    <tr>\n",
       "      <th>173</th>\n",
       "      <td>2.666667</td>\n",
       "      <td>1.000378</td>\n",
       "    </tr>\n",
       "    <tr>\n",
       "      <th>174</th>\n",
       "      <td>2.666667</td>\n",
       "      <td>1.114866</td>\n",
       "    </tr>\n",
       "    <tr>\n",
       "      <th>175</th>\n",
       "      <td>2.666667</td>\n",
       "      <td>0.907465</td>\n",
       "    </tr>\n",
       "    <tr>\n",
       "      <th>176</th>\n",
       "      <td>2.666667</td>\n",
       "      <td>1.430326</td>\n",
       "    </tr>\n",
       "    <tr>\n",
       "      <th>177</th>\n",
       "      <td>2.666667</td>\n",
       "      <td>1.253886</td>\n",
       "    </tr>\n",
       "    <tr>\n",
       "      <th>178</th>\n",
       "      <td>2.666667</td>\n",
       "      <td>0.826286</td>\n",
       "    </tr>\n",
       "    <tr>\n",
       "      <th>179</th>\n",
       "      <td>2.666667</td>\n",
       "      <td>1.173647</td>\n",
       "    </tr>\n",
       "    <tr>\n",
       "      <th>180</th>\n",
       "      <td>3.000000</td>\n",
       "      <td>1.046271</td>\n",
       "    </tr>\n",
       "    <tr>\n",
       "      <th>181</th>\n",
       "      <td>3.000000</td>\n",
       "      <td>0.659764</td>\n",
       "    </tr>\n",
       "    <tr>\n",
       "      <th>182</th>\n",
       "      <td>3.000000</td>\n",
       "      <td>0.784727</td>\n",
       "    </tr>\n",
       "    <tr>\n",
       "      <th>183</th>\n",
       "      <td>3.000000</td>\n",
       "      <td>0.154190</td>\n",
       "    </tr>\n",
       "    <tr>\n",
       "      <th>184</th>\n",
       "      <td>3.000000</td>\n",
       "      <td>0.878124</td>\n",
       "    </tr>\n",
       "    <tr>\n",
       "      <th>185</th>\n",
       "      <td>3.000000</td>\n",
       "      <td>0.825026</td>\n",
       "    </tr>\n",
       "    <tr>\n",
       "      <th>186</th>\n",
       "      <td>3.000000</td>\n",
       "      <td>0.359343</td>\n",
       "    </tr>\n",
       "    <tr>\n",
       "      <th>187</th>\n",
       "      <td>3.000000</td>\n",
       "      <td>0.887751</td>\n",
       "    </tr>\n",
       "    <tr>\n",
       "      <th>188</th>\n",
       "      <td>3.000000</td>\n",
       "      <td>0.712476</td>\n",
       "    </tr>\n",
       "    <tr>\n",
       "      <th>189</th>\n",
       "      <td>3.000000</td>\n",
       "      <td>0.204730</td>\n",
       "    </tr>\n",
       "    <tr>\n",
       "      <th>190</th>\n",
       "      <td>3.000000</td>\n",
       "      <td>1.130443</td>\n",
       "    </tr>\n",
       "    <tr>\n",
       "      <th>191</th>\n",
       "      <td>3.000000</td>\n",
       "      <td>0.275745</td>\n",
       "    </tr>\n",
       "    <tr>\n",
       "      <th>192</th>\n",
       "      <td>3.000000</td>\n",
       "      <td>0.377422</td>\n",
       "    </tr>\n",
       "    <tr>\n",
       "      <th>193</th>\n",
       "      <td>3.000000</td>\n",
       "      <td>0.481464</td>\n",
       "    </tr>\n",
       "    <tr>\n",
       "      <th>194</th>\n",
       "      <td>3.000000</td>\n",
       "      <td>0.866714</td>\n",
       "    </tr>\n",
       "    <tr>\n",
       "      <th>195</th>\n",
       "      <td>3.000000</td>\n",
       "      <td>0.142382</td>\n",
       "    </tr>\n",
       "    <tr>\n",
       "      <th>196</th>\n",
       "      <td>3.000000</td>\n",
       "      <td>0.519004</td>\n",
       "    </tr>\n",
       "    <tr>\n",
       "      <th>197</th>\n",
       "      <td>3.000000</td>\n",
       "      <td>0.778586</td>\n",
       "    </tr>\n",
       "    <tr>\n",
       "      <th>198</th>\n",
       "      <td>3.000000</td>\n",
       "      <td>0.198753</td>\n",
       "    </tr>\n",
       "    <tr>\n",
       "      <th>199</th>\n",
       "      <td>3.000000</td>\n",
       "      <td>0.213415</td>\n",
       "    </tr>\n",
       "  </tbody>\n",
       "</table>\n",
       "<p>200 rows × 2 columns</p>\n",
       "</div>"
      ],
      "text/plain": [
       "       inputs  observations\n",
       "0    0.000000      0.699419\n",
       "1    0.000000      0.213726\n",
       "2    0.000000      0.986283\n",
       "3    0.000000      0.712970\n",
       "4    0.000000      0.295952\n",
       "5    0.000000      0.560998\n",
       "6    0.000000      0.321673\n",
       "7    0.000000      0.380603\n",
       "8    0.000000      0.571308\n",
       "9    0.000000      0.259300\n",
       "10   0.000000      0.734963\n",
       "11   0.000000      0.427707\n",
       "12   0.000000      0.445899\n",
       "13   0.000000      0.022490\n",
       "14   0.000000      0.526582\n",
       "15   0.000000      0.362149\n",
       "16   0.000000      0.074752\n",
       "17   0.000000      0.830265\n",
       "18   0.000000      0.783371\n",
       "19   0.000000      0.267895\n",
       "20   0.333333      0.755807\n",
       "21   0.333333      0.946527\n",
       "22   0.333333      0.381782\n",
       "23   0.333333      1.141661\n",
       "24   0.333333      0.715091\n",
       "25   0.333333      0.618228\n",
       "26   0.333333      1.101183\n",
       "27   0.333333      0.642123\n",
       "28   0.333333      1.133254\n",
       "29   0.333333      1.025058\n",
       "..        ...           ...\n",
       "170  2.666667      1.262049\n",
       "171  2.666667      1.081964\n",
       "172  2.666667      1.012992\n",
       "173  2.666667      1.000378\n",
       "174  2.666667      1.114866\n",
       "175  2.666667      0.907465\n",
       "176  2.666667      1.430326\n",
       "177  2.666667      1.253886\n",
       "178  2.666667      0.826286\n",
       "179  2.666667      1.173647\n",
       "180  3.000000      1.046271\n",
       "181  3.000000      0.659764\n",
       "182  3.000000      0.784727\n",
       "183  3.000000      0.154190\n",
       "184  3.000000      0.878124\n",
       "185  3.000000      0.825026\n",
       "186  3.000000      0.359343\n",
       "187  3.000000      0.887751\n",
       "188  3.000000      0.712476\n",
       "189  3.000000      0.204730\n",
       "190  3.000000      1.130443\n",
       "191  3.000000      0.275745\n",
       "192  3.000000      0.377422\n",
       "193  3.000000      0.481464\n",
       "194  3.000000      0.866714\n",
       "195  3.000000      0.142382\n",
       "196  3.000000      0.519004\n",
       "197  3.000000      0.778586\n",
       "198  3.000000      0.198753\n",
       "199  3.000000      0.213415\n",
       "\n",
       "[200 rows x 2 columns]"
      ]
     },
     "execution_count": 83,
     "metadata": {},
     "output_type": "execute_result"
    }
   ],
   "source": [
    "# generate data for line plot\n",
    "xs = np.repeat(np.arange(10)/3,20)\n",
    "ys = np.sin(xs) + np.random.rand(len(xs))\n",
    "df = pd.DataFrame({'inputs':xs,'observations':ys})\n",
    "df"
   ]
  },
  {
   "cell_type": "code",
   "execution_count": 84,
   "metadata": {},
   "outputs": [
    {
     "data": {
      "text/plain": [
       "(0, 2)"
      ]
     },
     "execution_count": 84,
     "metadata": {},
     "output_type": "execute_result"
    },
    {
     "data": {
      "image/png": "[encoded data removed]",
      "text/plain": [
       "<Figure size 432x288 with 1 Axes>"
      ]
     },
     "metadata": {},
     "output_type": "display_data"
    }
   ],
   "source": [
    "# first, plotting a regular scatterplot to show the amount of noise in data\n",
    "plt.scatter(df['inputs'],df['observations'])\n",
    "plt.ylim(0,2)"
   ]
  },
  {
   "cell_type": "code",
   "execution_count": 85,
   "metadata": {},
   "outputs": [
    {
     "name": "stderr",
     "output_type": "stream",
     "text": [
      "/Users/nickblauch/anaconda/envs/python3/lib/python3.6/site-packages/scipy/stats/stats.py:1713: FutureWarning: Using a non-tuple sequence for multidimensional indexing is deprecated; use `arr[tuple(seq)]` instead of `arr[seq]`. In the future this will be interpreted as an array index, `arr[np.array(seq)]`, which will result either in an error or a different result.\n",
      "  return np.add.reduce(sorted[indexer] * weights, axis=axis) / sumval\n"
     ]
    },
    {
     "data": {
      "text/plain": [
       "(0, 2)"
      ]
     },
     "execution_count": 85,
     "metadata": {},
     "output_type": "execute_result"
    },
    {
     "data": {
      "image/png": "[encoded data removed]",
      "text/plain": [
       "<Figure size 432x288 with 1 Axes>"
      ]
     },
     "metadata": {},
     "output_type": "display_data"
    }
   ],
   "source": [
    "# for line plots, data sets typically have many measurements (y values) for each x value\n",
    "# seaborn is able to automatically compute error bars\n",
    "\n",
    "# also notice the multiple ways of passing data to seaborn\n",
    "ax = sns.lineplot(x='inputs',y='observations',data=df,ci=99)\n",
    "\n",
    "ax.set_title('this is a matplotlib axis and can be edited as such', fontsize=16)\n",
    "ax.set_ylim(0,2)"
   ]
  },
  {
   "cell_type": "markdown",
   "metadata": {},
   "source": [
    "## Scientific functionality with scipy --- remove from tutorial\n",
    "\n",
    "Scipy is a core module for doing science in Python. There are extensive tutorials online along with a clear API. We will cover a few important use cases for neuroscience research."
   ]
  },
  {
   "cell_type": "markdown",
   "metadata": {},
   "source": [
    "### computing distances between points in multidimensional space - related to clustering"
   ]
  },
  {
   "cell_type": "code",
   "execution_count": 163,
   "metadata": {},
   "outputs": [
    {
     "data": {
      "image/png": "[encoded data removed]",
      "text/plain": [
       "<Figure size 432x288 with 2 Axes>"
      ]
     },
     "metadata": {},
     "output_type": "display_data"
    }
   ],
   "source": [
    "import numpy as np\n",
    "from scipy.spatial.distance import pdist, squareform\n",
    "import matplotlib.pyplot as plt\n",
    "import seaborn as sns\n",
    "\n",
    "# generate some random data from a standard normal distribution\n",
    "X = np.random.normal(loc=0, scale=1.0, size=(50,100)) # 50 points in 100D space\n",
    "\n",
    "# this will get us a flattened vector of pairwise distances for all points \n",
    "X_dists_vec = pdist(X, 'euclidean')\n",
    "# this will reshape the flattened vector to an nxn matrix of pairwise distances\n",
    "X_dists_mat = squareform(X_dists_vec)\n",
    "\n",
    "plt.imshow(X_dists_mat, cmap='viridis')\n",
    "plt.colorbar(label='Pairwise Euclidean distance')\n",
    "plt.show()"
   ]
  },
  {
   "cell_type": "code",
   "execution_count": 87,
   "metadata": {},
   "outputs": [
    {
     "data": {
      "image/png": "[encoded data removed]",
      "text/plain": [
       "<Figure size 792x216 with 6 Axes>"
      ]
     },
     "metadata": {},
     "output_type": "display_data"
    }
   ],
   "source": [
    "# let's try a few different distance metrics\n",
    "dist_mets = ['euclidean', 'cosine', 'cityblock']\n",
    "fig, axs = plt.subplots(1, len(dist_mets), figsize=(11,3))\n",
    "for ii, dist_met in enumerate(dist_mets):\n",
    "    X_dists = squareform(pdist(X, dist_met))\n",
    "    sns.heatmap(X_dists, ax=axs[ii], square=True, cbar_kws={'label': 'Pairwise distance'})\n",
    "    axs[ii].set_title(f'{dist_met}')\n",
    "plt.tight_layout()\n",
    "plt.show()"
   ]
  },
  {
   "cell_type": "markdown",
   "metadata": {},
   "source": [
    "### computing correlations - example for stats review"
   ]
  },
  {
   "cell_type": "code",
   "execution_count": 88,
   "metadata": {},
   "outputs": [
    {
     "name": "stdout",
     "output_type": "stream",
     "text": [
      "Pearson correlation:\n",
      " r = 0.0729 \n",
      " p= 0.4711\n"
     ]
    }
   ],
   "source": [
    "import scipy.special\n",
    "from scipy.stats import pearsonr, spearmanr\n",
    "\n",
    "# generate some random data\n",
    "x1 = np.random.normal(0, 1.0, [100])\n",
    "x2 = np.random.normal(0, 1.0, [100])\n",
    "\n",
    "# the most common correlation is the Pearson correlation\n",
    "r, p = pearsonr(x1, x2)\n",
    "\n",
    "print(f'Pearson correlation:\\n r = {r:.04f} \\n p= {p:.04f}')"
   ]
  },
  {
   "cell_type": "code",
   "execution_count": 89,
   "metadata": {},
   "outputs": [
    {
     "name": "stdout",
     "output_type": "stream",
     "text": [
      "Spearman correlation:\n",
      " r = 0.0226 \n",
      " p= 0.8237\n"
     ]
    }
   ],
   "source": [
    "# we can also use the very common Spearman rank correlation\n",
    "r, p = spearmanr(x1, x2)\n",
    "print(f'Spearman correlation:\\n r = {r:.04f} \\n p= {p:.04f}')"
   ]
  },
  {
   "cell_type": "markdown",
   "metadata": {},
   "source": [
    "### performing t-tests - maybe also for stats review\n",
    "\n",
    "A t-test allows you to determine whether two sets of measurements likely arose from distributions with different means. These measurements might be independent sets of measurements (i.e, two groups), or related sets of measurements (i.e. one group performing two tasks) "
   ]
  },
  {
   "cell_type": "code",
   "execution_count": 90,
   "metadata": {},
   "outputs": [],
   "source": [
    "# for independent data, e.g. two groups of subjects performing the same task \n",
    "t, p = scipy.stats.ttest_ind(x1, x2)\n",
    "# for repeated measurements of the same system, e.g. one subject performs a task with/without a manipulation\n",
    "t, p = scipy.stats.ttest_rel(x1, x2)"
   ]
  },
  {
   "cell_type": "markdown",
   "metadata": {},
   "source": [
    "### Z-scoring to ensure different variables are on a common scale - example for data standardization / preprocessing"
   ]
  },
  {
   "cell_type": "code",
   "execution_count": 91,
   "metadata": {},
   "outputs": [
    {
     "data": {
      "image/png": "[encoded data removed]",
      "text/plain": [
       "<Figure size 720x288 with 4 Axes>"
      ]
     },
     "metadata": {},
     "output_type": "display_data"
    }
   ],
   "source": [
    "X = np.hstack((np.random.normal(0, 1.0, [40, 20]), np.random.normal(0, 3.0, [40,20])))\n",
    "X_z = scipy.stats.zscore(X, ) # Z-scores columns \n",
    "fig, axs = plt.subplots(1, 2, figsize=(10,4))\n",
    "g = sns.heatmap(X, ax=axs[0], square=True)\n",
    "g.set_title('Raw data')\n",
    "g = sns.heatmap(X_z, ax=axs[1], square=True)\n",
    "g.set_title('Z-scored data')\n",
    "plt.tight_layout()\n",
    "plt.show()"
   ]
  },
  {
   "cell_type": "markdown",
   "metadata": {},
   "source": [
    "Remember, if there is anything else you need to do in Python, first google \"<that thing> in Python\". Don't reinvent the wheel, build a car! "
   ]
  },
  {
   "cell_type": "markdown",
   "metadata": {},
   "source": [
    "## Machine learning with scikit-learn - remove from tutorial, create examples for various quant methods\n",
    "\n",
    "Scikit-learn is the de facto machine learning toolbox for Python (not including deep learning). It also has a fantastic API for exploring what is possible:\n",
    "- https://scikit-learn.org/stable/modules/classes.html\n",
    "\n",
    "Some things you can do:\n",
    "- Linear and nonlinear dimensionality reduction, regression, and classification\n",
    "- Clustering\n",
    "- Fancy types of cross-validation\n",
    "- feature selection \n",
    "- compute lots of different metrics of model performance\n",
    "- implementing new machine learning algorithms using a common object-oriented interface \n",
    "- develop sophisticated and clean pipelines for a reproducible machine learning / data analysis workflow \n",
    "\n",
    "We will cover scikit-learn in a future exercise. Feel free to check it out on your own time, too. "
   ]
  },
  {
   "cell_type": "markdown",
   "metadata": {},
   "source": [
    "## Deep learning with pytorch - remove from tutorial\n",
    "\n",
    "Most deep learning research in 2020 is done in Python using either PyTorch or Tensorflow. Most researchers (definitely at CMU) prefer PyTorch due to its more intuitive native interface (but see Keras for Tensorflow), more flexible dynamic graphs, and resultingly easier debugging experience. Industry tends to prefer Tensorflow since the static graphs run faster under certain circumstances. Both are highly capable. \n",
    "\n",
    "Pytorch is capable of:\n",
    "- accelerating parallel computation by using a graphics processing card, with a very similar interface to numpy \n",
    "- training deep convolutional neural networks for computer vision tasks\n",
    "- training recurrent neural networks for natural language processing and other dynamic tasks\n",
    "- implementing state-of-the-art machine learning code, since so many researchers release their code publicly in PyTorch, and new important contributions are quickly incorporated into the pytorch API\n",
    "\n",
    "We will cover pytorch in a future exercise. Feel free to check it out on your own time, too. "
   ]
  },
  {
   "cell_type": "markdown",
   "metadata": {},
   "source": [
    "# A good code organization for projects\n",
    "\n",
    "Projects can easily get disorganized if you do not begin with a well-thought-out organization scheme. Taking the time up front to be organized will save you time later when you inevitably have to refactor your project to make it more readable for others, either those who might start working on the project with you, or others interacting with your code in order to e.g. reproduce the results of your paper.\n",
    "\n",
    "We like the organization provided here: https://gist.github.com/ericmjl/27e50331f24db3e8f957d1fe7bbbe510 , and provide a short summary below\n",
    "\n",
    "Python code is meant to be organized hierarchically in modules. This will get you pretty far in code organization. Here is a totally made up example of some code that you might organize during this bootcamp. Don't read too much into it, as most of the assignments you will be working on will be simple enough to complete in 1-2 files, and so they won't need a fancy organization. We are trying to help you think ahead to your research. \n",
    "\n",
    "If we are in the project directory, the file-tree might look something like this:\n",
    "\n",
    "```\n",
    "README.md\n",
    "upnc/\n",
    "upnc/__init__.py\n",
    "upnc/ephys/\n",
    "upnc/ephys/__init__.py\n",
    "upnc/ephys/loading.py\n",
    "upnc/ephys/temporal_processing.py\n",
    "upnc/behavior/parse_eyelink.py\n",
    "upnc/behavior/parse_behavior.py\n",
    "upnc/behavior/__init__.py\n",
    "data/\n",
    "data/raw/\n",
    "data/processed/\n",
    "data/processed/smith_exp_spikes.mat\n",
    "scripts/analyze_smith_data.py\n",
    "scripts/plot_smith_data.py\n",
    "notebooks/plot_smith_data.ipynb\n",
    "```\n",
    "The main themes are: a `README.md` file which explains the code base (markdown renders nicely automatically on GitHub, try this out), a module `upnc` containing sub-modules `ephys` and `behavior`, and a `scripts` directory containing analysis scripts that call functions organized neatly in the modules. Separating scripts and functions generally makes for a more organized code experience. Finally, you might also want to separate `notebooks` and `scripts`, where `notebooks` are more exploratory and focused on plotting, and scripts are more for crunching numbers and saving outputs to disk. \n",
    "\n",
    "Keep in mind, if you want to import your code as, e.g., `import upnc`, or `from upnc.ephys import temporal_processing`, you will need to make sure the code is on the path in whatever folder you are in.\n",
    "\n",
    "If scripts are run from the project directory (which is common), you can do:\n",
    "```Python\n",
    "import sys\n",
    "sys.path.append('.')\n",
    "import upnc\n",
    "```\n",
    "For scripts run from the scripts directory, along with notebooks (which default to run from their own directory), do:\n",
    "```Python\n",
    "import sys\n",
    "sys.path.append('..')\n",
    "import upnc\n",
    "```"
   ]
  },
  {
   "cell_type": "code",
   "execution_count": null,
   "metadata": {},
   "outputs": [],
   "source": []
  }
 ],
 "metadata": {
  "kernelspec": {
   "display_name": "Python 3",
   "language": "python",
   "name": "python3"
  },
  "language_info": {
   "codemirror_mode": {
    "name": "ipython",
    "version": 3
   },
   "file_extension": ".py",
   "mimetype": "text/x-python",
   "name": "python",
   "nbconvert_exporter": "python",
   "pygments_lexer": "ipython3",
   "version": "3.7.7"
  },
  "toc-autonumbering": true,
  "toc-showmarkdowntxt": false,
  "toc-showtags": false
 },
 "nbformat": 4,
 "nbformat_minor": 4
}
