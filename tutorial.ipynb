{
 "cells": [
  {
   "cell_type": "markdown",
   "metadata": {},
   "source": [
    "# Introduction to Python\n",
    "by Nick Blauch and Matt Clapp"
   ]
  },
  {
   "cell_type": "markdown",
   "metadata": {},
   "source": [
    "Python is one of the most popular general purpose programming languages, and it has also been developed to serve as a complete replacement for numerical computing languages like MATLAB. In this tutorial we will cover some of the basic principles of programming in Python, along with simple use cases for some of the most useful packages for scientific computing. However, **we can only scratch the surface here** and we encourage you to do a lot more research on your own time. "
   ]
  },
  {
   "cell_type": "markdown",
   "metadata": {},
   "source": [
    "## General themes \n",
    "\n",
    "- Python is an object-oriented language\n",
    "    - this means that \"objects\" - defined by their class methods and properties - are given a special status in Python. They are, according to the Python creator Guido van Rossum, \"first class\"\n",
    "    - rather than simply writing functions that operate on generic inputs, you should try to organize your code to utilize objects, with classes that have their own functions (methods). More on this later.\n",
    "    - this allows you to take advantage of concepts such as inheritance and encapsulation, which we will discuss later\n",
    "- There are several ways to execute Python code. \n",
    "    - You can see the setup guide we developed for more information on that. \n",
    "    - For the UPNC we will be using JupyterLab and primarily Jupyter Notebooks. \n",
    "    - When it comes to writing code to do more intensive analyses, or for larger projects, we do not recommend Jupyter Notebooks. Rather, you should write Python files that can depend on each other, allowing you to cleanly organize your code.\n",
    "- Python is excellent for data science\n",
    "- Python is excellent for machine learning\n",
    "- Python is excellent for neuroscience"
   ]
  },
  {
   "cell_type": "markdown",
   "metadata": {},
   "source": [
    "## What Jupyter notebooks are and are not:"
   ]
  },
  {
   "cell_type": "markdown",
   "metadata": {},
   "source": [
    "Jupyter notebooks are a great tool for:\n",
    "- simple analyses\n",
    "- prototyping new analyses\n",
    "- visualizing your data\n",
    "- developing interactive exercises and tutorials\n",
    "\n",
    "Jupyter notebooks are not:\n",
    "- a complete replacement for .py files\n",
    "- easily tracked with version control (since their underlying representation is not simply human-readable text\n",
    "- meant for intense analyses that need to maximally take advantage of parallel computation\n",
    "\n",
    "Now that we know what Jupyter Notebooks are and are not, we can take advantage of their amazing functionality and ease-of-use for this tutorial. We will also be using them for many of the exercises to come in the uPNC."
   ]
  },
  {
   "cell_type": "markdown",
   "metadata": {},
   "source": [
    "## Variables and different built in object types\n",
    "\n",
    "Let's start by covering the basic variable types, how to use them, and some simple operations that can be done on them."
   ]
  },
  {
   "cell_type": "code",
   "execution_count": 1,
   "metadata": {},
   "outputs": [
    {
     "name": "stdout",
     "output_type": "stream",
     "text": [
      "<class 'int'>\n",
      "12.0\n",
      "<class 'float'>\n"
     ]
    }
   ],
   "source": [
    "# we can store values in variables\n",
    "a = 12 # defaults to int\n",
    "# we can do some math on those variables\n",
    "b = a*12\n",
    "print(type(b))\n",
    "# in Python 3, division automatically converts to float\n",
    "print(b/12)\n",
    "print(type(b/12))"
   ]
  },
  {
   "cell_type": "markdown",
   "metadata": {},
   "source": [
    "### Multi-element arrays: lists and tuples"
   ]
  },
  {
   "cell_type": "code",
   "execution_count": 2,
   "metadata": {},
   "outputs": [
    {
     "name": "stdout",
     "output_type": "stream",
     "text": [
      "[12, 14, 12, 144]\n",
      "[[12, 14, 12, 144], [12, 14, 12, 144]]\n",
      "[[12, 14, 12, 144], [12, 14, 12, 144]]\n"
     ]
    }
   ],
   "source": [
    "# we can store multiple values in a list\n",
    "my_list = [12, 14, a, b]\n",
    "print(my_list)\n",
    "# we can compose a list of lists\n",
    "my_double_list = [my_list, my_list]\n",
    "print(my_double_list)\n",
    "my_list = [12, 14]\n",
    "print(my_double_list)"
   ]
  },
  {
   "cell_type": "code",
   "execution_count": 3,
   "metadata": {},
   "outputs": [
    {
     "name": "stdout",
     "output_type": "stream",
     "text": [
      "12\n",
      "14\n",
      "[12, 14]\n"
     ]
    }
   ],
   "source": [
    "# indexing into lists - \n",
    "first_el = my_list[0] # Python is 0-based\n",
    "last_el = my_list[-1] #the last element can be acquired with index -1\n",
    "# we can use colon indexing to get multiple variables. \n",
    "first_two_els = my_list[0:2] # last index is given by last number - 1\n",
    "print(first_el)\n",
    "print(last_el)\n",
    "print(first_two_els)"
   ]
  },
  {
   "cell_type": "code",
   "execution_count": 4,
   "metadata": {},
   "outputs": [],
   "source": [
    "# tuples are another form of multi-element array created with () notation\n",
    "my_tuple = (12, 14.0) # like lists, they can store elements of different types"
   ]
  },
  {
   "cell_type": "markdown",
   "metadata": {},
   "source": [
    "### Mutability\n",
    "\n",
    "Mutability is an important concept and defines the difference between lists and tuples.\n",
    "\n",
    "- Mutable objects can be changed after creation\n",
    "    - built-in types: list, dict, set\n",
    "- Immutable objects cannot be changed after creation\n",
    "    - built-in types: int, float, complex, string, tuple, frozen set\n"
   ]
  },
  {
   "cell_type": "code",
   "execution_count": 5,
   "metadata": {},
   "outputs": [
    {
     "name": "stdout",
     "output_type": "stream",
     "text": [
      "[12, 14, 12]\n",
      "[12, 14, 100]\n"
     ]
    }
   ],
   "source": [
    "# if we construct a list including int objects, changing value of the pointer to the int object won't affect the int in the list, which is immutable\n",
    "a = 12\n",
    "my_list = [12, 14, a]\n",
    "a = 100\n",
    "print(my_list)\n",
    "# however the list itself can be modified\n",
    "my_list[-1] = a\n",
    "print(my_list)"
   ]
  },
  {
   "cell_type": "code",
   "execution_count": 6,
   "metadata": {},
   "outputs": [
    {
     "name": "stdout",
     "output_type": "stream",
     "text": [
      "(12, 14, 100)\n"
     ]
    },
    {
     "ename": "TypeError",
     "evalue": "'tuple' object does not support item assignment",
     "output_type": "error",
     "traceback": [
      "\u001b[0;31m---------------------------------------------------------------------------\u001b[0m",
      "\u001b[0;31mTypeError\u001b[0m                                 Traceback (most recent call last)",
      "\u001b[0;32m<ipython-input-6-09a7650222d8>\u001b[0m in \u001b[0;36m<module>\u001b[0;34m()\u001b[0m\n\u001b[1;32m      2\u001b[0m \u001b[0mmy_tuple\u001b[0m \u001b[0;34m=\u001b[0m \u001b[0;34m(\u001b[0m\u001b[0;36m12\u001b[0m\u001b[0;34m,\u001b[0m \u001b[0;36m14\u001b[0m\u001b[0;34m,\u001b[0m \u001b[0ma\u001b[0m\u001b[0;34m)\u001b[0m\u001b[0;34m\u001b[0m\u001b[0;34m\u001b[0m\u001b[0m\n\u001b[1;32m      3\u001b[0m \u001b[0mprint\u001b[0m\u001b[0;34m(\u001b[0m\u001b[0mmy_tuple\u001b[0m\u001b[0;34m)\u001b[0m\u001b[0;34m\u001b[0m\u001b[0;34m\u001b[0m\u001b[0m\n\u001b[0;32m----> 4\u001b[0;31m \u001b[0mmy_tuple\u001b[0m\u001b[0;34m[\u001b[0m\u001b[0;34m-\u001b[0m\u001b[0;36m1\u001b[0m\u001b[0;34m]\u001b[0m \u001b[0;34m=\u001b[0m \u001b[0;36m12\u001b[0m \u001b[0;31m# can't change elements of a tuple!\u001b[0m\u001b[0;34m\u001b[0m\u001b[0;34m\u001b[0m\u001b[0m\n\u001b[0m",
      "\u001b[0;31mTypeError\u001b[0m: 'tuple' object does not support item assignment"
     ]
    }
   ],
   "source": [
    "# Python also has tuples, which are immutable. replace [] of lists with () for tuple\n",
    "my_tuple = (12, 14, a)\n",
    "print(my_tuple)\n",
    "my_tuple[-1] = 12 # can't change elements of a tuple! "
   ]
  },
  {
   "cell_type": "markdown",
   "metadata": {},
   "source": [
    "### Dictionaries\n",
    "\n",
    "Dictionaries are one of the most useful built-in types in Python. \n",
    "\n",
    "They are essentially look up tables of key:value pairs.\n",
    "\n",
    "In new versions of Python, all dictionaries are ordered"
   ]
  },
  {
   "cell_type": "code",
   "execution_count": 7,
   "metadata": {},
   "outputs": [
    {
     "name": "stdout",
     "output_type": "stream",
     "text": [
      "computational neuroscience\n",
      "\n"
     ]
    }
   ],
   "source": [
    "# dictionaries can be created with curly bracket syntax or the built-in dict function\n",
    "my_dict = {'best_language': 'Python', 'best_research_field': 'computational neuroscience'}\n",
    "my_dict_2 = dict(best_language='Python', best_research_field='computational neuroscience')\n",
    "# and we can index into values using square brackets indexed by the key\n",
    "print(my_dict['best_research_field'])\n",
    "print()"
   ]
  },
  {
   "cell_type": "code",
   "execution_count": 8,
   "metadata": {},
   "outputs": [
    {
     "name": "stdout",
     "output_type": "stream",
     "text": [
      "best_language\n",
      "best_research_field\n"
     ]
    }
   ],
   "source": [
    "# we can loop over dictionary values\n",
    "for val in my_dict:\n",
    "    print(val)"
   ]
  },
  {
   "cell_type": "code",
   "execution_count": 9,
   "metadata": {},
   "outputs": [
    {
     "name": "stdout",
     "output_type": "stream",
     "text": [
      "best_language: val\n",
      "best_research_field: val\n"
     ]
    }
   ],
   "source": [
    "# using .items() gives both the key and value for each iteration\n",
    "for key, val in my_dict.items():\n",
    "    print(f'{key}: val')"
   ]
  },
  {
   "cell_type": "code",
   "execution_count": 10,
   "metadata": {},
   "outputs": [
    {
     "name": "stdout",
     "output_type": "stream",
     "text": [
      "0-th item is best_language: Python\n",
      "1-th item is best_research_field: computational neuroscience\n"
     ]
    }
   ],
   "source": [
    "# remember we can use enumerate to get the index, too\n",
    "for ii, (key, val) in enumerate(my_dict.items()):\n",
    "    print(f'{ii}-th item is {key}: {val}')\n",
    "    "
   ]
  },
  {
   "cell_type": "code",
   "execution_count": 11,
   "metadata": {},
   "outputs": [
    {
     "name": "stdout",
     "output_type": "stream",
     "text": [
      "{'Python': 'best_language', 'computational neuroscience': 'best_research_field'}\n"
     ]
    }
   ],
   "source": [
    "# dictionary comprehensions are also possible, similar to list comprehensions\n",
    "inverse_dict = {val: key for key, val in my_dict.items()}\n",
    "print(inverse_dict)"
   ]
  },
  {
   "cell_type": "markdown",
   "metadata": {},
   "source": [
    "## Basics of object-oriented programming\n",
    "\n",
    "In object-oriented languages such as Python, everything is an object, which is defined by its class. Different classes have different properties and methods, and classes can properties and methods *inherit* from other classes"
   ]
  },
  {
   "cell_type": "code",
   "execution_count": 12,
   "metadata": {},
   "outputs": [
    {
     "name": "stdout",
     "output_type": "stream",
     "text": [
      "<class 'int'>\n"
     ]
    }
   ],
   "source": [
    "# everything is an object, defined by a class. what is 4?\n",
    "a = 4\n",
    "print(type(a))"
   ]
  },
  {
   "cell_type": "code",
   "execution_count": 13,
   "metadata": {},
   "outputs": [
    {
     "name": "stdout",
     "output_type": "stream",
     "text": [
      "['__abs__', '__add__', '__and__', '__bool__', '__ceil__', '__class__', '__delattr__', '__dir__', '__divmod__', '__doc__', '__eq__', '__float__', '__floor__', '__floordiv__', '__format__', '__ge__', '__getattribute__', '__getnewargs__', '__gt__', '__hash__', '__index__', '__init__', '__init_subclass__', '__int__', '__invert__', '__le__', '__lshift__', '__lt__', '__mod__', '__mul__', '__ne__', '__neg__', '__new__', '__or__', '__pos__', '__pow__', '__radd__', '__rand__', '__rdivmod__', '__reduce__', '__reduce_ex__', '__repr__', '__rfloordiv__', '__rlshift__', '__rmod__', '__rmul__', '__ror__', '__round__', '__rpow__', '__rrshift__', '__rshift__', '__rsub__', '__rtruediv__', '__rxor__', '__setattr__', '__sizeof__', '__str__', '__sub__', '__subclasshook__', '__truediv__', '__trunc__', '__xor__', 'bit_length', 'conjugate', 'denominator', 'from_bytes', 'imag', 'numerator', 'real', 'to_bytes']\n",
      "\n"
     ]
    }
   ],
   "source": [
    "# the methods and properties of a class can be accessed with the built-in dir function\n",
    "print(dir(a))\n",
    "print() # we can just call print to get an extra line"
   ]
  },
  {
   "cell_type": "code",
   "execution_count": 14,
   "metadata": {},
   "outputs": [
    {
     "name": "stdout",
     "output_type": "stream",
     "text": [
      "<class 'builtin_function_or_method'>\n",
      "['__call__', '__class__', '__delattr__', '__dir__', '__doc__', '__eq__', '__format__', '__ge__', '__getattribute__', '__gt__', '__hash__', '__init__', '__init_subclass__', '__le__', '__lt__', '__module__', '__name__', '__ne__', '__new__', '__qualname__', '__reduce__', '__reduce_ex__', '__repr__', '__self__', '__setattr__', '__sizeof__', '__str__', '__subclasshook__', '__text_signature__']\n",
      "\n"
     ]
    }
   ],
   "source": [
    "# even dir is an object, technically\n",
    "print(type(dir))\n",
    "print(dir(dir))\n",
    "print()"
   ]
  },
  {
   "cell_type": "code",
   "execution_count": 15,
   "metadata": {},
   "outputs": [
    {
     "name": "stdout",
     "output_type": "stream",
     "text": [
      "<class 'list'>\n",
      "['__add__', '__class__', '__contains__', '__delattr__', '__delitem__', '__dir__', '__doc__', '__eq__', '__format__', '__ge__', '__getattribute__', '__getitem__', '__gt__', '__hash__', '__iadd__', '__imul__', '__init__', '__init_subclass__', '__iter__', '__le__', '__len__', '__lt__', '__mul__', '__ne__', '__new__', '__reduce__', '__reduce_ex__', '__repr__', '__reversed__', '__rmul__', '__setattr__', '__setitem__', '__sizeof__', '__str__', '__subclasshook__', 'append', 'clear', 'copy', 'count', 'extend', 'index', 'insert', 'pop', 'remove', 'reverse', 'sort']\n"
     ]
    }
   ],
   "source": [
    "# of course, lists are also objects\n",
    "l = [12, 14, 16]\n",
    "print(type(l))\n",
    "print(dir(l))"
   ]
  },
  {
   "cell_type": "code",
   "execution_count": 16,
   "metadata": {},
   "outputs": [
    {
     "name": "stdout",
     "output_type": "stream",
     "text": [
      "Help on list object:\n",
      "\n",
      "class list(object)\n",
      " |  list() -> new empty list\n",
      " |  list(iterable) -> new list initialized from iterable's items\n",
      " |  \n",
      " |  Methods defined here:\n",
      " |  \n",
      " |  __add__(self, value, /)\n",
      " |      Return self+value.\n",
      " |  \n",
      " |  __contains__(self, key, /)\n",
      " |      Return key in self.\n",
      " |  \n",
      " |  __delitem__(self, key, /)\n",
      " |      Delete self[key].\n",
      " |  \n",
      " |  __eq__(self, value, /)\n",
      " |      Return self==value.\n",
      " |  \n",
      " |  __ge__(self, value, /)\n",
      " |      Return self>=value.\n",
      " |  \n",
      " |  __getattribute__(self, name, /)\n",
      " |      Return getattr(self, name).\n",
      " |  \n",
      " |  __getitem__(...)\n",
      " |      x.__getitem__(y) <==> x[y]\n",
      " |  \n",
      " |  __gt__(self, value, /)\n",
      " |      Return self>value.\n",
      " |  \n",
      " |  __iadd__(self, value, /)\n",
      " |      Implement self+=value.\n",
      " |  \n",
      " |  __imul__(self, value, /)\n",
      " |      Implement self*=value.\n",
      " |  \n",
      " |  __init__(self, /, *args, **kwargs)\n",
      " |      Initialize self.  See help(type(self)) for accurate signature.\n",
      " |  \n",
      " |  __iter__(self, /)\n",
      " |      Implement iter(self).\n",
      " |  \n",
      " |  __le__(self, value, /)\n",
      " |      Return self<=value.\n",
      " |  \n",
      " |  __len__(self, /)\n",
      " |      Return len(self).\n",
      " |  \n",
      " |  __lt__(self, value, /)\n",
      " |      Return self<value.\n",
      " |  \n",
      " |  __mul__(self, value, /)\n",
      " |      Return self*value.\n",
      " |  \n",
      " |  __ne__(self, value, /)\n",
      " |      Return self!=value.\n",
      " |  \n",
      " |  __new__(*args, **kwargs) from builtins.type\n",
      " |      Create and return a new object.  See help(type) for accurate signature.\n",
      " |  \n",
      " |  __repr__(self, /)\n",
      " |      Return repr(self).\n",
      " |  \n",
      " |  __reversed__(...)\n",
      " |      L.__reversed__() -- return a reverse iterator over the list\n",
      " |  \n",
      " |  __rmul__(self, value, /)\n",
      " |      Return value*self.\n",
      " |  \n",
      " |  __setitem__(self, key, value, /)\n",
      " |      Set self[key] to value.\n",
      " |  \n",
      " |  __sizeof__(...)\n",
      " |      L.__sizeof__() -- size of L in memory, in bytes\n",
      " |  \n",
      " |  append(...)\n",
      " |      L.append(object) -> None -- append object to end\n",
      " |  \n",
      " |  clear(...)\n",
      " |      L.clear() -> None -- remove all items from L\n",
      " |  \n",
      " |  copy(...)\n",
      " |      L.copy() -> list -- a shallow copy of L\n",
      " |  \n",
      " |  count(...)\n",
      " |      L.count(value) -> integer -- return number of occurrences of value\n",
      " |  \n",
      " |  extend(...)\n",
      " |      L.extend(iterable) -> None -- extend list by appending elements from the iterable\n",
      " |  \n",
      " |  index(...)\n",
      " |      L.index(value, [start, [stop]]) -> integer -- return first index of value.\n",
      " |      Raises ValueError if the value is not present.\n",
      " |  \n",
      " |  insert(...)\n",
      " |      L.insert(index, object) -- insert object before index\n",
      " |  \n",
      " |  pop(...)\n",
      " |      L.pop([index]) -> item -- remove and return item at index (default last).\n",
      " |      Raises IndexError if list is empty or index is out of range.\n",
      " |  \n",
      " |  remove(...)\n",
      " |      L.remove(value) -> None -- remove first occurrence of value.\n",
      " |      Raises ValueError if the value is not present.\n",
      " |  \n",
      " |  reverse(...)\n",
      " |      L.reverse() -- reverse *IN PLACE*\n",
      " |  \n",
      " |  sort(...)\n",
      " |      L.sort(key=None, reverse=False) -> None -- stable sort *IN PLACE*\n",
      " |  \n",
      " |  ----------------------------------------------------------------------\n",
      " |  Data and other attributes defined here:\n",
      " |  \n",
      " |  __hash__ = None\n",
      "\n"
     ]
    }
   ],
   "source": [
    "# the help function can also be used, and is sometimes cleaner and more helpful ;) \n",
    "help(l)"
   ]
  },
  {
   "cell_type": "code",
   "execution_count": 17,
   "metadata": {},
   "outputs": [
    {
     "name": "stdout",
     "output_type": "stream",
     "text": [
      "16\n",
      "True\n"
     ]
    }
   ],
   "source": [
    "# an object's methods are accessed using dot syntax\n",
    "x = l.pop() # pops the last element in the list\n",
    "print(x)\n",
    "# note that general functions, such as dir, must exist in the namespace (either built-in, imported, or defined), and are called directly with objects as input\n",
    "# sometimes, these functions look for a specific class method defined for the object, which is what dir does\n",
    "print(dir(l) == sorted(l.__dir__()))"
   ]
  },
  {
   "cell_type": "markdown",
   "metadata": {},
   "source": [
    "### Underscores in names\n",
    "- in general, an object will have many methods or attributes with single or double underscores prepending and/or appending the name\n",
    "    - e.g., `list.__len__`\n",
    "- this syntax is sometimes purely convential, and sometimes functionally meaningful\n",
    "    - this guide provides a helpful analysis of this syntax, which we will cover here (https://dbader.org/blog/meaning-of-underscores-in-python)\n",
    "- `_var`:\n",
    "    - hint to another programmer that a variable or method starting with a single underscore is intended for internal use\n",
    "    - only functional role is that these methods will not be imported with the wildcard syntax (`from module import *`), which you should avoid anyway\n",
    "- `var_`:\n",
    "    - used if the relevant name is already taken, to avoid naming conflicts and allow laziness\n",
    "- `__var`:\n",
    "    - triggers \"name mangling\", which essentially allows a variable to be defined for a class and not overridden when a subclass is created\n",
    "    - prevents direct access as `object.__var` , and is rather changed to, `object.__classname__var`\n",
    "- `__var__`:\n",
    "    - indicates special methods defined by the Python language\n",
    "    - should be avoided for naming methods, except when implenting methods for which Python has defined a general purpose, such as `__init__` , `__call__`, or `__iter__` for your own classes\n",
    "    - no name mangling\n",
    "- `_` :\n",
    "    - temporary or insignificant variable\n",
    "    - gives the result of the last expression in a Python interpreter (including Jupyter Notebooks)"
   ]
  },
  {
   "cell_type": "markdown",
   "metadata": {},
   "source": [
    "### Creating our first custom class\n",
    "\n",
    "Using custom classes is an essential aspect of effective programming in Python.\n",
    "\n",
    "Let's create a simple class that we can use to represent people. This class must have an `__init__` method, and any other methods that we think would be important. "
   ]
  },
  {
   "cell_type": "code",
   "execution_count": 18,
   "metadata": {},
   "outputs": [],
   "source": [
    "class Person(object): # (object) means that Person inherits from object, the most generic object type. all custom classes must inherit from something \n",
    "    \"\"\"\n",
    "    A Person object is defined by its name, age, occupation, and (favorite programming) language\n",
    "    \n",
    "    The __init__ function defines the input parameters. Our function takes 4 inputs:\n",
    "    \n",
    "    name (str): the name of the person\n",
    "    age (int): the age of the person in years\n",
    "    occupation (str): the occupation of the person\n",
    "    language (str): the person's favorite programming language (default = 'Python')\n",
    "    \n",
    "    \"\"\"\n",
    "    def __init__(self, name: str, age: int, occupation: str, language: str = 'Python'):\n",
    "        super().__init__()\n",
    "        self.name = name\n",
    "        self.age = age\n",
    "        self.occupation = occupation\n",
    "        self.language = language\n",
    "    \n",
    "    def get_name(self):\n",
    "        # can you implement this?\n",
    "        raise NotImplementedError()\n",
    "        \n",
    "    def get_age(self):\n",
    "        # can you implement this?\n",
    "        raise NotImplementedError()    \n",
    "        \n",
    "    def get_occupation(self):\n",
    "        # can you implement this?\n",
    "        raise NotImplementedError()\n",
    "        \n",
    "    def get_language(self):\n",
    "        # can you implement this?\n",
    "        raise NotImplementedError()\n",
    "        \n",
    "## question: is there any reason to implement the functions that we listed above? if so, what? \n",
    " "
   ]
  },
  {
   "cell_type": "markdown",
   "metadata": {},
   "source": [
    "### Inheritance\n",
    "\n",
    "As mentioned earlier, all classes inherit from some other class. If we are defining a completely new class, the most basic class to inherit from is `Object`. However we can also inherit from more specific classes.\n",
    "\n",
    "Let's create the `GradStudent` class to demonstrate inheritance from the `Person` class. Writing this class will be quick since it will inherit most of its functionality from the `Person` class. The one difference is that we will specify the occupation in terms of the field of study and year of study to automatically compute the occupation."
   ]
  },
  {
   "cell_type": "code",
   "execution_count": 19,
   "metadata": {},
   "outputs": [
    {
     "name": "stdout",
     "output_type": "stream",
     "text": [
      "nick is a Year 2 neural computation graduate student\n"
     ]
    }
   ],
   "source": [
    "class GradStudent(Person):\n",
    "    \"\"\"\n",
    "    A grad student is a Person with occupation graduate student. \n",
    "    We can also specify the field of study and years of experience to make a more specific grad student\n",
    "    \"\"\"\n",
    "    def __init__(self, name: str, age: int, language: str = 'Python', field_of_study=None, years_of_experience=None):\n",
    "        field = f'{field_of_study}' if field_of_study is not None else ''\n",
    "        experience = f'Year {years_of_experience} ' if years_of_experience is not None else ''\n",
    "        occupation = f'{experience}{field_of_study} graduate student'\n",
    "        super().__init__(name, age, occupation, language)\n",
    "        \n",
    "nick = GradStudent('nick', 25, language='Python', field_of_study='neural computation', years_of_experience=2)\n",
    "print(f'{nick.name} is a {nick.occupation}')"
   ]
  },
  {
   "cell_type": "markdown",
   "metadata": {},
   "source": [
    "### Creating a simple function\n",
    "\n",
    "We have already seen class-specific functions (i.e. methods). But functions can also be created independently of classes, and used to operate on arbitrary inputs. "
   ]
  },
  {
   "cell_type": "code",
   "execution_count": 20,
   "metadata": {},
   "outputs": [
    {
     "name": "stdout",
     "output_type": "stream",
     "text": [
      "<class 'str'>\n"
     ]
    },
    {
     "data": {
      "text/plain": [
       "['hellohello', 'hellohellohello', 'hellohellohellohello']"
      ]
     },
     "execution_count": 20,
     "metadata": {},
     "output_type": "execute_result"
    }
   ],
   "source": [
    "def multiply(l: list, a: int) -> list:\n",
    "    \"\"\"\n",
    "    takes a list l and multiples it by an int or float a\n",
    "    \"\"\"\n",
    "    print(type(a))\n",
    "    x = [a*b for b in l]\n",
    "    return x\n",
    "\n",
    "multiply([2,3,4], 'hello')"
   ]
  },
  {
   "cell_type": "markdown",
   "metadata": {},
   "source": [
    "### `*args` and `**kwargs`\n",
    "\n",
    "You will often see `__init__` function calls include `*args` and/or ``**kwargs``. This allows additional unnamed arguments to be grouped into a tuple here called `args` (the name itself is arbitrary), and additional named arguments to be grouped into a dictionary here called `kwargs`.\n",
    "\n",
    "Some uses of this:\n",
    "- **Raw functionality**: writing a function which itself may depend on a variable number of inputs\n",
    "- **Cleaner code**: writing a function which depends on other functions that accept a variable number of inputs\n"
   ]
  },
  {
   "cell_type": "code",
   "execution_count": 21,
   "metadata": {},
   "outputs": [
    {
     "name": "stdout",
     "output_type": "stream",
     "text": [
      "['Nick', 'Matt']\n"
     ]
    }
   ],
   "source": [
    "# Raw functionality - we can replace args with a more informative name here\n",
    "def get_grad_student_names(*grad_students):\n",
    "    names = []\n",
    "    for grad_student in grad_students:\n",
    "        names.append(grad_student.name)\n",
    "    return names\n",
    "print(get_grad_student_names(\n",
    "    Person('Nick', 25, 'Neural computation graduate student', 'Python'),\n",
    "    Person('Matt', 23, 'Neural computation graduate student', 'Python'),\n",
    "                            )\n",
    "     )"
   ]
  },
  {
   "cell_type": "code",
   "execution_count": 22,
   "metadata": {},
   "outputs": [
    {
     "name": "stdout",
     "output_type": "stream",
     "text": [
      "mint chip\n"
     ]
    }
   ],
   "source": [
    "# more functionality AND cleaner code\n",
    "class uPNCStudent(Person):\n",
    "    \"\"\"\n",
    "    a uPNCStudent is a Person who is defined to be an undergraduate student.\n",
    "    \n",
    "    These students may also be allowed to have extra properties defined by the programmer\n",
    "    \n",
    "    \"\"\"\n",
    "    def __init__(self, name, age, language, **kwargs):\n",
    "        super().__init__(name, age, 'undergraduate student', language)\n",
    "        # this loop assigns all key, val pairs in kwargs directly to the uPNCStudent object\n",
    "        for key, val in kwargs.items():\n",
    "            setattr(self, key, val)\n",
    "\n",
    "joe = uPNCStudent('Joe', 19, 'Java', favorite_ice_cream='mint chip')\n",
    "print(joe.favorite_ice_cream)"
   ]
  },
  {
   "cell_type": "markdown",
   "metadata": {},
   "source": [
    "We can also use **unpacking** of a dictionary to specify the kwargs (or of a tuple to specify the args)"
   ]
  },
  {
   "cell_type": "code",
   "execution_count": 23,
   "metadata": {},
   "outputs": [
    {
     "name": "stdout",
     "output_type": "stream",
     "text": [
      "baseball\n"
     ]
    }
   ],
   "source": [
    "joe = uPNCStudent('Joe', 19, 'Java', **{'favorite_sport': 'baseball'})\n",
    "print(joe.favorite_sport)"
   ]
  },
  {
   "cell_type": "markdown",
   "metadata": {},
   "source": [
    "## String formatting\n",
    "\n",
    "Formatting strings is crucial for effectively naming files or variables programmatically with variables\n",
    "\n",
    "there are lots of ways to format strings. we will cover a few here. \n",
    "\n",
    "let's assume we have some variables that we want to use to print a message. perhaps you are looping through different people and want to know their occupation."
   ]
  },
  {
   "cell_type": "code",
   "execution_count": 24,
   "metadata": {},
   "outputs": [],
   "source": [
    "# let's create a few objects of type Person\n",
    "nick = Person('Nick', 25, 'Neural computation graduate student', 'Python')\n",
    "linda = Person('Linda', 50, 'Professor', 'Matlab')\n",
    "matt = Person('Matt', 23, 'Neural computation graduate student', 'Python')"
   ]
  },
  {
   "cell_type": "code",
   "execution_count": 25,
   "metadata": {},
   "outputs": [
    {
     "name": "stdout",
     "output_type": "stream",
     "text": [
      "Nick's occupation is Neural computation graduate student\n"
     ]
    }
   ],
   "source": [
    "# f-strings (new and very convenient)\n",
    "print(f\"{nick.name}'s occupation is {nick.occupation}\")"
   ]
  },
  {
   "cell_type": "code",
   "execution_count": 26,
   "metadata": {},
   "outputs": [
    {
     "name": "stdout",
     "output_type": "stream",
     "text": [
      "Linda's favorite programming language is Matlab\n"
     ]
    }
   ],
   "source": [
    "# .format() notation, somewhat similar to sprintf in matlab. compatible with older versions of Python\n",
    "print(\"{}'s favorite programming language is {}\".format(linda.name, linda.language))"
   ]
  },
  {
   "cell_type": "code",
   "execution_count": 27,
   "metadata": {},
   "outputs": [
    {
     "name": "stdout",
     "output_type": "stream",
     "text": [
      "Nick thinks that Matt is 23 years old\n"
     ]
    }
   ],
   "source": [
    "# string addition\n",
    "print(\"Nick thinks that \" + matt.name + \" is \" + str(matt.age) + \" years old\")"
   ]
  },
  {
   "cell_type": "markdown",
   "metadata": {},
   "source": [
    "## For-loops and list comprehensions\n",
    "\n",
    "Everybody probably knows about for loops. They are a great way to iterate through operations (but should be avoided when array operations are possible, to take advantage of multi-core processing, we will get to this). "
   ]
  },
  {
   "cell_type": "code",
   "execution_count": 28,
   "metadata": {},
   "outputs": [
    {
     "name": "stdout",
     "output_type": "stream",
     "text": [
      "0\n",
      "1\n",
      "2\n",
      "3\n",
      "4\n",
      "5\n",
      "6\n",
      "7\n",
      "8\n",
      "9\n"
     ]
    }
   ],
   "source": [
    "# in Python, we can specify a range of values using the range function\n",
    "for ii in range(10):\n",
    "    print(ii)"
   ]
  },
  {
   "cell_type": "markdown",
   "metadata": {},
   "source": [
    "Remember that Python is 0-based. We can also specify a non-zero starting point of range. The end point is the 2nd argument to range, and is actually the final number minus 1, such that `range(10)` gives a 10-element range starting at 0. If we want to iterate through the range of even positive integers less than 10 what would we do? "
   ]
  },
  {
   "cell_type": "code",
   "execution_count": 29,
   "metadata": {},
   "outputs": [
    {
     "name": "stdout",
     "output_type": "stream",
     "text": [
      "2\n",
      "4\n",
      "6\n",
      "8\n"
     ]
    }
   ],
   "source": [
    "for ii in range(2,10,2):\n",
    "    print(ii)"
   ]
  },
  {
   "cell_type": "markdown",
   "metadata": {},
   "source": [
    "The `enumerate` function is a great Python trick for quickly getting indices of a for loop iteration. If we want to know what index we are at for each iteration of the last function, we can do the folllowing:"
   ]
  },
  {
   "cell_type": "code",
   "execution_count": 30,
   "metadata": {},
   "outputs": [
    {
     "name": "stdout",
     "output_type": "stream",
     "text": [
      "the number at index 0 is 2\n",
      "the number at index 1 is 4\n",
      "the number at index 2 is 6\n",
      "the number at index 3 is 8\n"
     ]
    }
   ],
   "source": [
    "for ii, num in enumerate(range(2,10,2)):\n",
    "    print(f'the number at index {ii} is {num}')"
   ]
  },
  {
   "cell_type": "markdown",
   "metadata": {},
   "source": [
    "### List comprehensions\n",
    "Only Python users are probably familiar with list comprehensions. \n",
    "\n",
    "They are a bit quirky at first but most grow to love them for their simplicity and brevity"
   ]
  },
  {
   "cell_type": "code",
   "execution_count": 31,
   "metadata": {},
   "outputs": [
    {
     "name": "stdout",
     "output_type": "stream",
     "text": [
      "[2, 4, 6, 8]\n"
     ]
    }
   ],
   "source": [
    "# let's assume we have a list and want to iterate some operation over it\n",
    "my_list = [1, 2, 3, 4]\n",
    "my_doubled_list = [2*a for a in my_list] # yes, there are other ways to do this...to come\n",
    "print(my_doubled_list)"
   ]
  },
  {
   "cell_type": "markdown",
   "metadata": {},
   "source": [
    "# Python for data science: \n",
    "The data science \"stack\" includes some key packages\n",
    "- `Numpy` - numerical arrays and matrix computation\n",
    "- `Pandas` - dataframes (similar to those in R)\n",
    "- `Scipy` - scientific functions, including statistics \n",
    "- `Scikit-Learn` - machine learning powerhouse\n",
    "- `Matplotlib` - powerful plotting library\n",
    "- `Seaborn` - wrapper for Matplotlib that makes making beautiful and highly informative plots super easy "
   ]
  },
  {
   "cell_type": "markdown",
   "metadata": {},
   "source": [
    "## numpy"
   ]
  },
  {
   "cell_type": "code",
   "execution_count": 32,
   "metadata": {},
   "outputs": [
    {
     "name": "stdout",
     "output_type": "stream",
     "text": [
      "[[ 1.  1.  1. ...  1.  1.  1.]\n",
      " [ 0. 10.  0. ...  0.  0.  0.]\n",
      " [ 1.  1.  1. ...  1.  1.  1.]\n",
      " ...\n",
      " [ 0.  0.  0. ...  0.  0.  0.]\n",
      " [ 0.  0.  0. ...  0.  0.  0.]\n",
      " [ 0.  0.  0. ...  0.  0.  0.]]\n"
     ]
    }
   ],
   "source": [
    "# many packages have standard shorthand import names, such as np for numpy\n",
    "import numpy as np\n",
    "\n",
    "array = np.zeros((100,100)) # 100x100 array of zeros\n",
    "array[0, :] = 1 # set all elements in the first row to 1\n",
    "array[2, :] = 1 # set all elements in the 3rd row to 1\n",
    "array[1,1] = 10 # set the 2nd row, 2nd column element to 10\n",
    "print(array)"
   ]
  },
  {
   "cell_type": "code",
   "execution_count": 34,
   "metadata": {},
   "outputs": [
    {
     "name": "stdout",
     "output_type": "stream",
     "text": [
      "[1.  0.1 1.  0.  0.  0.  0.  0.  0.  0.  0.  0.  0.  0.  0.  0.  0.  0.\n",
      " 0.  0.  0.  0.  0.  0.  0.  0.  0.  0.  0.  0.  0.  0.  0.  0.  0.  0.\n",
      " 0.  0.  0.  0.  0.  0.  0.  0.  0.  0.  0.  0.  0.  0.  0.  0.  0.  0.\n",
      " 0.  0.  0.  0.  0.  0.  0.  0.  0.  0.  0.  0.  0.  0.  0.  0.  0.  0.\n",
      " 0.  0.  0.  0.  0.  0.  0.  0.  0.  0.  0.  0.  0.  0.  0.  0.  0.  0.\n",
      " 0.  0.  0.  0.  0.  0.  0.  0.  0.  0. ]\n",
      "[ 2. 12.  2.  2.  2.  2.  2.  2.  2.  2.  2.  2.  2.  2.  2.  2.  2.  2.\n",
      "  2.  2.  2.  2.  2.  2.  2.  2.  2.  2.  2.  2.  2.  2.  2.  2.  2.  2.\n",
      "  2.  2.  2.  2.  2.  2.  2.  2.  2.  2.  2.  2.  2.  2.  2.  2.  2.  2.\n",
      "  2.  2.  2.  2.  2.  2.  2.  2.  2.  2.  2.  2.  2.  2.  2.  2.  2.  2.\n",
      "  2.  2.  2.  2.  2.  2.  2.  2.  2.  2.  2.  2.  2.  2.  2.  2.  2.  2.\n",
      "  2.  2.  2.  2.  2.  2.  2.  2.  2.  2.]\n",
      "0.1719273102215003\n"
     ]
    }
   ],
   "source": [
    "# we can do simple things like compute sums, means and standard deviations of rows, columns, or the whole array\n",
    "mean_rows = np.mean(array, 1) # take the mean over the column dimension to give the mean for each row\n",
    "sum_cols = np.sum(array, 0) \n",
    "std_array = np.std(array) # if no axis is specified, the array is flattened and then the mean/sum/std is taken \n",
    "print(mean_rows)\n",
    "print(sum_cols)\n",
    "print(std_array)"
   ]
  },
  {
   "cell_type": "markdown",
   "metadata": {},
   "source": [
    "## organizing your data with pandas dataframes"
   ]
  },
  {
   "cell_type": "markdown",
   "metadata": {},
   "source": [
    "## plotting with matplotlib and seaborn"
   ]
  },
  {
   "cell_type": "markdown",
   "metadata": {},
   "source": [
    "## Scientific functionality with scipy"
   ]
  },
  {
   "cell_type": "markdown",
   "metadata": {},
   "source": [
    "## Machine learning with scikit-learn "
   ]
  },
  {
   "cell_type": "markdown",
   "metadata": {},
   "source": [
    "## Deep learning with torch"
   ]
  },
  {
   "cell_type": "markdown",
   "metadata": {},
   "source": [
    "# A good code organization for projects\n",
    "\n",
    "Projects can easily get disorganized if you do not begin with a well-thought-out organization scheme. Taking the time up front to be organized will save you time later when you inevitably have to refactor your project to make it more readable for others, either those who might start working on the project with you, or others interacting with your code in order to e.g. reproduce the results of your paper.\n",
    "\n",
    "Python code is meant to be organized hierarchically in modules. This will get you pretty far in code organization. Here is a totally made up example of some code that you might organize during this bootcamp. Don't read too much into it, as most of the assignments you will be working on will be simple enough to complete in 1-2 files, and so they won't need a fancy organization. We are trying to help you think ahead to your research. \n",
    "```\n",
    "README.md\n",
    "upnc/\n",
    "upnc/__init__.py\n",
    "upnc/ephys/\n",
    "upnc/ephys/__init__.py\n",
    "upnc/ephys/loading.py\n",
    "upnc/ephys/temporal_processing.py\n",
    "upnc/behavior/parse_eyelink.py\n",
    "upnc/behavior/parse_behavior.py\n",
    "upnc/behavior/__init__.py\n",
    "scripts/analyze_smith_data.py\n",
    "scripts/plot_smith_data.py\n",
    "notebooks/plot_smith_data.ipynb\n",
    "```\n",
    "The main themes are: a `README.md` file which explains the code base (markdown renders nicely automatically on GitHub, try this out), a module `upnc` containing sub-modules `ephys` and `behavior`, and a `scripts` directory containing analysis scripts that call functions organized neatly in the modules. Separating scripts and functions generally makes for a more organized code experience. Finally, you might also want to separate notebooks and scripts, where notebooks are more exploratory and focused on plotting, and scripts are more for crunching numbers and saving outputs to disk.  "
   ]
  },
  {
   "cell_type": "code",
   "execution_count": null,
   "metadata": {},
   "outputs": [],
   "source": []
  },
  {
   "cell_type": "code",
   "execution_count": null,
   "metadata": {},
   "outputs": [],
   "source": []
  },
  {
   "cell_type": "code",
   "execution_count": null,
   "metadata": {},
   "outputs": [],
   "source": []
  }
 ],
 "metadata": {
  "kernelspec": {
   "display_name": "Python 3",
   "language": "python",
   "name": "python3"
  },
  "language_info": {
   "codemirror_mode": {
    "name": "ipython",
    "version": 3
   },
   "file_extension": ".py",
   "mimetype": "text/x-python",
   "name": "python",
   "nbconvert_exporter": "python",
   "pygments_lexer": "ipython3",
   "version": "3.6.10"
  },
  "toc-autonumbering": true,
  "toc-showmarkdowntxt": false,
  "toc-showtags": false
 },
 "nbformat": 4,
 "nbformat_minor": 4
}
